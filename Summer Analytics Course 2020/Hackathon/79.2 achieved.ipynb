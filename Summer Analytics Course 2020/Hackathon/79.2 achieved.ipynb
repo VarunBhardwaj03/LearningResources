{
 "cells": [
  {
   "cell_type": "code",
   "execution_count": 3,
   "metadata": {},
   "outputs": [],
   "source": [
    "import pandas as pd\n",
    "from matplotlib import pyplot as plt\n",
    "%matplotlib inline\n",
    "import seaborn as sns\n",
    "from sklearn.metrics import confusion_matrix\n",
    "from sklearn.metrics import accuracy_score\n",
    "from sklearn.model_selection import train_test_split\n",
    "import numpy as np"
   ]
  },
  {
   "cell_type": "markdown",
   "metadata": {},
   "source": [
    "# COLLECTING THE DATA"
   ]
  },
  {
   "cell_type": "code",
   "execution_count": 4,
   "metadata": {},
   "outputs": [],
   "source": [
    "train = pd.read_csv('train.csv')\n",
    "assign = pd.read_csv('test.csv')"
   ]
  },
  {
   "cell_type": "markdown",
   "metadata": {},
   "source": [
    "# CHOOSING MEASURE OF SUCCESS \n",
    "SINCE THE GIVEN DATA IS AN EXAMPLE OF CLASSIFICATION PROBLEM, Hence we will use RECALL , PRECISION and ACCURACY"
   ]
  },
  {
   "cell_type": "code",
   "execution_count": 5,
   "metadata": {},
   "outputs": [],
   "source": [
    "def success(y_train , y_pred):\n",
    "    cm_tr  = confusion_matrix(y_train, y_pred).ravel()\n",
    "\n",
    "    precision_tr = cm_tr[3]/(cm_tr[3]+cm_tr[1])\n",
    "    recall_tr = cm_tr[3]/(cm_tr[3]+cm_tr[2])\n",
    "\n",
    "    '''print('PRECISION : ' , precision_tr)\n",
    "    print('RECALL    : ' , recall_tr)\n",
    "    print('ACCURACY : ' , accuracy_score(y_train, y_pred))\n",
    "    K = 2*(precision_tr * recall_tr)/(precision_tr+ recall_tr)\n",
    "    print('F2 SCORE :' , K)'''\n",
    "    return accuracy_score(y_train, y_pred)"
   ]
  },
  {
   "cell_type": "markdown",
   "metadata": {},
   "source": [
    "# PREPARING THE DATA "
   ]
  },
  {
   "cell_type": "markdown",
   "metadata": {},
   "source": [
    "### HANDLING MISSING VALUE "
   ]
  },
  {
   "cell_type": "code",
   "execution_count": 6,
   "metadata": {
    "scrolled": true
   },
   "outputs": [
    {
     "data": {
      "text/plain": [
       "<matplotlib.axes._subplots.AxesSubplot at 0x7f72b95327d0>"
      ]
     },
     "execution_count": 6,
     "metadata": {},
     "output_type": "execute_result"
    },
    {
     "data": {
      "image/png": "[encoded data removed]",
      "text/plain": [
       "<Figure size 432x288 with 1 Axes>"
      ]
     },
     "metadata": {
      "needs_background": "light"
     },
     "output_type": "display_data"
    }
   ],
   "source": [
    "sns.heatmap(train.isnull(),yticklabels=False,cbar=False,cmap='viridis')\n",
    "#THERE ARE NO MISSING VALUES IN THE DATA"
   ]
  },
  {
   "cell_type": "markdown",
   "metadata": {},
   "source": [
    "# Checking for skewed data"
   ]
  },
  {
   "cell_type": "code",
   "execution_count": 7,
   "metadata": {},
   "outputs": [],
   "source": [
    "from scipy import stats"
   ]
  },
  {
   "cell_type": "code",
   "execution_count": 8,
   "metadata": {},
   "outputs": [],
   "source": [
    "age_boxcox = stats.boxcox(train['Age'])[0]\n",
    "train['Age'] = pd.Series(age_boxcox)\n",
    "\n",
    "dist_boxcox = stats.boxcox(train['DistanceFromHome'])[0]\n",
    "train['DistanceFromHome'] = pd.Series(dist_boxcox)\n",
    "\n",
    "mi_boxcox = stats.boxcox(train['MonthlyIncome']+2)[0]\n",
    "train['MonthlyIncome'] = pd.Series(mi_boxcox)\n",
    "\n",
    "psh_boxcox = stats.boxcox(train['PercentSalaryHike'])[0]\n",
    "train['PercentSalaryHike'] = pd.Series(psh_boxcox)\n",
    "\n",
    "twy_boxcox = stats.boxcox(train['TotalWorkingYears']+5)[0]\n",
    "train['TotalWorkingYears'] = pd.Series(twy_boxcox)\n",
    "\n",
    "yac_boxcox = stats.boxcox(train['YearsAtCompany']+1)[0]\n",
    "train['YearsAtCompany'] = pd.Series(yac_boxcox)\n",
    "\n",
    "yr_boxcox = stats.boxcox(train['YearsInCurrentRole']+1.5)[0]\n",
    "train['YearsInCurrentRole'] = pd.Series(yr_boxcox)\n",
    "\n",
    "lp_boxcox = stats.boxcox(train['YearsSinceLastPromotion']+0.1)[0]\n",
    "train['YearsSinceLastPromotion'] = pd.Series(lp_boxcox)\n",
    "\n",
    "cm_boxcox = stats.boxcox(train['YearsWithCurrManager']+1)[0]\n",
    "train['YearsWithCurrManager'] = pd.Series(cm_boxcox)"
   ]
  },
  {
   "cell_type": "code",
   "execution_count": 9,
   "metadata": {},
   "outputs": [],
   "source": [
    "m_boxcox = (stats.boxcox(assign['YearsWithCurrManager']+1)[0])\n",
    "assign['YearsWithCurrManager'] = pd.Series(m_boxcox)\n",
    "\n",
    "lp_boxcox = stats.boxcox(assign['YearsSinceLastPromotion']+0.01)[0]\n",
    "assign['YearsSinceLastPromotion'] = pd.Series(lp_boxcox)\n",
    "\n",
    "yr_boxcox = stats.boxcox(assign['YearsInCurrentRole']+1.5)[0]\n",
    "assign['YearsInCurrentRole'] = pd.Series(yr_boxcox)\n",
    "\n",
    "yac_boxcox = stats.boxcox(assign['YearsAtCompany']+1)[0]\n",
    "assign['YearsAtCompany'] = pd.Series(yac_boxcox)\n",
    "\n",
    "twy_boxcox = stats.boxcox(assign['TotalWorkingYears']+5)[0]\n",
    "assign['TotalWorkingYears'] = pd.Series(twy_boxcox)\n",
    "\n",
    "psh_boxcox = stats.boxcox(assign['PercentSalaryHike'])[0]\n",
    "assign['PercentSalaryHike'] = pd.Series(psh_boxcox)\n",
    "\n",
    "mi_boxcox = stats.boxcox(assign['MonthlyIncome']+2)[0]\n",
    "assign['MonthlyIncome'] = pd.Series(mi_boxcox)\n",
    "\n",
    "dist_boxcox = stats.boxcox(assign['DistanceFromHome'])[0]\n",
    "assign['DistanceFromHome'] = pd.Series(dist_boxcox)\n",
    "\n",
    "age_boxcox = stats.boxcox(assign['Age'])[0]\n",
    "assign['Age'] = pd.Series(age_boxcox)"
   ]
  },
  {
   "cell_type": "markdown",
   "metadata": {},
   "source": [
    "# Setting an Evaluation Protocol \n",
    "### 1.Maintaining a Hold Out Validation Set"
   ]
  },
  {
   "cell_type": "code",
   "execution_count": 10,
   "metadata": {},
   "outputs": [],
   "source": [
    "X_train,X_test ,y_train,y_test =  train_test_split(train.drop(['Attrition' , 'Id'] , axis = 1) , train['Attrition'],test_size=0.1)\n",
    "X_assign = assign.drop(['Id'] , axis = 1)"
   ]
  },
  {
   "cell_type": "markdown",
   "metadata": {},
   "source": [
    "### Handling Caterogical Data"
   ]
  },
  {
   "cell_type": "code",
   "execution_count": 11,
   "metadata": {},
   "outputs": [],
   "source": [
    "X_train = pd.get_dummies(X_train , columns = ['OverTime','JobRole','BusinessTravel','Department','EducationField','Gender','MaritalStatus' ] , drop_first = True)\n",
    "X_test = pd.get_dummies(X_test , columns = ['OverTime','JobRole','BusinessTravel','Department','EducationField','Gender','MaritalStatus' ] , drop_first = True)\n",
    "X_assign = pd.get_dummies(X_assign , columns = ['OverTime','JobRole','BusinessTravel','Department','EducationField','Gender','MaritalStatus' ] , drop_first = True)"
   ]
  },
  {
   "cell_type": "markdown",
   "metadata": {},
   "source": [
    "# FEATURE SCALLING  "
   ]
  },
  {
   "cell_type": "code",
   "execution_count": 12,
   "metadata": {
    "scrolled": true
   },
   "outputs": [],
   "source": [
    "from sklearn import preprocessing\n",
    "X_train_initial = pd.DataFrame(preprocessing.scale(X_train) , columns = X_train.columns)\n",
    "X_test_scaled =pd.DataFrame(preprocessing.scale(X_test) , columns = X_test.columns)\n",
    "X_assign_scaled = pd.DataFrame(preprocessing.scale(X_assign) , columns = X_assign.columns)"
   ]
  },
  {
   "cell_type": "markdown",
   "metadata": {},
   "source": [
    "# FEATURE SELECTION "
   ]
  },
  {
   "cell_type": "code",
   "execution_count": 13,
   "metadata": {
    "scrolled": true
   },
   "outputs": [
    {
     "data": {
      "image/png": "[encoded data removed]",
      "text/plain": [
       "<Figure size 432x288 with 1 Axes>"
      ]
     },
     "metadata": {
      "needs_background": "light"
     },
     "output_type": "display_data"
    }
   ],
   "source": [
    "from sklearn.ensemble import ExtraTreesClassifier\n",
    "import matplotlib.pyplot as plt\n",
    "model = ExtraTreesClassifier()\n",
    "model.fit(X_train_initial, y_train)\n",
    "feat_importances = pd.Series(model.feature_importances_ , index= X_train_initial.columns)\n",
    "feat_importances.nlargest(41).plot(kind='barh')\n",
    "plt.show()"
   ]
  },
  {
   "cell_type": "code",
   "execution_count": 14,
   "metadata": {
    "scrolled": true
   },
   "outputs": [],
   "source": [
    "X_train_pca = X_train_initial.drop(['Behaviour'],axis=1).copy()\n",
    "X_test_scaled = X_test_scaled.drop(['Behaviour'],axis=1)\n",
    "X_assign_scaled = X_assign_scaled.drop(['Behaviour'],axis=1)"
   ]
  },
  {
   "cell_type": "code",
   "execution_count": null,
   "metadata": {},
   "outputs": [],
   "source": []
  },
  {
   "cell_type": "markdown",
   "metadata": {},
   "source": [
    "### 6.2 Cross Validation (K-fold)"
   ]
  },
  {
   "cell_type": "code",
   "execution_count": 15,
   "metadata": {},
   "outputs": [],
   "source": [
    "from sklearn.model_selection import KFold\n",
    "from sklearn.model_selection import cross_val_score\n",
    "k_fold = KFold(n_splits=50, shuffle=True, random_state=0)"
   ]
  },
  {
   "cell_type": "markdown",
   "metadata": {},
   "source": [
    "# LOGISTIC REGRESSION"
   ]
  },
  {
   "cell_type": "code",
   "execution_count": 16,
   "metadata": {
    "scrolled": false
   },
   "outputs": [],
   "source": [
    "from sklearn.linear_model import LogisticRegression\n",
    "LR = LogisticRegression()"
   ]
  },
  {
   "cell_type": "code",
   "execution_count": 18,
   "metadata": {},
   "outputs": [
    {
     "name": "stdout",
     "output_type": "stream",
     "text": [
      "[0.86666667 0.8        0.56666667 0.73333333 0.8        0.8\n",
      " 0.8        0.86666667 0.76666667 0.83333333 0.73333333 0.76666667\n",
      " 0.7        0.8        0.8        0.82758621 0.79310345 0.72413793\n",
      " 0.75862069 0.79310345 0.68965517 0.96551724 0.86206897 0.79310345\n",
      " 0.62068966 0.93103448 0.82758621 0.82758621 0.79310345 0.79310345\n",
      " 0.79310345 0.89655172 0.72413793 0.75862069 0.79310345 0.82758621\n",
      " 0.72413793 0.72413793 0.86206897 0.5862069  0.72413793 0.82758621\n",
      " 0.72413793 0.72413793 0.68965517 0.86206897 0.68965517 0.75862069\n",
      " 0.75862069 0.79310345]\n"
     ]
    },
    {
     "data": {
      "text/plain": [
       "77.75"
      ]
     },
     "execution_count": 18,
     "metadata": {},
     "output_type": "execute_result"
    }
   ],
   "source": [
    "scoring = 'accuracy'\n",
    "score = cross_val_score(LR,X_train_pca,y_train, cv=k_fold, n_jobs=1, scoring=scoring)\n",
    "print(score)\n",
    "round(np.mean(score)*100, 2)"
   ]
  },
  {
   "cell_type": "code",
   "execution_count": 19,
   "metadata": {},
   "outputs": [
    {
     "data": {
      "text/plain": [
       "0.7904436860068259"
      ]
     },
     "execution_count": 19,
     "metadata": {},
     "output_type": "execute_result"
    }
   ],
   "source": [
    "LR.fit(X_train_pca, y_train)\n",
    "train_pred = LR.predict(X_train_pca)\n",
    "success(y_train , train_pred)\n"
   ]
  },
  {
   "cell_type": "markdown",
   "metadata": {},
   "source": [
    "# SVM CLASSIFIER"
   ]
  },
  {
   "cell_type": "code",
   "execution_count": 20,
   "metadata": {
    "scrolled": true
   },
   "outputs": [
    {
     "data": {
      "text/plain": [
       "SVC(C=1.0, break_ties=False, cache_size=200, class_weight=None, coef0=0.0,\n",
       "    decision_function_shape='ovr', degree=3, gamma='scale', kernel='rbf',\n",
       "    max_iter=-1, probability=False, random_state=None, shrinking=True,\n",
       "    tol=0.001, verbose=False)"
      ]
     },
     "execution_count": 20,
     "metadata": {},
     "output_type": "execute_result"
    }
   ],
   "source": [
    "from sklearn.svm import SVC\n",
    "SVC = SVC()\n",
    "SVC.fit(X_train_pca , y_train)"
   ]
  },
  {
   "cell_type": "code",
   "execution_count": 21,
   "metadata": {},
   "outputs": [
    {
     "name": "stdout",
     "output_type": "stream",
     "text": [
      "[0.96666667 0.96666667 0.76666667 0.9        0.96666667 1.\n",
      " 0.93333333 0.93333333 0.9        0.96666667 0.96666667 0.9\n",
      " 0.86666667 0.9        0.9        1.         0.82758621 0.96551724\n",
      " 0.93103448 0.86206897 0.93103448 1.         0.93103448 0.93103448\n",
      " 0.93103448 1.         0.93103448 0.96551724 0.96551724 0.89655172\n",
      " 0.89655172 1.         0.89655172 0.93103448 0.96551724 0.89655172\n",
      " 0.86206897 0.79310345 0.96551724 0.82758621 0.89655172 0.89655172\n",
      " 1.         0.93103448 0.89655172 1.         0.86206897 1.\n",
      " 0.96551724 0.93103448]\n"
     ]
    },
    {
     "data": {
      "text/plain": [
       "92.63"
      ]
     },
     "execution_count": 21,
     "metadata": {},
     "output_type": "execute_result"
    }
   ],
   "source": [
    "scoring = 'accuracy'\n",
    "score = cross_val_score(SVC ,X_train_pca,y_train, cv=k_fold, n_jobs=1, scoring=scoring)\n",
    "print(score)\n",
    "round(np.mean(score)*100, 2)"
   ]
  },
  {
   "cell_type": "code",
   "execution_count": 22,
   "metadata": {
    "scrolled": true
   },
   "outputs": [
    {
     "data": {
      "text/plain": [
       "0.967235494880546"
      ]
     },
     "execution_count": 22,
     "metadata": {},
     "output_type": "execute_result"
    }
   ],
   "source": [
    "SVC.fit(X_train_pca, y_train)\n",
    "train_pred = SVC.predict(X_train_pca)\n",
    "success(y_train , train_pred)\n"
   ]
  },
  {
   "cell_type": "markdown",
   "metadata": {},
   "source": [
    "# DECISION TREE CLASSIFIER"
   ]
  },
  {
   "cell_type": "code",
   "execution_count": 23,
   "metadata": {
    "scrolled": true
   },
   "outputs": [],
   "source": [
    "from sklearn.tree import DecisionTreeClassifier\n",
    "DTC = DecisionTreeClassifier()\n",
    "scoring = 'accuracy'\n",
    "score = cross_val_score(DTC ,X_train_pca,y_train, cv=k_fold, n_jobs=1, scoring=scoring)\n",
    "print(score)\n",
    "round(np.mean(score)*100, 2)\n",
    "DTC.fit(X_train_pca, y_train)\n",
    "train_pred = DTC.predict(X_train_pca)\n",
    "success(y_train , train_pred)"
   ]
  },
  {
   "cell_type": "code",
   "execution_count": 24,
   "metadata": {
    "scrolled": true
   },
   "outputs": [
    {
     "name": "stdout",
     "output_type": "stream",
     "text": [
      "[0.93333333 0.9        0.9        0.96666667 1.         0.96666667\n",
      " 0.93333333 0.83333333 0.93333333 1.         0.93333333 0.9\n",
      " 0.9        0.9        0.96666667 0.96551724 0.89655172 0.96551724\n",
      " 0.96551724 0.93103448 0.89655172 1.         0.89655172 0.96551724\n",
      " 0.86206897 0.93103448 0.93103448 0.93103448 0.93103448 0.96551724\n",
      " 0.96551724 0.93103448 1.         0.96551724 0.96551724 0.89655172\n",
      " 0.96551724 0.82758621 0.96551724 0.89655172 0.93103448 0.96551724\n",
      " 0.96551724 0.96551724 0.93103448 0.93103448 0.89655172 0.93103448\n",
      " 0.93103448 0.96551724]\n"
     ]
    },
    {
     "data": {
      "text/plain": [
       "93.59"
      ]
     },
     "execution_count": 24,
     "metadata": {},
     "output_type": "execute_result"
    }
   ],
   "source": [
    "scoring = 'accuracy'\n",
    "score = cross_val_score(DTC ,X_train_pca,y_train, cv=k_fold, n_jobs=1, scoring=scoring)\n",
    "print(score)\n",
    "round(np.mean(score)*100, 2)\n"
   ]
  },
  {
   "cell_type": "code",
   "execution_count": 25,
   "metadata": {},
   "outputs": [
    {
     "data": {
      "text/plain": [
       "1.0"
      ]
     },
     "execution_count": 25,
     "metadata": {},
     "output_type": "execute_result"
    }
   ],
   "source": [
    "DTC.fit(X_train_pca, y_train)\n",
    "train_pred = DTC.predict(X_train_pca)\n",
    "success(y_train , train_pred)\n"
   ]
  },
  {
   "cell_type": "markdown",
   "metadata": {},
   "source": [
    "# RANDOM FOREST CLASSIFIER "
   ]
  },
  {
   "cell_type": "code",
   "execution_count": 26,
   "metadata": {
    "scrolled": false
   },
   "outputs": [],
   "source": [
    "from sklearn.ensemble import RandomForestClassifier\n",
    "RFC = RandomForestClassifier(n_estimators = 200 , max_depth = 175 , min_samples_split = 4)"
   ]
  },
  {
   "cell_type": "code",
   "execution_count": 27,
   "metadata": {
    "scrolled": true
   },
   "outputs": [
    {
     "name": "stdout",
     "output_type": "stream",
     "text": [
      "[0.96666667 0.96666667 1.         0.96666667 1.         0.96666667\n",
      " 1.         0.93333333 1.         1.         1.         0.93333333\n",
      " 0.96666667 1.         0.96666667 1.         0.96551724 1.\n",
      " 0.96551724 0.96551724 0.96551724 1.         0.96551724 0.96551724\n",
      " 1.         0.96551724 1.         0.96551724 1.         1.\n",
      " 0.96551724 1.         1.         0.96551724 0.96551724 0.93103448\n",
      " 1.         1.         0.96551724 0.96551724 0.96551724 0.96551724\n",
      " 1.         1.         1.         1.         0.96551724 1.\n",
      " 1.         1.        ]\n"
     ]
    },
    {
     "data": {
      "text/plain": [
       "98.09"
      ]
     },
     "execution_count": 27,
     "metadata": {},
     "output_type": "execute_result"
    }
   ],
   "source": [
    "scoring = 'accuracy'\n",
    "score = cross_val_score(RFC ,X_train_pca,y_train, cv=k_fold, n_jobs=1, scoring=scoring)\n",
    "print(score)\n",
    "round(np.mean(score)*100, 2)"
   ]
  },
  {
   "cell_type": "code",
   "execution_count": 28,
   "metadata": {
    "scrolled": false
   },
   "outputs": [
    {
     "data": {
      "text/plain": [
       "1.0"
      ]
     },
     "execution_count": 28,
     "metadata": {},
     "output_type": "execute_result"
    }
   ],
   "source": [
    "RFC.fit(X_train_pca, y_train)\n",
    "train_pred = RFC.predict(X_train_pca)\n",
    "success(y_train , train_pred)\n"
   ]
  },
  {
   "cell_type": "markdown",
   "metadata": {},
   "source": [
    "# NEURAL NETWORK"
   ]
  },
  {
   "cell_type": "code",
   "execution_count": 29,
   "metadata": {
    "scrolled": true
   },
   "outputs": [],
   "source": [
    "from sklearn.neural_network import MLPClassifier\n",
    "MLP = MLPClassifier(max_iter = 1000)"
   ]
  },
  {
   "cell_type": "code",
   "execution_count": 30,
   "metadata": {
    "scrolled": true
   },
   "outputs": [
    {
     "name": "stdout",
     "output_type": "stream",
     "text": [
      "[0.96666667 1.         0.9        0.96666667 0.96666667 0.96666667\n",
      " 0.9        0.96666667 0.93333333 0.96666667 1.         0.86666667\n",
      " 0.86666667 1.         0.93333333 1.         0.86206897 1.\n",
      " 0.96551724 0.93103448 0.96551724 1.         0.93103448 0.93103448\n",
      " 0.93103448 1.         0.96551724 0.93103448 0.96551724 0.96551724\n",
      " 1.         1.         0.93103448 0.89655172 0.96551724 0.93103448\n",
      " 0.96551724 0.96551724 0.96551724 0.89655172 0.93103448 0.96551724\n",
      " 1.         0.96551724 0.96551724 1.         0.93103448 0.96551724\n",
      " 0.96551724 0.93103448]\n"
     ]
    },
    {
     "data": {
      "text/plain": [
       "95.37"
      ]
     },
     "execution_count": 30,
     "metadata": {},
     "output_type": "execute_result"
    }
   ],
   "source": [
    "scoring = 'accuracy'\n",
    "score = cross_val_score(MLP ,X_train_pca,y_train, cv=k_fold, n_jobs=1, scoring=scoring)\n",
    "print(score)\n",
    "round(np.mean(score)*100, 2)"
   ]
  },
  {
   "cell_type": "code",
   "execution_count": 31,
   "metadata": {
    "scrolled": true
   },
   "outputs": [
    {
     "data": {
      "text/plain": [
       "1.0"
      ]
     },
     "execution_count": 31,
     "metadata": {},
     "output_type": "execute_result"
    }
   ],
   "source": [
    "MLP.fit(X_train_pca, y_train)\n",
    "train_pred = MLP.predict(X_train_pca)\n",
    "success(y_train , train_pred)"
   ]
  },
  {
   "cell_type": "markdown",
   "metadata": {},
   "source": [
    "# Stochastic Gradient Descent"
   ]
  },
  {
   "cell_type": "code",
   "execution_count": 32,
   "metadata": {
    "scrolled": false
   },
   "outputs": [],
   "source": [
    "from sklearn.linear_model import SGDClassifier\n",
    "SGD = SGDClassifier()"
   ]
  },
  {
   "cell_type": "code",
   "execution_count": 33,
   "metadata": {
    "scrolled": false
   },
   "outputs": [
    {
     "name": "stdout",
     "output_type": "stream",
     "text": [
      "[0.66666667 0.83333333 0.66666667 0.7        0.8        0.7\n",
      " 0.7        0.76666667 0.7        0.86666667 0.7        0.73333333\n",
      " 0.6        0.8        0.73333333 0.75862069 0.72413793 0.79310345\n",
      " 0.75862069 0.68965517 0.65517241 0.93103448 0.75862069 0.79310345\n",
      " 0.55172414 0.86206897 0.75862069 0.68965517 0.75862069 0.79310345\n",
      " 0.75862069 0.72413793 0.68965517 0.72413793 0.86206897 0.65517241\n",
      " 0.75862069 0.72413793 0.86206897 0.65517241 0.75862069 0.79310345\n",
      " 0.75862069 0.75862069 0.72413793 0.82758621 0.72413793 0.68965517\n",
      " 0.62068966 0.68965517]\n"
     ]
    },
    {
     "data": {
      "text/plain": [
       "74.0"
      ]
     },
     "execution_count": 33,
     "metadata": {},
     "output_type": "execute_result"
    }
   ],
   "source": [
    "scoring = 'accuracy'\n",
    "score = cross_val_score(SGD ,X_train_pca,y_train, cv=k_fold, n_jobs=1, scoring=scoring)\n",
    "print(score)\n",
    "round(np.mean(score)*100, 2)"
   ]
  },
  {
   "cell_type": "code",
   "execution_count": 34,
   "metadata": {},
   "outputs": [
    {
     "data": {
      "text/plain": [
       "0.7460750853242321"
      ]
     },
     "execution_count": 34,
     "metadata": {},
     "output_type": "execute_result"
    }
   ],
   "source": [
    "SGD.fit(X_train_pca, y_train)\n",
    "train_pred = SGD.predict(X_train_pca)\n",
    "success(y_train , train_pred)"
   ]
  },
  {
   "cell_type": "markdown",
   "metadata": {},
   "source": [
    "# SAVING PREDICTIONS INTO CSV FILE \n"
   ]
  },
  {
   "cell_type": "code",
   "execution_count": 886,
   "metadata": {
    "scrolled": true
   },
   "outputs": [
    {
     "data": {
      "text/plain": [
       "(470, 41)"
      ]
     },
     "execution_count": 886,
     "metadata": {},
     "output_type": "execute_result"
    }
   ],
   "source": [
    "X_assign.shape"
   ]
  },
  {
   "cell_type": "code",
   "execution_count": 887,
   "metadata": {},
   "outputs": [
    {
     "data": {
      "text/plain": [
       "(470, 39)"
      ]
     },
     "execution_count": 887,
     "metadata": {},
     "output_type": "execute_result"
    }
   ],
   "source": [
    "X_assign_scaled.shape"
   ]
  },
  {
   "cell_type": "code",
   "execution_count": 50,
   "metadata": {
    "scrolled": true
   },
   "outputs": [],
   "source": [
    "SVC.fit(X_train_pca, y_train)\n",
    "prediction = SVC.predict(X_assign_scaled)\n",
    "test_prediction = SVC.predict(X_test_scaled)"
   ]
  },
  {
   "cell_type": "code",
   "execution_count": 51,
   "metadata": {},
   "outputs": [],
   "source": [
    "submission = pd.DataFrame({\n",
    "        \"Id\": assign[\"Id\"],\n",
    "        \"Attrition\": prediction\n",
    "    })\n",
    "\n",
    "submission.to_csv('LR_submission.csv', index=False)"
   ]
  },
  {
   "cell_type": "code",
   "execution_count": 52,
   "metadata": {},
   "outputs": [
    {
     "name": "stdout",
     "output_type": "stream",
     "text": [
      "Test Accuracy: 92.02 %\n"
     ]
    }
   ],
   "source": [
    "print('Test Accuracy: {:.2f} %'.format(np.mean(test_prediction == y_test) * 100))"
   ]
  },
  {
   "cell_type": "code",
   "execution_count": 53,
   "metadata": {},
   "outputs": [
    {
     "name": "stdout",
     "output_type": "stream",
     "text": [
      "Test Accuracy: 100.00 %\n"
     ]
    }
   ],
   "source": [
    "#submission = pd.read_csv('SVC_submission.csv')\n",
    "print('Test Accuracy: {:.2f} %'.format(np.mean(prediction == submission['Attrition']) * 100))"
   ]
  },
  {
   "cell_type": "code",
   "execution_count": 86,
   "metadata": {
    "scrolled": true
   },
   "outputs": [
    {
     "data": {
      "text/plain": [
       "0      0\n",
       "1      0\n",
       "2      1\n",
       "3      0\n",
       "4      0\n",
       "      ..\n",
       "465    1\n",
       "466    1\n",
       "467    1\n",
       "468    0\n",
       "469    0\n",
       "Name: Attrition, Length: 470, dtype: int64"
      ]
     },
     "execution_count": 86,
     "metadata": {},
     "output_type": "execute_result"
    }
   ],
   "source": []
  },
  {
   "cell_type": "code",
   "execution_count": null,
   "metadata": {},
   "outputs": [],
   "source": []
  }
 ],
 "metadata": {
  "kernelspec": {
   "display_name": "Python 3",
   "language": "python",
   "name": "python3"
  },
  "language_info": {
   "codemirror_mode": {
    "name": "ipython",
    "version": 3
   },
   "file_extension": ".py",
   "mimetype": "text/x-python",
   "name": "python",
   "nbconvert_exporter": "python",
   "pygments_lexer": "ipython3",
   "version": "3.7.6"
  }
 },
 "nbformat": 4,
 "nbformat_minor": 4
}
