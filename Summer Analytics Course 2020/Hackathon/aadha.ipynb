{
 "cells": [
  {
   "cell_type": "code",
   "execution_count": 7,
   "metadata": {},
   "outputs": [],
   "source": [
    "from mlxtend.plotting import plot_decision_regions\n",
    "import numpy as np\n",
    "import pandas as pd\n",
    "import matplotlib.pyplot as plt\n",
    "import seaborn as sns\n",
    "sns.set()\n",
    "import warnings\n",
    "warnings.filterwarnings('ignore')\n",
    "%matplotlib inline\n",
    "#plt.style.use('ggplot')\n",
    "#ggplot is R based visualisation package that provides better graphics with higher level of abstraction"
   ]
  },
  {
   "cell_type": "markdown",
   "metadata": {
    "_uuid": "fb40452ad5ae975fd33307735fd47c33f1aca999"
   },
   "source": [
    "## Basic Data Science and ML Pipeline"
   ]
  },
  {
   "cell_type": "code",
   "execution_count": 8,
   "metadata": {
    "_uuid": "3977359aa7f65cc9d96fdf0ede4e99116fb314c6"
   },
   "outputs": [
    {
     "data": {
      "text/html": [
       "<div>\n",
       "<style scoped>\n",
       "    .dataframe tbody tr th:only-of-type {\n",
       "        vertical-align: middle;\n",
       "    }\n",
       "\n",
       "    .dataframe tbody tr th {\n",
       "        vertical-align: top;\n",
       "    }\n",
       "\n",
       "    .dataframe thead th {\n",
       "        text-align: right;\n",
       "    }\n",
       "</style>\n",
       "<table border=\"1\" class=\"dataframe\">\n",
       "  <thead>\n",
       "    <tr style=\"text-align: right;\">\n",
       "      <th></th>\n",
       "      <th>Id</th>\n",
       "      <th>Age</th>\n",
       "      <th>Attrition</th>\n",
       "      <th>BusinessTravel</th>\n",
       "      <th>Department</th>\n",
       "      <th>DistanceFromHome</th>\n",
       "      <th>Education</th>\n",
       "      <th>EducationField</th>\n",
       "      <th>EmployeeNumber</th>\n",
       "      <th>EnvironmentSatisfaction</th>\n",
       "      <th>...</th>\n",
       "      <th>PerformanceRating</th>\n",
       "      <th>StockOptionLevel</th>\n",
       "      <th>TotalWorkingYears</th>\n",
       "      <th>TrainingTimesLastYear</th>\n",
       "      <th>YearsAtCompany</th>\n",
       "      <th>YearsInCurrentRole</th>\n",
       "      <th>YearsSinceLastPromotion</th>\n",
       "      <th>YearsWithCurrManager</th>\n",
       "      <th>CommunicationSkill</th>\n",
       "      <th>Behaviour</th>\n",
       "    </tr>\n",
       "  </thead>\n",
       "  <tbody>\n",
       "    <tr>\n",
       "      <th>0</th>\n",
       "      <td>1</td>\n",
       "      <td>30</td>\n",
       "      <td>0</td>\n",
       "      <td>Non-Travel</td>\n",
       "      <td>Research &amp; Development</td>\n",
       "      <td>2</td>\n",
       "      <td>3</td>\n",
       "      <td>Medical</td>\n",
       "      <td>571</td>\n",
       "      <td>3</td>\n",
       "      <td>...</td>\n",
       "      <td>3</td>\n",
       "      <td>0</td>\n",
       "      <td>12</td>\n",
       "      <td>2</td>\n",
       "      <td>11</td>\n",
       "      <td>7</td>\n",
       "      <td>6</td>\n",
       "      <td>7</td>\n",
       "      <td>4</td>\n",
       "      <td>1</td>\n",
       "    </tr>\n",
       "    <tr>\n",
       "      <th>1</th>\n",
       "      <td>2</td>\n",
       "      <td>36</td>\n",
       "      <td>0</td>\n",
       "      <td>Travel_Rarely</td>\n",
       "      <td>Research &amp; Development</td>\n",
       "      <td>12</td>\n",
       "      <td>4</td>\n",
       "      <td>Life Sciences</td>\n",
       "      <td>1614</td>\n",
       "      <td>3</td>\n",
       "      <td>...</td>\n",
       "      <td>3</td>\n",
       "      <td>2</td>\n",
       "      <td>7</td>\n",
       "      <td>2</td>\n",
       "      <td>3</td>\n",
       "      <td>2</td>\n",
       "      <td>1</td>\n",
       "      <td>1</td>\n",
       "      <td>2</td>\n",
       "      <td>1</td>\n",
       "    </tr>\n",
       "    <tr>\n",
       "      <th>2</th>\n",
       "      <td>3</td>\n",
       "      <td>55</td>\n",
       "      <td>1</td>\n",
       "      <td>Travel_Rarely</td>\n",
       "      <td>Sales</td>\n",
       "      <td>2</td>\n",
       "      <td>1</td>\n",
       "      <td>Medical</td>\n",
       "      <td>842</td>\n",
       "      <td>3</td>\n",
       "      <td>...</td>\n",
       "      <td>3</td>\n",
       "      <td>0</td>\n",
       "      <td>12</td>\n",
       "      <td>3</td>\n",
       "      <td>9</td>\n",
       "      <td>7</td>\n",
       "      <td>7</td>\n",
       "      <td>3</td>\n",
       "      <td>5</td>\n",
       "      <td>1</td>\n",
       "    </tr>\n",
       "    <tr>\n",
       "      <th>3</th>\n",
       "      <td>4</td>\n",
       "      <td>39</td>\n",
       "      <td>0</td>\n",
       "      <td>Travel_Rarely</td>\n",
       "      <td>Research &amp; Development</td>\n",
       "      <td>24</td>\n",
       "      <td>1</td>\n",
       "      <td>Life Sciences</td>\n",
       "      <td>2014</td>\n",
       "      <td>1</td>\n",
       "      <td>...</td>\n",
       "      <td>3</td>\n",
       "      <td>0</td>\n",
       "      <td>18</td>\n",
       "      <td>2</td>\n",
       "      <td>7</td>\n",
       "      <td>7</td>\n",
       "      <td>1</td>\n",
       "      <td>7</td>\n",
       "      <td>4</td>\n",
       "      <td>1</td>\n",
       "    </tr>\n",
       "    <tr>\n",
       "      <th>4</th>\n",
       "      <td>5</td>\n",
       "      <td>37</td>\n",
       "      <td>0</td>\n",
       "      <td>Travel_Rarely</td>\n",
       "      <td>Research &amp; Development</td>\n",
       "      <td>3</td>\n",
       "      <td>3</td>\n",
       "      <td>Other</td>\n",
       "      <td>689</td>\n",
       "      <td>3</td>\n",
       "      <td>...</td>\n",
       "      <td>3</td>\n",
       "      <td>1</td>\n",
       "      <td>10</td>\n",
       "      <td>2</td>\n",
       "      <td>10</td>\n",
       "      <td>7</td>\n",
       "      <td>7</td>\n",
       "      <td>8</td>\n",
       "      <td>1</td>\n",
       "      <td>1</td>\n",
       "    </tr>\n",
       "  </tbody>\n",
       "</table>\n",
       "<p>5 rows × 29 columns</p>\n",
       "</div>"
      ],
      "text/plain": [
       "   Id  Age  Attrition BusinessTravel              Department  \\\n",
       "0   1   30          0     Non-Travel  Research & Development   \n",
       "1   2   36          0  Travel_Rarely  Research & Development   \n",
       "2   3   55          1  Travel_Rarely                   Sales   \n",
       "3   4   39          0  Travel_Rarely  Research & Development   \n",
       "4   5   37          0  Travel_Rarely  Research & Development   \n",
       "\n",
       "   DistanceFromHome  Education EducationField  EmployeeNumber  \\\n",
       "0                 2          3        Medical             571   \n",
       "1                12          4  Life Sciences            1614   \n",
       "2                 2          1        Medical             842   \n",
       "3                24          1  Life Sciences            2014   \n",
       "4                 3          3          Other             689   \n",
       "\n",
       "   EnvironmentSatisfaction  ... PerformanceRating  StockOptionLevel  \\\n",
       "0                        3  ...                 3                 0   \n",
       "1                        3  ...                 3                 2   \n",
       "2                        3  ...                 3                 0   \n",
       "3                        1  ...                 3                 0   \n",
       "4                        3  ...                 3                 1   \n",
       "\n",
       "  TotalWorkingYears  TrainingTimesLastYear YearsAtCompany  YearsInCurrentRole  \\\n",
       "0                12                      2             11                   7   \n",
       "1                 7                      2              3                   2   \n",
       "2                12                      3              9                   7   \n",
       "3                18                      2              7                   7   \n",
       "4                10                      2             10                   7   \n",
       "\n",
       "   YearsSinceLastPromotion YearsWithCurrManager  CommunicationSkill  Behaviour  \n",
       "0                        6                    7                   4          1  \n",
       "1                        1                    1                   2          1  \n",
       "2                        7                    3                   5          1  \n",
       "3                        1                    7                   4          1  \n",
       "4                        7                    8                   1          1  \n",
       "\n",
       "[5 rows x 29 columns]"
      ]
     },
     "execution_count": 8,
     "metadata": {},
     "output_type": "execute_result"
    }
   ],
   "source": [
    "#Loading the dataset\n",
    "train_data = pd.read_csv('train.csv')\n",
    "\n",
    "#Print the first 5 rows of the dataframe.\n",
    "train_data.head()"
   ]
  },
  {
   "cell_type": "markdown",
   "metadata": {
    "_uuid": "9dbea8e64dd833ce466c5d0585f4d8ad5bbfe8ff"
   },
   "source": [
    "#### Heatmap for unclean data"
   ]
  },
  {
   "cell_type": "code",
   "execution_count": 264,
   "metadata": {
    "_uuid": "2971ad528058ac82e54eec7b42b814644cef4195",
    "scrolled": true
   },
   "outputs": [
    {
     "data": {
      "image/png": "[encoded data removed]",
      "text/plain": [
       "<Figure size 864x720 with 2 Axes>"
      ]
     },
     "metadata": {
      "needs_background": "light"
     },
     "output_type": "display_data"
    }
   ],
   "source": [
    "plt.figure(figsize=(12,10))  # on this line I just set the size of figure to 12 by 10.\n",
    "p=sns.heatmap(df.corr(), annot=True,cmap ='RdYlGn')  # seaborn has very simple solution for heatmap"
   ]
  },
  {
   "cell_type": "code",
   "execution_count": 9,
   "metadata": {},
   "outputs": [],
   "source": [
    "from sklearn.model_selection import train_test_split\n",
    "X_train,X_test ,y_train,y_test =  train_test_split(train_data.drop(['Attrition' , 'Id' ,'Behaviour'] , axis = 1) , train_data['Attrition'],test_size=1/3)"
   ]
  },
  {
   "cell_type": "code",
   "execution_count": 10,
   "metadata": {},
   "outputs": [],
   "source": [
    "X_train = pd.get_dummies(X_train , columns = ['OverTime','JobRole','BusinessTravel','Department','EducationField','Gender','MaritalStatus' ] , drop_first = True)\n",
    "X_test = pd.get_dummies(X_test , columns = ['OverTime','JobRole','BusinessTravel','Department','EducationField','Gender','MaritalStatus' ] , drop_first = True)\n"
   ]
  },
  {
   "cell_type": "code",
   "execution_count": 11,
   "metadata": {},
   "outputs": [],
   "source": [
    "# Load libraries\n",
    "import plotly.offline as py\n",
    "import plotly.graph_objs as go\n",
    "import plotly.tools as tls\n",
    "from pandas import set_option\n",
    "from pandas.plotting import scatter_matrix\n",
    "from sklearn.preprocessing import StandardScaler\n",
    "from sklearn.model_selection import train_test_split\n",
    "from sklearn.model_selection import KFold\n",
    "from sklearn.model_selection import StratifiedKFold\n",
    "from sklearn.model_selection import cross_val_score\n",
    "from sklearn.model_selection import GridSearchCV\n",
    "from sklearn.metrics import classification_report\n",
    "from sklearn.metrics import confusion_matrix\n",
    "from sklearn.metrics import accuracy_score\n",
    "from sklearn.pipeline import Pipeline\n",
    "from sklearn.linear_model import LogisticRegression\n",
    "from sklearn.tree import DecisionTreeClassifier\n",
    "from sklearn.neighbors import KNeighborsClassifier\n",
    "from sklearn.discriminant_analysis import LinearDiscriminantAnalysis\n",
    "from sklearn.naive_bayes import GaussianNB\n",
    "from sklearn.svm import SVC\n",
    "from sklearn.ensemble import AdaBoostClassifier\n",
    "from sklearn.ensemble import GradientBoostingClassifier\n",
    "from sklearn.ensemble import RandomForestClassifier\n",
    "from sklearn.ensemble import ExtraTreesClassifier"
   ]
  },
  {
   "cell_type": "code",
   "execution_count": 12,
   "metadata": {},
   "outputs": [],
   "source": [
    "# Spot-Check Algorithms\n",
    "def GetBasedModel():\n",
    "    basedModels = []\n",
    "    basedModels.append(('LR'   , LogisticRegression()))\n",
    "    basedModels.append(('LDA'  , LinearDiscriminantAnalysis()))\n",
    "    basedModels.append(('KNN'  , KNeighborsClassifier()))\n",
    "    basedModels.append(('CART' , DecisionTreeClassifier()))\n",
    "    basedModels.append(('NB'   , GaussianNB()))\n",
    "    basedModels.append(('SVM'  , SVC(probability=True)))\n",
    "    basedModels.append(('AB'   , AdaBoostClassifier()))\n",
    "    basedModels.append(('GBM'  , GradientBoostingClassifier()))\n",
    "    basedModels.append(('RF'   , RandomForestClassifier()))\n",
    "    basedModels.append(('ET'   , ExtraTreesClassifier()))\n",
    "\n",
    "    \n",
    "    return basedModels"
   ]
  },
  {
   "cell_type": "code",
   "execution_count": 13,
   "metadata": {},
   "outputs": [],
   "source": [
    "def BasedLine2(X_train, y_train,models):\n",
    "    # Test options and evaluation metric\n",
    "    num_folds = 10\n",
    "    scoring = 'roc_auc'\n",
    "\n",
    "    results = []\n",
    "    names = []\n",
    "    for name, model in models:\n",
    "        kfold = StratifiedKFold(n_splits=num_folds, random_state=SEED)\n",
    "        cv_results = cross_val_score(model, X_train, y_train, cv=kfold, scoring=scoring)\n",
    "        results.append(cv_results)\n",
    "        names.append(name)\n",
    "        msg = \"%s: %f (%f)\" % (name, cv_results.mean(), cv_results.std())\n",
    "        print(msg)\n",
    "        \n",
    "    return names, results"
   ]
  },
  {
   "cell_type": "code",
   "execution_count": 271,
   "metadata": {},
   "outputs": [],
   "source": [
    "class PlotBoxR(object):\n",
    "    \n",
    "    \n",
    "    def __Trace(self,nameOfFeature,value): \n",
    "    \n",
    "        trace = go.Box(\n",
    "            y=value,\n",
    "            name = nameOfFeature,\n",
    "            marker = dict(\n",
    "                color = 'rgb(0, 128, 128)',\n",
    "            )\n",
    "        )\n",
    "        return trace\n",
    "\n",
    "    def PlotResult(self,names,results):\n",
    "        \n",
    "        data = []\n",
    "\n",
    "        for i in range(len(names)):\n",
    "            data.append(self.__Trace(names[i],results[i]))\n",
    "\n",
    "\n",
    "        py.iplot(data)"
   ]
  },
  {
   "cell_type": "code",
   "execution_count": 14,
   "metadata": {},
   "outputs": [],
   "source": [
    "SEED = 7\n",
    "np.random.seed(SEED)"
   ]
  },
  {
   "cell_type": "code",
   "execution_count": 273,
   "metadata": {
    "scrolled": true
   },
   "outputs": [
    {
     "name": "stdout",
     "output_type": "stream",
     "text": [
      "LR: 0.780339 (0.036905)\n",
      "LDA: 0.865445 (0.046898)\n",
      "KNN: 0.756215 (0.037999)\n",
      "CART: 0.907229 (0.018750)\n",
      "NB: 0.772142 (0.045547)\n",
      "SVM: 0.661043 (0.038322)\n",
      "AB: 0.903925 (0.030784)\n",
      "GBM: 0.959990 (0.017883)\n",
      "RF: 0.995881 (0.005709)\n",
      "ET: 0.995386 (0.005750)\n"
     ]
    },
    {
     "data": {
      "application/vnd.plotly.v1+json": {
       "config": {
        "linkText": "Export to plot.ly",
        "plotlyServerURL": "https://plot.ly",
        "showLink": false
       },
       "data": [
        {
         "marker": {
          "color": "rgb(0, 128, 128)"
         },
         "name": "LR",
         "type": "box",
         "y": [
          0.7550607287449393,
          0.7580971659919029,
          0.7634952766531714,
          0.8174763832658569,
          0.7398785425101215,
          0.8293773649810802,
          0.8156174750601995,
          0.8097695218438252,
          0.7148262813897489,
          0.7997936016511867
         ]
        },
        {
         "marker": {
          "color": "rgb(0, 128, 128)"
         },
         "name": "LDA",
         "type": "box",
         "y": [
          0.876855600539811,
          0.8778677462887989,
          0.8201754385964912,
          0.9045209176788125,
          0.8802294197031039,
          0.9177846577227382,
          0.8868249054007568,
          0.8548331613347094,
          0.7468180254557962,
          0.8885448916408669
         ]
        },
        {
         "marker": {
          "color": "rgb(0, 128, 128)"
         },
         "name": "KNN",
         "type": "box",
         "y": [
          0.8227058029689609,
          0.7751349527665317,
          0.7720985155195682,
          0.7559041835357625,
          0.7044534412955465,
          0.7347781217750258,
          0.7923976608187135,
          0.7590299277605779,
          0.6859305125558995,
          0.7597179222566219
         ]
        },
        {
         "marker": {
          "color": "rgb(0, 128, 128)"
         },
         "name": "CART",
         "type": "box",
         "y": [
          0.9298245614035088,
          0.8947368421052632,
          0.9026653171390013,
          0.9298245614035088,
          0.8930499325236168,
          0.9112487100103199,
          0.867389060887513,
          0.9122807017543859,
          0.9024767801857585,
          0.9287925696594428
         ]
        },
        {
         "marker": {
          "color": "rgb(0, 128, 128)"
         },
         "name": "NB",
         "type": "box",
         "y": [
          0.7742914979757085,
          0.8441295546558704,
          0.7773279352226722,
          0.79251012145749,
          0.7911605937921727,
          0.738562091503268,
          0.7781217750257997,
          0.7368421052631579,
          0.6707946336429309,
          0.8176814585483316
         ]
        },
        {
         "marker": {
          "color": "rgb(0, 128, 128)"
         },
         "name": "SVM",
         "type": "box",
         "y": [
          0.7449392712550608,
          0.6524966261808367,
          0.6008771929824562,
          0.6612685560053981,
          0.6295546558704453,
          0.6563467492260061,
          0.7003783969728242,
          0.6549707602339181,
          0.6295149638802889,
          0.6800825593395253
         ]
        },
        {
         "marker": {
          "color": "rgb(0, 128, 128)"
         },
         "name": "AB",
         "type": "box",
         "y": [
          0.944331983805668,
          0.8593117408906883,
          0.8633603238866396,
          0.892037786774629,
          0.9129554655870445,
          0.937392500859993,
          0.9205366357069145,
          0.9208806329549364,
          0.8617131062951496,
          0.9267285861713106
         ]
        },
        {
         "marker": {
          "color": "rgb(0, 128, 128)"
         },
         "name": "GBM",
         "type": "box",
         "y": [
          0.9699730094466936,
          0.9682860998650473,
          0.9639001349527665,
          0.9838056680161943,
          0.9574898785425101,
          0.9690402476780187,
          0.9594083247334022,
          0.9425524595803234,
          0.9157206742346061,
          0.9697282421740625
         ]
        },
        {
         "marker": {
          "color": "rgb(0, 128, 128)"
         },
         "name": "RF",
         "type": "box",
         "y": [
          0.9984817813765181,
          1,
          0.9989878542510121,
          1,
          0.9890350877192983,
          0.9822841417268661,
          0.9975920192638459,
          0.9996560027519781,
          1,
          0.9927760577915377
         ]
        },
        {
         "marker": {
          "color": "rgb(0, 128, 128)"
         },
         "name": "ET",
         "type": "box",
         "y": [
          0.9989878542510121,
          1,
          0.9925775978407557,
          1,
          0.9843117408906884,
          0.9867561059511524,
          0.9993120055039559,
          1,
          1,
          0.9919160646714826
         ]
        }
       ],
       "layout": {
        "template": {
         "data": {
          "bar": [
           {
            "error_x": {
             "color": "#2a3f5f"
            },
            "error_y": {
             "color": "#2a3f5f"
            },
            "marker": {
             "line": {
              "color": "#E5ECF6",
              "width": 0.5
             }
            },
            "type": "bar"
           }
          ],
          "barpolar": [
           {
            "marker": {
             "line": {
              "color": "#E5ECF6",
              "width": 0.5
             }
            },
            "type": "barpolar"
           }
          ],
          "carpet": [
           {
            "aaxis": {
             "endlinecolor": "#2a3f5f",
             "gridcolor": "white",
             "linecolor": "white",
             "minorgridcolor": "white",
             "startlinecolor": "#2a3f5f"
            },
            "baxis": {
             "endlinecolor": "#2a3f5f",
             "gridcolor": "white",
             "linecolor": "white",
             "minorgridcolor": "white",
             "startlinecolor": "#2a3f5f"
            },
            "type": "carpet"
           }
          ],
          "choropleth": [
           {
            "colorbar": {
             "outlinewidth": 0,
             "ticks": ""
            },
            "type": "choropleth"
           }
          ],
          "contour": [
           {
            "colorbar": {
             "outlinewidth": 0,
             "ticks": ""
            },
            "colorscale": [
             [
              0,
              "#0d0887"
             ],
             [
              0.1111111111111111,
              "#46039f"
             ],
             [
              0.2222222222222222,
              "#7201a8"
             ],
             [
              0.3333333333333333,
              "#9c179e"
             ],
             [
              0.4444444444444444,
              "#bd3786"
             ],
             [
              0.5555555555555556,
              "#d8576b"
             ],
             [
              0.6666666666666666,
              "#ed7953"
             ],
             [
              0.7777777777777778,
              "#fb9f3a"
             ],
             [
              0.8888888888888888,
              "#fdca26"
             ],
             [
              1,
              "#f0f921"
             ]
            ],
            "type": "contour"
           }
          ],
          "contourcarpet": [
           {
            "colorbar": {
             "outlinewidth": 0,
             "ticks": ""
            },
            "type": "contourcarpet"
           }
          ],
          "heatmap": [
           {
            "colorbar": {
             "outlinewidth": 0,
             "ticks": ""
            },
            "colorscale": [
             [
              0,
              "#0d0887"
             ],
             [
              0.1111111111111111,
              "#46039f"
             ],
             [
              0.2222222222222222,
              "#7201a8"
             ],
             [
              0.3333333333333333,
              "#9c179e"
             ],
             [
              0.4444444444444444,
              "#bd3786"
             ],
             [
              0.5555555555555556,
              "#d8576b"
             ],
             [
              0.6666666666666666,
              "#ed7953"
             ],
             [
              0.7777777777777778,
              "#fb9f3a"
             ],
             [
              0.8888888888888888,
              "#fdca26"
             ],
             [
              1,
              "#f0f921"
             ]
            ],
            "type": "heatmap"
           }
          ],
          "heatmapgl": [
           {
            "colorbar": {
             "outlinewidth": 0,
             "ticks": ""
            },
            "colorscale": [
             [
              0,
              "#0d0887"
             ],
             [
              0.1111111111111111,
              "#46039f"
             ],
             [
              0.2222222222222222,
              "#7201a8"
             ],
             [
              0.3333333333333333,
              "#9c179e"
             ],
             [
              0.4444444444444444,
              "#bd3786"
             ],
             [
              0.5555555555555556,
              "#d8576b"
             ],
             [
              0.6666666666666666,
              "#ed7953"
             ],
             [
              0.7777777777777778,
              "#fb9f3a"
             ],
             [
              0.8888888888888888,
              "#fdca26"
             ],
             [
              1,
              "#f0f921"
             ]
            ],
            "type": "heatmapgl"
           }
          ],
          "histogram": [
           {
            "marker": {
             "colorbar": {
              "outlinewidth": 0,
              "ticks": ""
             }
            },
            "type": "histogram"
           }
          ],
          "histogram2d": [
           {
            "colorbar": {
             "outlinewidth": 0,
             "ticks": ""
            },
            "colorscale": [
             [
              0,
              "#0d0887"
             ],
             [
              0.1111111111111111,
              "#46039f"
             ],
             [
              0.2222222222222222,
              "#7201a8"
             ],
             [
              0.3333333333333333,
              "#9c179e"
             ],
             [
              0.4444444444444444,
              "#bd3786"
             ],
             [
              0.5555555555555556,
              "#d8576b"
             ],
             [
              0.6666666666666666,
              "#ed7953"
             ],
             [
              0.7777777777777778,
              "#fb9f3a"
             ],
             [
              0.8888888888888888,
              "#fdca26"
             ],
             [
              1,
              "#f0f921"
             ]
            ],
            "type": "histogram2d"
           }
          ],
          "histogram2dcontour": [
           {
            "colorbar": {
             "outlinewidth": 0,
             "ticks": ""
            },
            "colorscale": [
             [
              0,
              "#0d0887"
             ],
             [
              0.1111111111111111,
              "#46039f"
             ],
             [
              0.2222222222222222,
              "#7201a8"
             ],
             [
              0.3333333333333333,
              "#9c179e"
             ],
             [
              0.4444444444444444,
              "#bd3786"
             ],
             [
              0.5555555555555556,
              "#d8576b"
             ],
             [
              0.6666666666666666,
              "#ed7953"
             ],
             [
              0.7777777777777778,
              "#fb9f3a"
             ],
             [
              0.8888888888888888,
              "#fdca26"
             ],
             [
              1,
              "#f0f921"
             ]
            ],
            "type": "histogram2dcontour"
           }
          ],
          "mesh3d": [
           {
            "colorbar": {
             "outlinewidth": 0,
             "ticks": ""
            },
            "type": "mesh3d"
           }
          ],
          "parcoords": [
           {
            "line": {
             "colorbar": {
              "outlinewidth": 0,
              "ticks": ""
             }
            },
            "type": "parcoords"
           }
          ],
          "pie": [
           {
            "automargin": true,
            "type": "pie"
           }
          ],
          "scatter": [
           {
            "marker": {
             "colorbar": {
              "outlinewidth": 0,
              "ticks": ""
             }
            },
            "type": "scatter"
           }
          ],
          "scatter3d": [
           {
            "line": {
             "colorbar": {
              "outlinewidth": 0,
              "ticks": ""
             }
            },
            "marker": {
             "colorbar": {
              "outlinewidth": 0,
              "ticks": ""
             }
            },
            "type": "scatter3d"
           }
          ],
          "scattercarpet": [
           {
            "marker": {
             "colorbar": {
              "outlinewidth": 0,
              "ticks": ""
             }
            },
            "type": "scattercarpet"
           }
          ],
          "scattergeo": [
           {
            "marker": {
             "colorbar": {
              "outlinewidth": 0,
              "ticks": ""
             }
            },
            "type": "scattergeo"
           }
          ],
          "scattergl": [
           {
            "marker": {
             "colorbar": {
              "outlinewidth": 0,
              "ticks": ""
             }
            },
            "type": "scattergl"
           }
          ],
          "scattermapbox": [
           {
            "marker": {
             "colorbar": {
              "outlinewidth": 0,
              "ticks": ""
             }
            },
            "type": "scattermapbox"
           }
          ],
          "scatterpolar": [
           {
            "marker": {
             "colorbar": {
              "outlinewidth": 0,
              "ticks": ""
             }
            },
            "type": "scatterpolar"
           }
          ],
          "scatterpolargl": [
           {
            "marker": {
             "colorbar": {
              "outlinewidth": 0,
              "ticks": ""
             }
            },
            "type": "scatterpolargl"
           }
          ],
          "scatterternary": [
           {
            "marker": {
             "colorbar": {
              "outlinewidth": 0,
              "ticks": ""
             }
            },
            "type": "scatterternary"
           }
          ],
          "surface": [
           {
            "colorbar": {
             "outlinewidth": 0,
             "ticks": ""
            },
            "colorscale": [
             [
              0,
              "#0d0887"
             ],
             [
              0.1111111111111111,
              "#46039f"
             ],
             [
              0.2222222222222222,
              "#7201a8"
             ],
             [
              0.3333333333333333,
              "#9c179e"
             ],
             [
              0.4444444444444444,
              "#bd3786"
             ],
             [
              0.5555555555555556,
              "#d8576b"
             ],
             [
              0.6666666666666666,
              "#ed7953"
             ],
             [
              0.7777777777777778,
              "#fb9f3a"
             ],
             [
              0.8888888888888888,
              "#fdca26"
             ],
             [
              1,
              "#f0f921"
             ]
            ],
            "type": "surface"
           }
          ],
          "table": [
           {
            "cells": {
             "fill": {
              "color": "#EBF0F8"
             },
             "line": {
              "color": "white"
             }
            },
            "header": {
             "fill": {
              "color": "#C8D4E3"
             },
             "line": {
              "color": "white"
             }
            },
            "type": "table"
           }
          ]
         },
         "layout": {
          "annotationdefaults": {
           "arrowcolor": "#2a3f5f",
           "arrowhead": 0,
           "arrowwidth": 1
          },
          "coloraxis": {
           "colorbar": {
            "outlinewidth": 0,
            "ticks": ""
           }
          },
          "colorscale": {
           "diverging": [
            [
             0,
             "#8e0152"
            ],
            [
             0.1,
             "#c51b7d"
            ],
            [
             0.2,
             "#de77ae"
            ],
            [
             0.3,
             "#f1b6da"
            ],
            [
             0.4,
             "#fde0ef"
            ],
            [
             0.5,
             "#f7f7f7"
            ],
            [
             0.6,
             "#e6f5d0"
            ],
            [
             0.7,
             "#b8e186"
            ],
            [
             0.8,
             "#7fbc41"
            ],
            [
             0.9,
             "#4d9221"
            ],
            [
             1,
             "#276419"
            ]
           ],
           "sequential": [
            [
             0,
             "#0d0887"
            ],
            [
             0.1111111111111111,
             "#46039f"
            ],
            [
             0.2222222222222222,
             "#7201a8"
            ],
            [
             0.3333333333333333,
             "#9c179e"
            ],
            [
             0.4444444444444444,
             "#bd3786"
            ],
            [
             0.5555555555555556,
             "#d8576b"
            ],
            [
             0.6666666666666666,
             "#ed7953"
            ],
            [
             0.7777777777777778,
             "#fb9f3a"
            ],
            [
             0.8888888888888888,
             "#fdca26"
            ],
            [
             1,
             "#f0f921"
            ]
           ],
           "sequentialminus": [
            [
             0,
             "#0d0887"
            ],
            [
             0.1111111111111111,
             "#46039f"
            ],
            [
             0.2222222222222222,
             "#7201a8"
            ],
            [
             0.3333333333333333,
             "#9c179e"
            ],
            [
             0.4444444444444444,
             "#bd3786"
            ],
            [
             0.5555555555555556,
             "#d8576b"
            ],
            [
             0.6666666666666666,
             "#ed7953"
            ],
            [
             0.7777777777777778,
             "#fb9f3a"
            ],
            [
             0.8888888888888888,
             "#fdca26"
            ],
            [
             1,
             "#f0f921"
            ]
           ]
          },
          "colorway": [
           "#636efa",
           "#EF553B",
           "#00cc96",
           "#ab63fa",
           "#FFA15A",
           "#19d3f3",
           "#FF6692",
           "#B6E880",
           "#FF97FF",
           "#FECB52"
          ],
          "font": {
           "color": "#2a3f5f"
          },
          "geo": {
           "bgcolor": "white",
           "lakecolor": "white",
           "landcolor": "#E5ECF6",
           "showlakes": true,
           "showland": true,
           "subunitcolor": "white"
          },
          "hoverlabel": {
           "align": "left"
          },
          "hovermode": "closest",
          "mapbox": {
           "style": "light"
          },
          "paper_bgcolor": "white",
          "plot_bgcolor": "#E5ECF6",
          "polar": {
           "angularaxis": {
            "gridcolor": "white",
            "linecolor": "white",
            "ticks": ""
           },
           "bgcolor": "#E5ECF6",
           "radialaxis": {
            "gridcolor": "white",
            "linecolor": "white",
            "ticks": ""
           }
          },
          "scene": {
           "xaxis": {
            "backgroundcolor": "#E5ECF6",
            "gridcolor": "white",
            "gridwidth": 2,
            "linecolor": "white",
            "showbackground": true,
            "ticks": "",
            "zerolinecolor": "white"
           },
           "yaxis": {
            "backgroundcolor": "#E5ECF6",
            "gridcolor": "white",
            "gridwidth": 2,
            "linecolor": "white",
            "showbackground": true,
            "ticks": "",
            "zerolinecolor": "white"
           },
           "zaxis": {
            "backgroundcolor": "#E5ECF6",
            "gridcolor": "white",
            "gridwidth": 2,
            "linecolor": "white",
            "showbackground": true,
            "ticks": "",
            "zerolinecolor": "white"
           }
          },
          "shapedefaults": {
           "line": {
            "color": "#2a3f5f"
           }
          },
          "ternary": {
           "aaxis": {
            "gridcolor": "white",
            "linecolor": "white",
            "ticks": ""
           },
           "baxis": {
            "gridcolor": "white",
            "linecolor": "white",
            "ticks": ""
           },
           "bgcolor": "#E5ECF6",
           "caxis": {
            "gridcolor": "white",
            "linecolor": "white",
            "ticks": ""
           }
          },
          "title": {
           "x": 0.05
          },
          "xaxis": {
           "automargin": true,
           "gridcolor": "white",
           "linecolor": "white",
           "ticks": "",
           "title": {
            "standoff": 15
           },
           "zerolinecolor": "white",
           "zerolinewidth": 2
          },
          "yaxis": {
           "automargin": true,
           "gridcolor": "white",
           "linecolor": "white",
           "ticks": "",
           "title": {
            "standoff": 15
           },
           "zerolinecolor": "white",
           "zerolinewidth": 2
          }
         }
        }
       }
      },
      "text/html": [
       "<div>\n",
       "        \n",
       "        \n",
       "            <div id=\"37c64819-f3a9-42f8-ae10-dd9ccdf35047\" class=\"plotly-graph-div\" style=\"height:525px; width:100%;\"></div>\n",
       "            <script type=\"text/javascript\">\n",
       "                require([\"plotly\"], function(Plotly) {\n",
       "                    window.PLOTLYENV=window.PLOTLYENV || {};\n",
       "                    \n",
       "                if (document.getElementById(\"37c64819-f3a9-42f8-ae10-dd9ccdf35047\")) {\n",
       "                    Plotly.newPlot(\n",
       "                        '37c64819-f3a9-42f8-ae10-dd9ccdf35047',\n",
       "                        [{\"marker\": {\"color\": \"rgb(0, 128, 128)\"}, \"name\": \"LR\", \"type\": \"box\", \"y\": [0.7550607287449393, 0.7580971659919029, 0.7634952766531714, 0.8174763832658569, 0.7398785425101215, 0.8293773649810802, 0.8156174750601995, 0.8097695218438252, 0.7148262813897489, 0.7997936016511867]}, {\"marker\": {\"color\": \"rgb(0, 128, 128)\"}, \"name\": \"LDA\", \"type\": \"box\", \"y\": [0.876855600539811, 0.8778677462887989, 0.8201754385964912, 0.9045209176788125, 0.8802294197031039, 0.9177846577227382, 0.8868249054007568, 0.8548331613347094, 0.7468180254557962, 0.8885448916408669]}, {\"marker\": {\"color\": \"rgb(0, 128, 128)\"}, \"name\": \"KNN\", \"type\": \"box\", \"y\": [0.8227058029689609, 0.7751349527665317, 0.7720985155195682, 0.7559041835357625, 0.7044534412955465, 0.7347781217750258, 0.7923976608187135, 0.7590299277605779, 0.6859305125558995, 0.7597179222566219]}, {\"marker\": {\"color\": \"rgb(0, 128, 128)\"}, \"name\": \"CART\", \"type\": \"box\", \"y\": [0.9298245614035088, 0.8947368421052632, 0.9026653171390013, 0.9298245614035088, 0.8930499325236168, 0.9112487100103199, 0.867389060887513, 0.9122807017543859, 0.9024767801857585, 0.9287925696594428]}, {\"marker\": {\"color\": \"rgb(0, 128, 128)\"}, \"name\": \"NB\", \"type\": \"box\", \"y\": [0.7742914979757085, 0.8441295546558704, 0.7773279352226722, 0.79251012145749, 0.7911605937921727, 0.738562091503268, 0.7781217750257997, 0.7368421052631579, 0.6707946336429309, 0.8176814585483316]}, {\"marker\": {\"color\": \"rgb(0, 128, 128)\"}, \"name\": \"SVM\", \"type\": \"box\", \"y\": [0.7449392712550608, 0.6524966261808367, 0.6008771929824562, 0.6612685560053981, 0.6295546558704453, 0.6563467492260061, 0.7003783969728242, 0.6549707602339181, 0.6295149638802889, 0.6800825593395253]}, {\"marker\": {\"color\": \"rgb(0, 128, 128)\"}, \"name\": \"AB\", \"type\": \"box\", \"y\": [0.944331983805668, 0.8593117408906883, 0.8633603238866396, 0.892037786774629, 0.9129554655870445, 0.937392500859993, 0.9205366357069145, 0.9208806329549364, 0.8617131062951496, 0.9267285861713106]}, {\"marker\": {\"color\": \"rgb(0, 128, 128)\"}, \"name\": \"GBM\", \"type\": \"box\", \"y\": [0.9699730094466936, 0.9682860998650473, 0.9639001349527665, 0.9838056680161943, 0.9574898785425101, 0.9690402476780187, 0.9594083247334022, 0.9425524595803234, 0.9157206742346061, 0.9697282421740625]}, {\"marker\": {\"color\": \"rgb(0, 128, 128)\"}, \"name\": \"RF\", \"type\": \"box\", \"y\": [0.9984817813765181, 1.0, 0.9989878542510121, 1.0, 0.9890350877192983, 0.9822841417268661, 0.9975920192638459, 0.9996560027519781, 1.0, 0.9927760577915377]}, {\"marker\": {\"color\": \"rgb(0, 128, 128)\"}, \"name\": \"ET\", \"type\": \"box\", \"y\": [0.9989878542510121, 1.0, 0.9925775978407557, 1.0, 0.9843117408906884, 0.9867561059511524, 0.9993120055039559, 1.0, 1.0, 0.9919160646714826]}],\n",
       "                        {\"template\": {\"data\": {\"bar\": [{\"error_x\": {\"color\": \"#2a3f5f\"}, \"error_y\": {\"color\": \"#2a3f5f\"}, \"marker\": {\"line\": {\"color\": \"#E5ECF6\", \"width\": 0.5}}, \"type\": \"bar\"}], \"barpolar\": [{\"marker\": {\"line\": {\"color\": \"#E5ECF6\", \"width\": 0.5}}, \"type\": \"barpolar\"}], \"carpet\": [{\"aaxis\": {\"endlinecolor\": \"#2a3f5f\", \"gridcolor\": \"white\", \"linecolor\": \"white\", \"minorgridcolor\": \"white\", \"startlinecolor\": \"#2a3f5f\"}, \"baxis\": {\"endlinecolor\": \"#2a3f5f\", \"gridcolor\": \"white\", \"linecolor\": \"white\", \"minorgridcolor\": \"white\", \"startlinecolor\": \"#2a3f5f\"}, \"type\": \"carpet\"}], \"choropleth\": [{\"colorbar\": {\"outlinewidth\": 0, \"ticks\": \"\"}, \"type\": \"choropleth\"}], \"contour\": [{\"colorbar\": {\"outlinewidth\": 0, \"ticks\": \"\"}, \"colorscale\": [[0.0, \"#0d0887\"], [0.1111111111111111, \"#46039f\"], [0.2222222222222222, \"#7201a8\"], [0.3333333333333333, \"#9c179e\"], [0.4444444444444444, \"#bd3786\"], [0.5555555555555556, \"#d8576b\"], [0.6666666666666666, \"#ed7953\"], [0.7777777777777778, \"#fb9f3a\"], [0.8888888888888888, \"#fdca26\"], [1.0, \"#f0f921\"]], \"type\": \"contour\"}], \"contourcarpet\": [{\"colorbar\": {\"outlinewidth\": 0, \"ticks\": \"\"}, \"type\": \"contourcarpet\"}], \"heatmap\": [{\"colorbar\": {\"outlinewidth\": 0, \"ticks\": \"\"}, \"colorscale\": [[0.0, \"#0d0887\"], [0.1111111111111111, \"#46039f\"], [0.2222222222222222, \"#7201a8\"], [0.3333333333333333, \"#9c179e\"], [0.4444444444444444, \"#bd3786\"], [0.5555555555555556, \"#d8576b\"], [0.6666666666666666, \"#ed7953\"], [0.7777777777777778, \"#fb9f3a\"], [0.8888888888888888, \"#fdca26\"], [1.0, \"#f0f921\"]], \"type\": \"heatmap\"}], \"heatmapgl\": [{\"colorbar\": {\"outlinewidth\": 0, \"ticks\": \"\"}, \"colorscale\": [[0.0, \"#0d0887\"], [0.1111111111111111, \"#46039f\"], [0.2222222222222222, \"#7201a8\"], [0.3333333333333333, \"#9c179e\"], [0.4444444444444444, \"#bd3786\"], [0.5555555555555556, \"#d8576b\"], [0.6666666666666666, \"#ed7953\"], [0.7777777777777778, \"#fb9f3a\"], [0.8888888888888888, \"#fdca26\"], [1.0, \"#f0f921\"]], \"type\": \"heatmapgl\"}], \"histogram\": [{\"marker\": {\"colorbar\": {\"outlinewidth\": 0, \"ticks\": \"\"}}, \"type\": \"histogram\"}], \"histogram2d\": [{\"colorbar\": {\"outlinewidth\": 0, \"ticks\": \"\"}, \"colorscale\": [[0.0, \"#0d0887\"], [0.1111111111111111, \"#46039f\"], [0.2222222222222222, \"#7201a8\"], [0.3333333333333333, \"#9c179e\"], [0.4444444444444444, \"#bd3786\"], [0.5555555555555556, \"#d8576b\"], [0.6666666666666666, \"#ed7953\"], [0.7777777777777778, \"#fb9f3a\"], [0.8888888888888888, \"#fdca26\"], [1.0, \"#f0f921\"]], \"type\": \"histogram2d\"}], \"histogram2dcontour\": [{\"colorbar\": {\"outlinewidth\": 0, \"ticks\": \"\"}, \"colorscale\": [[0.0, \"#0d0887\"], [0.1111111111111111, \"#46039f\"], [0.2222222222222222, \"#7201a8\"], [0.3333333333333333, \"#9c179e\"], [0.4444444444444444, \"#bd3786\"], [0.5555555555555556, \"#d8576b\"], [0.6666666666666666, \"#ed7953\"], [0.7777777777777778, \"#fb9f3a\"], [0.8888888888888888, \"#fdca26\"], [1.0, \"#f0f921\"]], \"type\": \"histogram2dcontour\"}], \"mesh3d\": [{\"colorbar\": {\"outlinewidth\": 0, \"ticks\": \"\"}, \"type\": \"mesh3d\"}], \"parcoords\": [{\"line\": {\"colorbar\": {\"outlinewidth\": 0, \"ticks\": \"\"}}, \"type\": \"parcoords\"}], \"pie\": [{\"automargin\": true, \"type\": \"pie\"}], \"scatter\": [{\"marker\": {\"colorbar\": {\"outlinewidth\": 0, \"ticks\": \"\"}}, \"type\": \"scatter\"}], \"scatter3d\": [{\"line\": {\"colorbar\": {\"outlinewidth\": 0, \"ticks\": \"\"}}, \"marker\": {\"colorbar\": {\"outlinewidth\": 0, \"ticks\": \"\"}}, \"type\": \"scatter3d\"}], \"scattercarpet\": [{\"marker\": {\"colorbar\": {\"outlinewidth\": 0, \"ticks\": \"\"}}, \"type\": \"scattercarpet\"}], \"scattergeo\": [{\"marker\": {\"colorbar\": {\"outlinewidth\": 0, \"ticks\": \"\"}}, \"type\": \"scattergeo\"}], \"scattergl\": [{\"marker\": {\"colorbar\": {\"outlinewidth\": 0, \"ticks\": \"\"}}, \"type\": \"scattergl\"}], \"scattermapbox\": [{\"marker\": {\"colorbar\": {\"outlinewidth\": 0, \"ticks\": \"\"}}, \"type\": \"scattermapbox\"}], \"scatterpolar\": [{\"marker\": {\"colorbar\": {\"outlinewidth\": 0, \"ticks\": \"\"}}, \"type\": \"scatterpolar\"}], \"scatterpolargl\": [{\"marker\": {\"colorbar\": {\"outlinewidth\": 0, \"ticks\": \"\"}}, \"type\": \"scatterpolargl\"}], \"scatterternary\": [{\"marker\": {\"colorbar\": {\"outlinewidth\": 0, \"ticks\": \"\"}}, \"type\": \"scatterternary\"}], \"surface\": [{\"colorbar\": {\"outlinewidth\": 0, \"ticks\": \"\"}, \"colorscale\": [[0.0, \"#0d0887\"], [0.1111111111111111, \"#46039f\"], [0.2222222222222222, \"#7201a8\"], [0.3333333333333333, \"#9c179e\"], [0.4444444444444444, \"#bd3786\"], [0.5555555555555556, \"#d8576b\"], [0.6666666666666666, \"#ed7953\"], [0.7777777777777778, \"#fb9f3a\"], [0.8888888888888888, \"#fdca26\"], [1.0, \"#f0f921\"]], \"type\": \"surface\"}], \"table\": [{\"cells\": {\"fill\": {\"color\": \"#EBF0F8\"}, \"line\": {\"color\": \"white\"}}, \"header\": {\"fill\": {\"color\": \"#C8D4E3\"}, \"line\": {\"color\": \"white\"}}, \"type\": \"table\"}]}, \"layout\": {\"annotationdefaults\": {\"arrowcolor\": \"#2a3f5f\", \"arrowhead\": 0, \"arrowwidth\": 1}, \"coloraxis\": {\"colorbar\": {\"outlinewidth\": 0, \"ticks\": \"\"}}, \"colorscale\": {\"diverging\": [[0, \"#8e0152\"], [0.1, \"#c51b7d\"], [0.2, \"#de77ae\"], [0.3, \"#f1b6da\"], [0.4, \"#fde0ef\"], [0.5, \"#f7f7f7\"], [0.6, \"#e6f5d0\"], [0.7, \"#b8e186\"], [0.8, \"#7fbc41\"], [0.9, \"#4d9221\"], [1, \"#276419\"]], \"sequential\": [[0.0, \"#0d0887\"], [0.1111111111111111, \"#46039f\"], [0.2222222222222222, \"#7201a8\"], [0.3333333333333333, \"#9c179e\"], [0.4444444444444444, \"#bd3786\"], [0.5555555555555556, \"#d8576b\"], [0.6666666666666666, \"#ed7953\"], [0.7777777777777778, \"#fb9f3a\"], [0.8888888888888888, \"#fdca26\"], [1.0, \"#f0f921\"]], \"sequentialminus\": [[0.0, \"#0d0887\"], [0.1111111111111111, \"#46039f\"], [0.2222222222222222, \"#7201a8\"], [0.3333333333333333, \"#9c179e\"], [0.4444444444444444, \"#bd3786\"], [0.5555555555555556, \"#d8576b\"], [0.6666666666666666, \"#ed7953\"], [0.7777777777777778, \"#fb9f3a\"], [0.8888888888888888, \"#fdca26\"], [1.0, \"#f0f921\"]]}, \"colorway\": [\"#636efa\", \"#EF553B\", \"#00cc96\", \"#ab63fa\", \"#FFA15A\", \"#19d3f3\", \"#FF6692\", \"#B6E880\", \"#FF97FF\", \"#FECB52\"], \"font\": {\"color\": \"#2a3f5f\"}, \"geo\": {\"bgcolor\": \"white\", \"lakecolor\": \"white\", \"landcolor\": \"#E5ECF6\", \"showlakes\": true, \"showland\": true, \"subunitcolor\": \"white\"}, \"hoverlabel\": {\"align\": \"left\"}, \"hovermode\": \"closest\", \"mapbox\": {\"style\": \"light\"}, \"paper_bgcolor\": \"white\", \"plot_bgcolor\": \"#E5ECF6\", \"polar\": {\"angularaxis\": {\"gridcolor\": \"white\", \"linecolor\": \"white\", \"ticks\": \"\"}, \"bgcolor\": \"#E5ECF6\", \"radialaxis\": {\"gridcolor\": \"white\", \"linecolor\": \"white\", \"ticks\": \"\"}}, \"scene\": {\"xaxis\": {\"backgroundcolor\": \"#E5ECF6\", \"gridcolor\": \"white\", \"gridwidth\": 2, \"linecolor\": \"white\", \"showbackground\": true, \"ticks\": \"\", \"zerolinecolor\": \"white\"}, \"yaxis\": {\"backgroundcolor\": \"#E5ECF6\", \"gridcolor\": \"white\", \"gridwidth\": 2, \"linecolor\": \"white\", \"showbackground\": true, \"ticks\": \"\", \"zerolinecolor\": \"white\"}, \"zaxis\": {\"backgroundcolor\": \"#E5ECF6\", \"gridcolor\": \"white\", \"gridwidth\": 2, \"linecolor\": \"white\", \"showbackground\": true, \"ticks\": \"\", \"zerolinecolor\": \"white\"}}, \"shapedefaults\": {\"line\": {\"color\": \"#2a3f5f\"}}, \"ternary\": {\"aaxis\": {\"gridcolor\": \"white\", \"linecolor\": \"white\", \"ticks\": \"\"}, \"baxis\": {\"gridcolor\": \"white\", \"linecolor\": \"white\", \"ticks\": \"\"}, \"bgcolor\": \"#E5ECF6\", \"caxis\": {\"gridcolor\": \"white\", \"linecolor\": \"white\", \"ticks\": \"\"}}, \"title\": {\"x\": 0.05}, \"xaxis\": {\"automargin\": true, \"gridcolor\": \"white\", \"linecolor\": \"white\", \"ticks\": \"\", \"title\": {\"standoff\": 15}, \"zerolinecolor\": \"white\", \"zerolinewidth\": 2}, \"yaxis\": {\"automargin\": true, \"gridcolor\": \"white\", \"linecolor\": \"white\", \"ticks\": \"\", \"title\": {\"standoff\": 15}, \"zerolinecolor\": \"white\", \"zerolinewidth\": 2}}}},\n",
       "                        {\"responsive\": true}\n",
       "                    ).then(function(){\n",
       "                            \n",
       "var gd = document.getElementById('37c64819-f3a9-42f8-ae10-dd9ccdf35047');\n",
       "var x = new MutationObserver(function (mutations, observer) {{\n",
       "        var display = window.getComputedStyle(gd).display;\n",
       "        if (!display || display === 'none') {{\n",
       "            console.log([gd, 'removed!']);\n",
       "            Plotly.purge(gd);\n",
       "            observer.disconnect();\n",
       "        }}\n",
       "}});\n",
       "\n",
       "// Listen for the removal of the full notebook cells\n",
       "var notebookContainer = gd.closest('#notebook-container');\n",
       "if (notebookContainer) {{\n",
       "    x.observe(notebookContainer, {childList: true});\n",
       "}}\n",
       "\n",
       "// Listen for the clearing of the current output cell\n",
       "var outputEl = gd.closest('.output');\n",
       "if (outputEl) {{\n",
       "    x.observe(outputEl, {childList: true});\n",
       "}}\n",
       "\n",
       "                        })\n",
       "                };\n",
       "                });\n",
       "            </script>\n",
       "        </div>"
      ]
     },
     "metadata": {},
     "output_type": "display_data"
    }
   ],
   "source": [
    "models = GetBasedModel()\n",
    "names,results = BasedLine2(X_train, y_train,models)\n",
    "PlotBoxR().PlotResult(names,results)"
   ]
  },
  {
   "cell_type": "code",
   "execution_count": 15,
   "metadata": {},
   "outputs": [],
   "source": [
    "def ScoreDataFrame(names,results):\n",
    "    def floatingDecimals(f_val, dec=3):\n",
    "        prc = \"{:.\"+str(dec)+\"f}\" \n",
    "    \n",
    "        return float(prc.format(f_val))\n",
    "\n",
    "    scores = []\n",
    "    for r in results:\n",
    "        scores.append(floatingDecimals(r.mean(),4))\n",
    "\n",
    "    scoreDataFrame = pd.DataFrame({'Model':names, 'Score': scores})\n",
    "    return scoreDataFrame"
   ]
  },
  {
   "cell_type": "code",
   "execution_count": 275,
   "metadata": {},
   "outputs": [
    {
     "data": {
      "text/html": [
       "<div>\n",
       "<style scoped>\n",
       "    .dataframe tbody tr th:only-of-type {\n",
       "        vertical-align: middle;\n",
       "    }\n",
       "\n",
       "    .dataframe tbody tr th {\n",
       "        vertical-align: top;\n",
       "    }\n",
       "\n",
       "    .dataframe thead th {\n",
       "        text-align: right;\n",
       "    }\n",
       "</style>\n",
       "<table border=\"1\" class=\"dataframe\">\n",
       "  <thead>\n",
       "    <tr style=\"text-align: right;\">\n",
       "      <th></th>\n",
       "      <th>Model</th>\n",
       "      <th>Score</th>\n",
       "    </tr>\n",
       "  </thead>\n",
       "  <tbody>\n",
       "    <tr>\n",
       "      <th>0</th>\n",
       "      <td>LR</td>\n",
       "      <td>0.7803</td>\n",
       "    </tr>\n",
       "    <tr>\n",
       "      <th>1</th>\n",
       "      <td>LDA</td>\n",
       "      <td>0.8654</td>\n",
       "    </tr>\n",
       "    <tr>\n",
       "      <th>2</th>\n",
       "      <td>KNN</td>\n",
       "      <td>0.7562</td>\n",
       "    </tr>\n",
       "    <tr>\n",
       "      <th>3</th>\n",
       "      <td>CART</td>\n",
       "      <td>0.9072</td>\n",
       "    </tr>\n",
       "    <tr>\n",
       "      <th>4</th>\n",
       "      <td>NB</td>\n",
       "      <td>0.7721</td>\n",
       "    </tr>\n",
       "    <tr>\n",
       "      <th>5</th>\n",
       "      <td>SVM</td>\n",
       "      <td>0.6610</td>\n",
       "    </tr>\n",
       "    <tr>\n",
       "      <th>6</th>\n",
       "      <td>AB</td>\n",
       "      <td>0.9039</td>\n",
       "    </tr>\n",
       "    <tr>\n",
       "      <th>7</th>\n",
       "      <td>GBM</td>\n",
       "      <td>0.9600</td>\n",
       "    </tr>\n",
       "    <tr>\n",
       "      <th>8</th>\n",
       "      <td>RF</td>\n",
       "      <td>0.9959</td>\n",
       "    </tr>\n",
       "    <tr>\n",
       "      <th>9</th>\n",
       "      <td>ET</td>\n",
       "      <td>0.9954</td>\n",
       "    </tr>\n",
       "  </tbody>\n",
       "</table>\n",
       "</div>"
      ],
      "text/plain": [
       "  Model   Score\n",
       "0    LR  0.7803\n",
       "1   LDA  0.8654\n",
       "2   KNN  0.7562\n",
       "3  CART  0.9072\n",
       "4    NB  0.7721\n",
       "5   SVM  0.6610\n",
       "6    AB  0.9039\n",
       "7   GBM  0.9600\n",
       "8    RF  0.9959\n",
       "9    ET  0.9954"
      ]
     },
     "execution_count": 275,
     "metadata": {},
     "output_type": "execute_result"
    }
   ],
   "source": [
    "basedLineScore = ScoreDataFrame(names,results)\n",
    "basedLineScore"
   ]
  },
  {
   "cell_type": "markdown",
   "metadata": {
    "_uuid": "854b33477ce4badb713b62daf8e3110db369921b"
   },
   "source": [
    "# Feature Engineering\n",
    "## 4.1. Data Preprocessig"
   ]
  },
  {
   "cell_type": "markdown",
   "metadata": {
    "_uuid": "ceb38469afbcde69281ea1fcf20b1ed20c20b2d5"
   },
   "source": [
    "Numerical features preprocessing is different for tree and non tree model.\n",
    "\n",
    "1) Usually:\n",
    "- Tree based models does not depend on scaling\n",
    "- Non-tree based models hugely depend on scaling \n",
    "\n",
    "2) Most Often used preprocening are:\n",
    "- MinMax scaler to [0,1]\n",
    "- Standard Scaler to mean = 0 and std =1\n",
    "- Rank (We do not work on it in this data set)\n",
    "- Using np.log(1+data),  np.sqrt(data) and stats.boxcox(data) (for exp dependency)\n",
    "\n",
    "let's try some of them and see how our model prediction change by scalling\n"
   ]
  },
  {
   "cell_type": "code",
   "execution_count": 16,
   "metadata": {},
   "outputs": [],
   "source": [
    "from sklearn.preprocessing import StandardScaler\n",
    "from sklearn.preprocessing import MinMaxScaler\n",
    "\n",
    "\n",
    "def GetScaledModel(nameOfScaler):\n",
    "    \n",
    "    if nameOfScaler == 'standard':\n",
    "        scaler = StandardScaler()\n",
    "    elif nameOfScaler =='minmax':\n",
    "        scaler = MinMaxScaler()\n",
    "\n",
    "    pipelines = []\n",
    "    pipelines.append((nameOfScaler+'LR'  , Pipeline([('Scaler', scaler),('LR'  , LogisticRegression())])))\n",
    "    pipelines.append((nameOfScaler+'LDA' , Pipeline([('Scaler', scaler),('LDA' , LinearDiscriminantAnalysis())])))\n",
    "    pipelines.append((nameOfScaler+'KNN' , Pipeline([('Scaler', scaler),('KNN' , KNeighborsClassifier())])))\n",
    "    pipelines.append((nameOfScaler+'CART', Pipeline([('Scaler', scaler),('CART', DecisionTreeClassifier())])))\n",
    "    pipelines.append((nameOfScaler+'NB'  , Pipeline([('Scaler', scaler),('NB'  , GaussianNB())])))\n",
    "    pipelines.append((nameOfScaler+'SVM' , Pipeline([('Scaler', scaler),('SVM' , SVC())])))\n",
    "    pipelines.append((nameOfScaler+'AB'  , Pipeline([('Scaler', scaler),('AB'  , AdaBoostClassifier())])  ))\n",
    "    pipelines.append((nameOfScaler+'GBM' , Pipeline([('Scaler', scaler),('GMB' , GradientBoostingClassifier())])  ))\n",
    "    pipelines.append((nameOfScaler+'RF'  , Pipeline([('Scaler', scaler),('RF'  , RandomForestClassifier())])  ))\n",
    "    pipelines.append((nameOfScaler+'ET'  , Pipeline([('Scaler', scaler),('ET'  , ExtraTreesClassifier())])  ))\n",
    "\n",
    "\n",
    "    return pipelines "
   ]
  },
  {
   "cell_type": "code",
   "execution_count": 277,
   "metadata": {},
   "outputs": [
    {
     "name": "stdout",
     "output_type": "stream",
     "text": [
      "standardLR: 0.866385 (0.043165)\n",
      "standardLDA: 0.865445 (0.046898)\n",
      "standardKNN: 0.856721 (0.043269)\n",
      "standardCART: 0.907313 (0.021824)\n",
      "standardNB: 0.765730 (0.045627)\n",
      "standardSVM: 0.953967 (0.018532)\n",
      "standardAB: 0.904372 (0.031296)\n",
      "standardGBM: 0.960102 (0.017360)\n",
      "standardRF: 0.994891 (0.006188)\n",
      "standardET: 0.995199 (0.006037)\n"
     ]
    },
    {
     "data": {
      "application/vnd.plotly.v1+json": {
       "config": {
        "linkText": "Export to plot.ly",
        "plotlyServerURL": "https://plot.ly",
        "showLink": false
       },
       "data": [
        {
         "marker": {
          "color": "rgb(0, 128, 128)"
         },
         "name": "standardLR",
         "type": "box",
         "y": [
          0.8748313090418354,
          0.8775303643724696,
          0.8299595141700405,
          0.8987854251012146,
          0.873144399460189,
          0.9167526659786721,
          0.8916408668730651,
          0.8596491228070174,
          0.7550739594083248,
          0.8864809081527348
         ]
        },
        {
         "marker": {
          "color": "rgb(0, 128, 128)"
         },
         "name": "standardLDA",
         "type": "box",
         "y": [
          0.876855600539811,
          0.8778677462887989,
          0.8201754385964912,
          0.9045209176788125,
          0.8802294197031039,
          0.9177846577227382,
          0.8868249054007568,
          0.8548331613347094,
          0.7468180254557962,
          0.8885448916408669
         ]
        },
        {
         "marker": {
          "color": "rgb(0, 128, 128)"
         },
         "name": "standardKNN",
         "type": "box",
         "y": [
          0.8895074224021593,
          0.8712887989203779,
          0.8657219973009447,
          0.87972334682861,
          0.8468286099865048,
          0.8328173374613004,
          0.8436532507739938,
          0.9048847609219126,
          0.7442380460956313,
          0.8885448916408669
         ]
        },
        {
         "marker": {
          "color": "rgb(0, 128, 128)"
         },
         "name": "standardCART",
         "type": "box",
         "y": [
          0.9298245614035088,
          0.9035087719298246,
          0.9026653171390013,
          0.9473684210526316,
          0.9026653171390013,
          0.8849329205366357,
          0.867389060887513,
          0.9035087719298246,
          0.9024767801857585,
          0.9287925696594428
         ]
        },
        {
         "marker": {
          "color": "rgb(0, 128, 128)"
         },
         "name": "standardNB",
         "type": "box",
         "y": [
          0.7786774628879891,
          0.842442645074224,
          0.7580971659919028,
          0.7756410256410257,
          0.7790148448043185,
          0.7375300997592019,
          0.7588579291365668,
          0.738562091503268,
          0.6670106639146887,
          0.8214654282765738
         ]
        },
        {
         "marker": {
          "color": "rgb(0, 128, 128)"
         },
         "name": "standardSVM",
         "type": "box",
         "y": [
          0.953778677462888,
          0.9699730094466936,
          0.9622132253711201,
          0.989203778677463,
          0.9352226720647773,
          0.953560371517028,
          0.9487444100447195,
          0.9373925008599931,
          0.9219126246990024,
          0.9676642586859304
         ]
        },
        {
         "marker": {
          "color": "rgb(0, 128, 128)"
         },
         "name": "standardAB",
         "type": "box",
         "y": [
          0.944331983805668,
          0.8593117408906883,
          0.8633603238866396,
          0.892037786774629,
          0.9129554655870445,
          0.9418644650842793,
          0.9205366357069145,
          0.9208806329549364,
          0.8617131062951496,
          0.9267285861713106
         ]
        },
        {
         "marker": {
          "color": "rgb(0, 128, 128)"
         },
         "name": "standardGBM",
         "type": "box",
         "y": [
          0.9699730094466936,
          0.9642375168690958,
          0.9639001349527665,
          0.9838056680161943,
          0.9571524966261808,
          0.9690402476780187,
          0.9604403164774682,
          0.9487444100447197,
          0.9150326797385622,
          0.9686962504299965
         ]
        },
        {
         "marker": {
          "color": "rgb(0, 128, 128)"
         },
         "name": "standardRF",
         "type": "box",
         "y": [
          0.9979757085020242,
          1,
          0.9962887989203778,
          1,
          0.9885290148448043,
          0.9798761609907121,
          0.9958720330237358,
          0.9987960096319229,
          1,
          0.9915720674234606
         ]
        },
        {
         "marker": {
          "color": "rgb(0, 128, 128)"
         },
         "name": "standardET",
         "type": "box",
         "y": [
          0.9996626180836707,
          1,
          0.9908906882591093,
          1,
          0.9841430499325237,
          0.9943240454076367,
          0.9979360165118679,
          1,
          1,
          0.9850361197110423
         ]
        }
       ],
       "layout": {
        "template": {
         "data": {
          "bar": [
           {
            "error_x": {
             "color": "#2a3f5f"
            },
            "error_y": {
             "color": "#2a3f5f"
            },
            "marker": {
             "line": {
              "color": "#E5ECF6",
              "width": 0.5
             }
            },
            "type": "bar"
           }
          ],
          "barpolar": [
           {
            "marker": {
             "line": {
              "color": "#E5ECF6",
              "width": 0.5
             }
            },
            "type": "barpolar"
           }
          ],
          "carpet": [
           {
            "aaxis": {
             "endlinecolor": "#2a3f5f",
             "gridcolor": "white",
             "linecolor": "white",
             "minorgridcolor": "white",
             "startlinecolor": "#2a3f5f"
            },
            "baxis": {
             "endlinecolor": "#2a3f5f",
             "gridcolor": "white",
             "linecolor": "white",
             "minorgridcolor": "white",
             "startlinecolor": "#2a3f5f"
            },
            "type": "carpet"
           }
          ],
          "choropleth": [
           {
            "colorbar": {
             "outlinewidth": 0,
             "ticks": ""
            },
            "type": "choropleth"
           }
          ],
          "contour": [
           {
            "colorbar": {
             "outlinewidth": 0,
             "ticks": ""
            },
            "colorscale": [
             [
              0,
              "#0d0887"
             ],
             [
              0.1111111111111111,
              "#46039f"
             ],
             [
              0.2222222222222222,
              "#7201a8"
             ],
             [
              0.3333333333333333,
              "#9c179e"
             ],
             [
              0.4444444444444444,
              "#bd3786"
             ],
             [
              0.5555555555555556,
              "#d8576b"
             ],
             [
              0.6666666666666666,
              "#ed7953"
             ],
             [
              0.7777777777777778,
              "#fb9f3a"
             ],
             [
              0.8888888888888888,
              "#fdca26"
             ],
             [
              1,
              "#f0f921"
             ]
            ],
            "type": "contour"
           }
          ],
          "contourcarpet": [
           {
            "colorbar": {
             "outlinewidth": 0,
             "ticks": ""
            },
            "type": "contourcarpet"
           }
          ],
          "heatmap": [
           {
            "colorbar": {
             "outlinewidth": 0,
             "ticks": ""
            },
            "colorscale": [
             [
              0,
              "#0d0887"
             ],
             [
              0.1111111111111111,
              "#46039f"
             ],
             [
              0.2222222222222222,
              "#7201a8"
             ],
             [
              0.3333333333333333,
              "#9c179e"
             ],
             [
              0.4444444444444444,
              "#bd3786"
             ],
             [
              0.5555555555555556,
              "#d8576b"
             ],
             [
              0.6666666666666666,
              "#ed7953"
             ],
             [
              0.7777777777777778,
              "#fb9f3a"
             ],
             [
              0.8888888888888888,
              "#fdca26"
             ],
             [
              1,
              "#f0f921"
             ]
            ],
            "type": "heatmap"
           }
          ],
          "heatmapgl": [
           {
            "colorbar": {
             "outlinewidth": 0,
             "ticks": ""
            },
            "colorscale": [
             [
              0,
              "#0d0887"
             ],
             [
              0.1111111111111111,
              "#46039f"
             ],
             [
              0.2222222222222222,
              "#7201a8"
             ],
             [
              0.3333333333333333,
              "#9c179e"
             ],
             [
              0.4444444444444444,
              "#bd3786"
             ],
             [
              0.5555555555555556,
              "#d8576b"
             ],
             [
              0.6666666666666666,
              "#ed7953"
             ],
             [
              0.7777777777777778,
              "#fb9f3a"
             ],
             [
              0.8888888888888888,
              "#fdca26"
             ],
             [
              1,
              "#f0f921"
             ]
            ],
            "type": "heatmapgl"
           }
          ],
          "histogram": [
           {
            "marker": {
             "colorbar": {
              "outlinewidth": 0,
              "ticks": ""
             }
            },
            "type": "histogram"
           }
          ],
          "histogram2d": [
           {
            "colorbar": {
             "outlinewidth": 0,
             "ticks": ""
            },
            "colorscale": [
             [
              0,
              "#0d0887"
             ],
             [
              0.1111111111111111,
              "#46039f"
             ],
             [
              0.2222222222222222,
              "#7201a8"
             ],
             [
              0.3333333333333333,
              "#9c179e"
             ],
             [
              0.4444444444444444,
              "#bd3786"
             ],
             [
              0.5555555555555556,
              "#d8576b"
             ],
             [
              0.6666666666666666,
              "#ed7953"
             ],
             [
              0.7777777777777778,
              "#fb9f3a"
             ],
             [
              0.8888888888888888,
              "#fdca26"
             ],
             [
              1,
              "#f0f921"
             ]
            ],
            "type": "histogram2d"
           }
          ],
          "histogram2dcontour": [
           {
            "colorbar": {
             "outlinewidth": 0,
             "ticks": ""
            },
            "colorscale": [
             [
              0,
              "#0d0887"
             ],
             [
              0.1111111111111111,
              "#46039f"
             ],
             [
              0.2222222222222222,
              "#7201a8"
             ],
             [
              0.3333333333333333,
              "#9c179e"
             ],
             [
              0.4444444444444444,
              "#bd3786"
             ],
             [
              0.5555555555555556,
              "#d8576b"
             ],
             [
              0.6666666666666666,
              "#ed7953"
             ],
             [
              0.7777777777777778,
              "#fb9f3a"
             ],
             [
              0.8888888888888888,
              "#fdca26"
             ],
             [
              1,
              "#f0f921"
             ]
            ],
            "type": "histogram2dcontour"
           }
          ],
          "mesh3d": [
           {
            "colorbar": {
             "outlinewidth": 0,
             "ticks": ""
            },
            "type": "mesh3d"
           }
          ],
          "parcoords": [
           {
            "line": {
             "colorbar": {
              "outlinewidth": 0,
              "ticks": ""
             }
            },
            "type": "parcoords"
           }
          ],
          "pie": [
           {
            "automargin": true,
            "type": "pie"
           }
          ],
          "scatter": [
           {
            "marker": {
             "colorbar": {
              "outlinewidth": 0,
              "ticks": ""
             }
            },
            "type": "scatter"
           }
          ],
          "scatter3d": [
           {
            "line": {
             "colorbar": {
              "outlinewidth": 0,
              "ticks": ""
             }
            },
            "marker": {
             "colorbar": {
              "outlinewidth": 0,
              "ticks": ""
             }
            },
            "type": "scatter3d"
           }
          ],
          "scattercarpet": [
           {
            "marker": {
             "colorbar": {
              "outlinewidth": 0,
              "ticks": ""
             }
            },
            "type": "scattercarpet"
           }
          ],
          "scattergeo": [
           {
            "marker": {
             "colorbar": {
              "outlinewidth": 0,
              "ticks": ""
             }
            },
            "type": "scattergeo"
           }
          ],
          "scattergl": [
           {
            "marker": {
             "colorbar": {
              "outlinewidth": 0,
              "ticks": ""
             }
            },
            "type": "scattergl"
           }
          ],
          "scattermapbox": [
           {
            "marker": {
             "colorbar": {
              "outlinewidth": 0,
              "ticks": ""
             }
            },
            "type": "scattermapbox"
           }
          ],
          "scatterpolar": [
           {
            "marker": {
             "colorbar": {
              "outlinewidth": 0,
              "ticks": ""
             }
            },
            "type": "scatterpolar"
           }
          ],
          "scatterpolargl": [
           {
            "marker": {
             "colorbar": {
              "outlinewidth": 0,
              "ticks": ""
             }
            },
            "type": "scatterpolargl"
           }
          ],
          "scatterternary": [
           {
            "marker": {
             "colorbar": {
              "outlinewidth": 0,
              "ticks": ""
             }
            },
            "type": "scatterternary"
           }
          ],
          "surface": [
           {
            "colorbar": {
             "outlinewidth": 0,
             "ticks": ""
            },
            "colorscale": [
             [
              0,
              "#0d0887"
             ],
             [
              0.1111111111111111,
              "#46039f"
             ],
             [
              0.2222222222222222,
              "#7201a8"
             ],
             [
              0.3333333333333333,
              "#9c179e"
             ],
             [
              0.4444444444444444,
              "#bd3786"
             ],
             [
              0.5555555555555556,
              "#d8576b"
             ],
             [
              0.6666666666666666,
              "#ed7953"
             ],
             [
              0.7777777777777778,
              "#fb9f3a"
             ],
             [
              0.8888888888888888,
              "#fdca26"
             ],
             [
              1,
              "#f0f921"
             ]
            ],
            "type": "surface"
           }
          ],
          "table": [
           {
            "cells": {
             "fill": {
              "color": "#EBF0F8"
             },
             "line": {
              "color": "white"
             }
            },
            "header": {
             "fill": {
              "color": "#C8D4E3"
             },
             "line": {
              "color": "white"
             }
            },
            "type": "table"
           }
          ]
         },
         "layout": {
          "annotationdefaults": {
           "arrowcolor": "#2a3f5f",
           "arrowhead": 0,
           "arrowwidth": 1
          },
          "coloraxis": {
           "colorbar": {
            "outlinewidth": 0,
            "ticks": ""
           }
          },
          "colorscale": {
           "diverging": [
            [
             0,
             "#8e0152"
            ],
            [
             0.1,
             "#c51b7d"
            ],
            [
             0.2,
             "#de77ae"
            ],
            [
             0.3,
             "#f1b6da"
            ],
            [
             0.4,
             "#fde0ef"
            ],
            [
             0.5,
             "#f7f7f7"
            ],
            [
             0.6,
             "#e6f5d0"
            ],
            [
             0.7,
             "#b8e186"
            ],
            [
             0.8,
             "#7fbc41"
            ],
            [
             0.9,
             "#4d9221"
            ],
            [
             1,
             "#276419"
            ]
           ],
           "sequential": [
            [
             0,
             "#0d0887"
            ],
            [
             0.1111111111111111,
             "#46039f"
            ],
            [
             0.2222222222222222,
             "#7201a8"
            ],
            [
             0.3333333333333333,
             "#9c179e"
            ],
            [
             0.4444444444444444,
             "#bd3786"
            ],
            [
             0.5555555555555556,
             "#d8576b"
            ],
            [
             0.6666666666666666,
             "#ed7953"
            ],
            [
             0.7777777777777778,
             "#fb9f3a"
            ],
            [
             0.8888888888888888,
             "#fdca26"
            ],
            [
             1,
             "#f0f921"
            ]
           ],
           "sequentialminus": [
            [
             0,
             "#0d0887"
            ],
            [
             0.1111111111111111,
             "#46039f"
            ],
            [
             0.2222222222222222,
             "#7201a8"
            ],
            [
             0.3333333333333333,
             "#9c179e"
            ],
            [
             0.4444444444444444,
             "#bd3786"
            ],
            [
             0.5555555555555556,
             "#d8576b"
            ],
            [
             0.6666666666666666,
             "#ed7953"
            ],
            [
             0.7777777777777778,
             "#fb9f3a"
            ],
            [
             0.8888888888888888,
             "#fdca26"
            ],
            [
             1,
             "#f0f921"
            ]
           ]
          },
          "colorway": [
           "#636efa",
           "#EF553B",
           "#00cc96",
           "#ab63fa",
           "#FFA15A",
           "#19d3f3",
           "#FF6692",
           "#B6E880",
           "#FF97FF",
           "#FECB52"
          ],
          "font": {
           "color": "#2a3f5f"
          },
          "geo": {
           "bgcolor": "white",
           "lakecolor": "white",
           "landcolor": "#E5ECF6",
           "showlakes": true,
           "showland": true,
           "subunitcolor": "white"
          },
          "hoverlabel": {
           "align": "left"
          },
          "hovermode": "closest",
          "mapbox": {
           "style": "light"
          },
          "paper_bgcolor": "white",
          "plot_bgcolor": "#E5ECF6",
          "polar": {
           "angularaxis": {
            "gridcolor": "white",
            "linecolor": "white",
            "ticks": ""
           },
           "bgcolor": "#E5ECF6",
           "radialaxis": {
            "gridcolor": "white",
            "linecolor": "white",
            "ticks": ""
           }
          },
          "scene": {
           "xaxis": {
            "backgroundcolor": "#E5ECF6",
            "gridcolor": "white",
            "gridwidth": 2,
            "linecolor": "white",
            "showbackground": true,
            "ticks": "",
            "zerolinecolor": "white"
           },
           "yaxis": {
            "backgroundcolor": "#E5ECF6",
            "gridcolor": "white",
            "gridwidth": 2,
            "linecolor": "white",
            "showbackground": true,
            "ticks": "",
            "zerolinecolor": "white"
           },
           "zaxis": {
            "backgroundcolor": "#E5ECF6",
            "gridcolor": "white",
            "gridwidth": 2,
            "linecolor": "white",
            "showbackground": true,
            "ticks": "",
            "zerolinecolor": "white"
           }
          },
          "shapedefaults": {
           "line": {
            "color": "#2a3f5f"
           }
          },
          "ternary": {
           "aaxis": {
            "gridcolor": "white",
            "linecolor": "white",
            "ticks": ""
           },
           "baxis": {
            "gridcolor": "white",
            "linecolor": "white",
            "ticks": ""
           },
           "bgcolor": "#E5ECF6",
           "caxis": {
            "gridcolor": "white",
            "linecolor": "white",
            "ticks": ""
           }
          },
          "title": {
           "x": 0.05
          },
          "xaxis": {
           "automargin": true,
           "gridcolor": "white",
           "linecolor": "white",
           "ticks": "",
           "title": {
            "standoff": 15
           },
           "zerolinecolor": "white",
           "zerolinewidth": 2
          },
          "yaxis": {
           "automargin": true,
           "gridcolor": "white",
           "linecolor": "white",
           "ticks": "",
           "title": {
            "standoff": 15
           },
           "zerolinecolor": "white",
           "zerolinewidth": 2
          }
         }
        }
       }
      },
      "text/html": [
       "<div>\n",
       "        \n",
       "        \n",
       "            <div id=\"ec35a696-aef9-403f-8346-687df31023e0\" class=\"plotly-graph-div\" style=\"height:525px; width:100%;\"></div>\n",
       "            <script type=\"text/javascript\">\n",
       "                require([\"plotly\"], function(Plotly) {\n",
       "                    window.PLOTLYENV=window.PLOTLYENV || {};\n",
       "                    \n",
       "                if (document.getElementById(\"ec35a696-aef9-403f-8346-687df31023e0\")) {\n",
       "                    Plotly.newPlot(\n",
       "                        'ec35a696-aef9-403f-8346-687df31023e0',\n",
       "                        [{\"marker\": {\"color\": \"rgb(0, 128, 128)\"}, \"name\": \"standardLR\", \"type\": \"box\", \"y\": [0.8748313090418354, 0.8775303643724696, 0.8299595141700405, 0.8987854251012146, 0.873144399460189, 0.9167526659786721, 0.8916408668730651, 0.8596491228070174, 0.7550739594083248, 0.8864809081527348]}, {\"marker\": {\"color\": \"rgb(0, 128, 128)\"}, \"name\": \"standardLDA\", \"type\": \"box\", \"y\": [0.876855600539811, 0.8778677462887989, 0.8201754385964912, 0.9045209176788125, 0.8802294197031039, 0.9177846577227382, 0.8868249054007568, 0.8548331613347094, 0.7468180254557962, 0.8885448916408669]}, {\"marker\": {\"color\": \"rgb(0, 128, 128)\"}, \"name\": \"standardKNN\", \"type\": \"box\", \"y\": [0.8895074224021593, 0.8712887989203779, 0.8657219973009447, 0.87972334682861, 0.8468286099865048, 0.8328173374613004, 0.8436532507739938, 0.9048847609219126, 0.7442380460956313, 0.8885448916408669]}, {\"marker\": {\"color\": \"rgb(0, 128, 128)\"}, \"name\": \"standardCART\", \"type\": \"box\", \"y\": [0.9298245614035088, 0.9035087719298246, 0.9026653171390013, 0.9473684210526316, 0.9026653171390013, 0.8849329205366357, 0.867389060887513, 0.9035087719298246, 0.9024767801857585, 0.9287925696594428]}, {\"marker\": {\"color\": \"rgb(0, 128, 128)\"}, \"name\": \"standardNB\", \"type\": \"box\", \"y\": [0.7786774628879891, 0.842442645074224, 0.7580971659919028, 0.7756410256410257, 0.7790148448043185, 0.7375300997592019, 0.7588579291365668, 0.738562091503268, 0.6670106639146887, 0.8214654282765738]}, {\"marker\": {\"color\": \"rgb(0, 128, 128)\"}, \"name\": \"standardSVM\", \"type\": \"box\", \"y\": [0.953778677462888, 0.9699730094466936, 0.9622132253711201, 0.989203778677463, 0.9352226720647773, 0.953560371517028, 0.9487444100447195, 0.9373925008599931, 0.9219126246990024, 0.9676642586859304]}, {\"marker\": {\"color\": \"rgb(0, 128, 128)\"}, \"name\": \"standardAB\", \"type\": \"box\", \"y\": [0.944331983805668, 0.8593117408906883, 0.8633603238866396, 0.892037786774629, 0.9129554655870445, 0.9418644650842793, 0.9205366357069145, 0.9208806329549364, 0.8617131062951496, 0.9267285861713106]}, {\"marker\": {\"color\": \"rgb(0, 128, 128)\"}, \"name\": \"standardGBM\", \"type\": \"box\", \"y\": [0.9699730094466936, 0.9642375168690958, 0.9639001349527665, 0.9838056680161943, 0.9571524966261808, 0.9690402476780187, 0.9604403164774682, 0.9487444100447197, 0.9150326797385622, 0.9686962504299965]}, {\"marker\": {\"color\": \"rgb(0, 128, 128)\"}, \"name\": \"standardRF\", \"type\": \"box\", \"y\": [0.9979757085020242, 1.0, 0.9962887989203778, 1.0, 0.9885290148448043, 0.9798761609907121, 0.9958720330237358, 0.9987960096319229, 1.0, 0.9915720674234606]}, {\"marker\": {\"color\": \"rgb(0, 128, 128)\"}, \"name\": \"standardET\", \"type\": \"box\", \"y\": [0.9996626180836707, 1.0, 0.9908906882591093, 1.0, 0.9841430499325237, 0.9943240454076367, 0.9979360165118679, 1.0, 1.0, 0.9850361197110423]}],\n",
       "                        {\"template\": {\"data\": {\"bar\": [{\"error_x\": {\"color\": \"#2a3f5f\"}, \"error_y\": {\"color\": \"#2a3f5f\"}, \"marker\": {\"line\": {\"color\": \"#E5ECF6\", \"width\": 0.5}}, \"type\": \"bar\"}], \"barpolar\": [{\"marker\": {\"line\": {\"color\": \"#E5ECF6\", \"width\": 0.5}}, \"type\": \"barpolar\"}], \"carpet\": [{\"aaxis\": {\"endlinecolor\": \"#2a3f5f\", \"gridcolor\": \"white\", \"linecolor\": \"white\", \"minorgridcolor\": \"white\", \"startlinecolor\": \"#2a3f5f\"}, \"baxis\": {\"endlinecolor\": \"#2a3f5f\", \"gridcolor\": \"white\", \"linecolor\": \"white\", \"minorgridcolor\": \"white\", \"startlinecolor\": \"#2a3f5f\"}, \"type\": \"carpet\"}], \"choropleth\": [{\"colorbar\": {\"outlinewidth\": 0, \"ticks\": \"\"}, \"type\": \"choropleth\"}], \"contour\": [{\"colorbar\": {\"outlinewidth\": 0, \"ticks\": \"\"}, \"colorscale\": [[0.0, \"#0d0887\"], [0.1111111111111111, \"#46039f\"], [0.2222222222222222, \"#7201a8\"], [0.3333333333333333, \"#9c179e\"], [0.4444444444444444, \"#bd3786\"], [0.5555555555555556, \"#d8576b\"], [0.6666666666666666, \"#ed7953\"], [0.7777777777777778, \"#fb9f3a\"], [0.8888888888888888, \"#fdca26\"], [1.0, \"#f0f921\"]], \"type\": \"contour\"}], \"contourcarpet\": [{\"colorbar\": {\"outlinewidth\": 0, \"ticks\": \"\"}, \"type\": \"contourcarpet\"}], \"heatmap\": [{\"colorbar\": {\"outlinewidth\": 0, \"ticks\": \"\"}, \"colorscale\": [[0.0, \"#0d0887\"], [0.1111111111111111, \"#46039f\"], [0.2222222222222222, \"#7201a8\"], [0.3333333333333333, \"#9c179e\"], [0.4444444444444444, \"#bd3786\"], [0.5555555555555556, \"#d8576b\"], [0.6666666666666666, \"#ed7953\"], [0.7777777777777778, \"#fb9f3a\"], [0.8888888888888888, \"#fdca26\"], [1.0, \"#f0f921\"]], \"type\": \"heatmap\"}], \"heatmapgl\": [{\"colorbar\": {\"outlinewidth\": 0, \"ticks\": \"\"}, \"colorscale\": [[0.0, \"#0d0887\"], [0.1111111111111111, \"#46039f\"], [0.2222222222222222, \"#7201a8\"], [0.3333333333333333, \"#9c179e\"], [0.4444444444444444, \"#bd3786\"], [0.5555555555555556, \"#d8576b\"], [0.6666666666666666, \"#ed7953\"], [0.7777777777777778, \"#fb9f3a\"], [0.8888888888888888, \"#fdca26\"], [1.0, \"#f0f921\"]], \"type\": \"heatmapgl\"}], \"histogram\": [{\"marker\": {\"colorbar\": {\"outlinewidth\": 0, \"ticks\": \"\"}}, \"type\": \"histogram\"}], \"histogram2d\": [{\"colorbar\": {\"outlinewidth\": 0, \"ticks\": \"\"}, \"colorscale\": [[0.0, \"#0d0887\"], [0.1111111111111111, \"#46039f\"], [0.2222222222222222, \"#7201a8\"], [0.3333333333333333, \"#9c179e\"], [0.4444444444444444, \"#bd3786\"], [0.5555555555555556, \"#d8576b\"], [0.6666666666666666, \"#ed7953\"], [0.7777777777777778, \"#fb9f3a\"], [0.8888888888888888, \"#fdca26\"], [1.0, \"#f0f921\"]], \"type\": \"histogram2d\"}], \"histogram2dcontour\": [{\"colorbar\": {\"outlinewidth\": 0, \"ticks\": \"\"}, \"colorscale\": [[0.0, \"#0d0887\"], [0.1111111111111111, \"#46039f\"], [0.2222222222222222, \"#7201a8\"], [0.3333333333333333, \"#9c179e\"], [0.4444444444444444, \"#bd3786\"], [0.5555555555555556, \"#d8576b\"], [0.6666666666666666, \"#ed7953\"], [0.7777777777777778, \"#fb9f3a\"], [0.8888888888888888, \"#fdca26\"], [1.0, \"#f0f921\"]], \"type\": \"histogram2dcontour\"}], \"mesh3d\": [{\"colorbar\": {\"outlinewidth\": 0, \"ticks\": \"\"}, \"type\": \"mesh3d\"}], \"parcoords\": [{\"line\": {\"colorbar\": {\"outlinewidth\": 0, \"ticks\": \"\"}}, \"type\": \"parcoords\"}], \"pie\": [{\"automargin\": true, \"type\": \"pie\"}], \"scatter\": [{\"marker\": {\"colorbar\": {\"outlinewidth\": 0, \"ticks\": \"\"}}, \"type\": \"scatter\"}], \"scatter3d\": [{\"line\": {\"colorbar\": {\"outlinewidth\": 0, \"ticks\": \"\"}}, \"marker\": {\"colorbar\": {\"outlinewidth\": 0, \"ticks\": \"\"}}, \"type\": \"scatter3d\"}], \"scattercarpet\": [{\"marker\": {\"colorbar\": {\"outlinewidth\": 0, \"ticks\": \"\"}}, \"type\": \"scattercarpet\"}], \"scattergeo\": [{\"marker\": {\"colorbar\": {\"outlinewidth\": 0, \"ticks\": \"\"}}, \"type\": \"scattergeo\"}], \"scattergl\": [{\"marker\": {\"colorbar\": {\"outlinewidth\": 0, \"ticks\": \"\"}}, \"type\": \"scattergl\"}], \"scattermapbox\": [{\"marker\": {\"colorbar\": {\"outlinewidth\": 0, \"ticks\": \"\"}}, \"type\": \"scattermapbox\"}], \"scatterpolar\": [{\"marker\": {\"colorbar\": {\"outlinewidth\": 0, \"ticks\": \"\"}}, \"type\": \"scatterpolar\"}], \"scatterpolargl\": [{\"marker\": {\"colorbar\": {\"outlinewidth\": 0, \"ticks\": \"\"}}, \"type\": \"scatterpolargl\"}], \"scatterternary\": [{\"marker\": {\"colorbar\": {\"outlinewidth\": 0, \"ticks\": \"\"}}, \"type\": \"scatterternary\"}], \"surface\": [{\"colorbar\": {\"outlinewidth\": 0, \"ticks\": \"\"}, \"colorscale\": [[0.0, \"#0d0887\"], [0.1111111111111111, \"#46039f\"], [0.2222222222222222, \"#7201a8\"], [0.3333333333333333, \"#9c179e\"], [0.4444444444444444, \"#bd3786\"], [0.5555555555555556, \"#d8576b\"], [0.6666666666666666, \"#ed7953\"], [0.7777777777777778, \"#fb9f3a\"], [0.8888888888888888, \"#fdca26\"], [1.0, \"#f0f921\"]], \"type\": \"surface\"}], \"table\": [{\"cells\": {\"fill\": {\"color\": \"#EBF0F8\"}, \"line\": {\"color\": \"white\"}}, \"header\": {\"fill\": {\"color\": \"#C8D4E3\"}, \"line\": {\"color\": \"white\"}}, \"type\": \"table\"}]}, \"layout\": {\"annotationdefaults\": {\"arrowcolor\": \"#2a3f5f\", \"arrowhead\": 0, \"arrowwidth\": 1}, \"coloraxis\": {\"colorbar\": {\"outlinewidth\": 0, \"ticks\": \"\"}}, \"colorscale\": {\"diverging\": [[0, \"#8e0152\"], [0.1, \"#c51b7d\"], [0.2, \"#de77ae\"], [0.3, \"#f1b6da\"], [0.4, \"#fde0ef\"], [0.5, \"#f7f7f7\"], [0.6, \"#e6f5d0\"], [0.7, \"#b8e186\"], [0.8, \"#7fbc41\"], [0.9, \"#4d9221\"], [1, \"#276419\"]], \"sequential\": [[0.0, \"#0d0887\"], [0.1111111111111111, \"#46039f\"], [0.2222222222222222, \"#7201a8\"], [0.3333333333333333, \"#9c179e\"], [0.4444444444444444, \"#bd3786\"], [0.5555555555555556, \"#d8576b\"], [0.6666666666666666, \"#ed7953\"], [0.7777777777777778, \"#fb9f3a\"], [0.8888888888888888, \"#fdca26\"], [1.0, \"#f0f921\"]], \"sequentialminus\": [[0.0, \"#0d0887\"], [0.1111111111111111, \"#46039f\"], [0.2222222222222222, \"#7201a8\"], [0.3333333333333333, \"#9c179e\"], [0.4444444444444444, \"#bd3786\"], [0.5555555555555556, \"#d8576b\"], [0.6666666666666666, \"#ed7953\"], [0.7777777777777778, \"#fb9f3a\"], [0.8888888888888888, \"#fdca26\"], [1.0, \"#f0f921\"]]}, \"colorway\": [\"#636efa\", \"#EF553B\", \"#00cc96\", \"#ab63fa\", \"#FFA15A\", \"#19d3f3\", \"#FF6692\", \"#B6E880\", \"#FF97FF\", \"#FECB52\"], \"font\": {\"color\": \"#2a3f5f\"}, \"geo\": {\"bgcolor\": \"white\", \"lakecolor\": \"white\", \"landcolor\": \"#E5ECF6\", \"showlakes\": true, \"showland\": true, \"subunitcolor\": \"white\"}, \"hoverlabel\": {\"align\": \"left\"}, \"hovermode\": \"closest\", \"mapbox\": {\"style\": \"light\"}, \"paper_bgcolor\": \"white\", \"plot_bgcolor\": \"#E5ECF6\", \"polar\": {\"angularaxis\": {\"gridcolor\": \"white\", \"linecolor\": \"white\", \"ticks\": \"\"}, \"bgcolor\": \"#E5ECF6\", \"radialaxis\": {\"gridcolor\": \"white\", \"linecolor\": \"white\", \"ticks\": \"\"}}, \"scene\": {\"xaxis\": {\"backgroundcolor\": \"#E5ECF6\", \"gridcolor\": \"white\", \"gridwidth\": 2, \"linecolor\": \"white\", \"showbackground\": true, \"ticks\": \"\", \"zerolinecolor\": \"white\"}, \"yaxis\": {\"backgroundcolor\": \"#E5ECF6\", \"gridcolor\": \"white\", \"gridwidth\": 2, \"linecolor\": \"white\", \"showbackground\": true, \"ticks\": \"\", \"zerolinecolor\": \"white\"}, \"zaxis\": {\"backgroundcolor\": \"#E5ECF6\", \"gridcolor\": \"white\", \"gridwidth\": 2, \"linecolor\": \"white\", \"showbackground\": true, \"ticks\": \"\", \"zerolinecolor\": \"white\"}}, \"shapedefaults\": {\"line\": {\"color\": \"#2a3f5f\"}}, \"ternary\": {\"aaxis\": {\"gridcolor\": \"white\", \"linecolor\": \"white\", \"ticks\": \"\"}, \"baxis\": {\"gridcolor\": \"white\", \"linecolor\": \"white\", \"ticks\": \"\"}, \"bgcolor\": \"#E5ECF6\", \"caxis\": {\"gridcolor\": \"white\", \"linecolor\": \"white\", \"ticks\": \"\"}}, \"title\": {\"x\": 0.05}, \"xaxis\": {\"automargin\": true, \"gridcolor\": \"white\", \"linecolor\": \"white\", \"ticks\": \"\", \"title\": {\"standoff\": 15}, \"zerolinecolor\": \"white\", \"zerolinewidth\": 2}, \"yaxis\": {\"automargin\": true, \"gridcolor\": \"white\", \"linecolor\": \"white\", \"ticks\": \"\", \"title\": {\"standoff\": 15}, \"zerolinecolor\": \"white\", \"zerolinewidth\": 2}}}},\n",
       "                        {\"responsive\": true}\n",
       "                    ).then(function(){\n",
       "                            \n",
       "var gd = document.getElementById('ec35a696-aef9-403f-8346-687df31023e0');\n",
       "var x = new MutationObserver(function (mutations, observer) {{\n",
       "        var display = window.getComputedStyle(gd).display;\n",
       "        if (!display || display === 'none') {{\n",
       "            console.log([gd, 'removed!']);\n",
       "            Plotly.purge(gd);\n",
       "            observer.disconnect();\n",
       "        }}\n",
       "}});\n",
       "\n",
       "// Listen for the removal of the full notebook cells\n",
       "var notebookContainer = gd.closest('#notebook-container');\n",
       "if (notebookContainer) {{\n",
       "    x.observe(notebookContainer, {childList: true});\n",
       "}}\n",
       "\n",
       "// Listen for the clearing of the current output cell\n",
       "var outputEl = gd.closest('.output');\n",
       "if (outputEl) {{\n",
       "    x.observe(outputEl, {childList: true});\n",
       "}}\n",
       "\n",
       "                        })\n",
       "                };\n",
       "                });\n",
       "            </script>\n",
       "        </div>"
      ]
     },
     "metadata": {},
     "output_type": "display_data"
    },
    {
     "data": {
      "text/html": [
       "<div>\n",
       "<style scoped>\n",
       "    .dataframe tbody tr th:only-of-type {\n",
       "        vertical-align: middle;\n",
       "    }\n",
       "\n",
       "    .dataframe tbody tr th {\n",
       "        vertical-align: top;\n",
       "    }\n",
       "\n",
       "    .dataframe thead th {\n",
       "        text-align: right;\n",
       "    }\n",
       "</style>\n",
       "<table border=\"1\" class=\"dataframe\">\n",
       "  <thead>\n",
       "    <tr style=\"text-align: right;\">\n",
       "      <th></th>\n",
       "      <th>Model</th>\n",
       "      <th>Score</th>\n",
       "      <th>Model</th>\n",
       "      <th>Score</th>\n",
       "    </tr>\n",
       "  </thead>\n",
       "  <tbody>\n",
       "    <tr>\n",
       "      <th>0</th>\n",
       "      <td>LR</td>\n",
       "      <td>0.7803</td>\n",
       "      <td>standardLR</td>\n",
       "      <td>0.8664</td>\n",
       "    </tr>\n",
       "    <tr>\n",
       "      <th>1</th>\n",
       "      <td>LDA</td>\n",
       "      <td>0.8654</td>\n",
       "      <td>standardLDA</td>\n",
       "      <td>0.8654</td>\n",
       "    </tr>\n",
       "    <tr>\n",
       "      <th>2</th>\n",
       "      <td>KNN</td>\n",
       "      <td>0.7562</td>\n",
       "      <td>standardKNN</td>\n",
       "      <td>0.8567</td>\n",
       "    </tr>\n",
       "    <tr>\n",
       "      <th>3</th>\n",
       "      <td>CART</td>\n",
       "      <td>0.9072</td>\n",
       "      <td>standardCART</td>\n",
       "      <td>0.9073</td>\n",
       "    </tr>\n",
       "    <tr>\n",
       "      <th>4</th>\n",
       "      <td>NB</td>\n",
       "      <td>0.7721</td>\n",
       "      <td>standardNB</td>\n",
       "      <td>0.7657</td>\n",
       "    </tr>\n",
       "    <tr>\n",
       "      <th>5</th>\n",
       "      <td>SVM</td>\n",
       "      <td>0.6610</td>\n",
       "      <td>standardSVM</td>\n",
       "      <td>0.9540</td>\n",
       "    </tr>\n",
       "    <tr>\n",
       "      <th>6</th>\n",
       "      <td>AB</td>\n",
       "      <td>0.9039</td>\n",
       "      <td>standardAB</td>\n",
       "      <td>0.9044</td>\n",
       "    </tr>\n",
       "    <tr>\n",
       "      <th>7</th>\n",
       "      <td>GBM</td>\n",
       "      <td>0.9600</td>\n",
       "      <td>standardGBM</td>\n",
       "      <td>0.9601</td>\n",
       "    </tr>\n",
       "    <tr>\n",
       "      <th>8</th>\n",
       "      <td>RF</td>\n",
       "      <td>0.9959</td>\n",
       "      <td>standardRF</td>\n",
       "      <td>0.9949</td>\n",
       "    </tr>\n",
       "    <tr>\n",
       "      <th>9</th>\n",
       "      <td>ET</td>\n",
       "      <td>0.9954</td>\n",
       "      <td>standardET</td>\n",
       "      <td>0.9952</td>\n",
       "    </tr>\n",
       "  </tbody>\n",
       "</table>\n",
       "</div>"
      ],
      "text/plain": [
       "  Model   Score         Model   Score\n",
       "0    LR  0.7803    standardLR  0.8664\n",
       "1   LDA  0.8654   standardLDA  0.8654\n",
       "2   KNN  0.7562   standardKNN  0.8567\n",
       "3  CART  0.9072  standardCART  0.9073\n",
       "4    NB  0.7721    standardNB  0.7657\n",
       "5   SVM  0.6610   standardSVM  0.9540\n",
       "6    AB  0.9039    standardAB  0.9044\n",
       "7   GBM  0.9600   standardGBM  0.9601\n",
       "8    RF  0.9959    standardRF  0.9949\n",
       "9    ET  0.9954    standardET  0.9952"
      ]
     },
     "execution_count": 277,
     "metadata": {},
     "output_type": "execute_result"
    }
   ],
   "source": [
    "models = GetScaledModel('standard')\n",
    "names,results = BasedLine2(X_train, y_train,models)\n",
    "PlotBoxR().PlotResult(names,results)\n",
    "scaledScoreStandard = ScoreDataFrame(names,results)\n",
    "compareModels = pd.concat([basedLineScore,\n",
    "                           scaledScoreStandard], axis=1)\n",
    "compareModels"
   ]
  },
  {
   "cell_type": "markdown",
   "metadata": {
    "_uuid": "53f00c131ed102911fe08a4b727f7c53bf46e653"
   },
   "source": [
    "### 4.1.2. MinMax"
   ]
  },
  {
   "cell_type": "code",
   "execution_count": 278,
   "metadata": {},
   "outputs": [
    {
     "name": "stdout",
     "output_type": "stream",
     "text": [
      "minmaxLR: 0.867955 (0.043418)\n",
      "minmaxLDA: 0.865445 (0.046898)\n",
      "minmaxKNN: 0.844768 (0.043559)\n",
      "minmaxCART: 0.902927 (0.022516)\n",
      "minmaxNB: 0.765730 (0.045627)\n",
      "minmaxSVM: 0.929821 (0.025354)\n",
      "minmaxAB: 0.904234 (0.030371)\n",
      "minmaxGBM: 0.959517 (0.018113)\n",
      "minmaxRF: 0.995922 (0.005297)\n",
      "minmaxET: 0.995760 (0.005057)\n"
     ]
    },
    {
     "data": {
      "application/vnd.plotly.v1+json": {
       "config": {
        "linkText": "Export to plot.ly",
        "plotlyServerURL": "https://plot.ly",
        "showLink": false
       },
       "data": [
        {
         "marker": {
          "color": "rgb(0, 128, 128)"
         },
         "name": "minmaxLR",
         "type": "box",
         "y": [
          0.8822537112010795,
          0.8771929824561404,
          0.8343454790823213,
          0.9078947368421053,
          0.8765182186234818,
          0.9167526659786722,
          0.8933608531131751,
          0.8534571723426212,
          0.7567939456484348,
          0.8809769521843825
         ]
        },
        {
         "marker": {
          "color": "rgb(0, 128, 128)"
         },
         "name": "minmaxLDA",
         "type": "box",
         "y": [
          0.876855600539811,
          0.8778677462887989,
          0.8201754385964912,
          0.9045209176788125,
          0.8802294197031039,
          0.9177846577227382,
          0.8868249054007568,
          0.8548331613347094,
          0.7468180254557962,
          0.8885448916408669
         ]
        },
        {
         "marker": {
          "color": "rgb(0, 128, 128)"
         },
         "name": "minmaxKNN",
         "type": "box",
         "y": [
          0.856612685560054,
          0.8738191632928476,
          0.8603238866396761,
          0.8756747638326585,
          0.8421052631578948,
          0.8384932920536636,
          0.8154454764361885,
          0.846061231510148,
          0.7340901272789818,
          0.9050567595459236
         ]
        },
        {
         "marker": {
          "color": "rgb(0, 128, 128)"
         },
         "name": "minmaxCART",
         "type": "box",
         "y": [
          0.9210526315789473,
          0.9035087719298246,
          0.8859649122807017,
          0.9298245614035088,
          0.8491902834008098,
          0.9112487100103199,
          0.8849329205366357,
          0.9122807017543859,
          0.9200206398348814,
          0.9112487100103199
         ]
        },
        {
         "marker": {
          "color": "rgb(0, 128, 128)"
         },
         "name": "minmaxNB",
         "type": "box",
         "y": [
          0.7786774628879891,
          0.842442645074224,
          0.7580971659919028,
          0.7756410256410257,
          0.7790148448043185,
          0.7375300997592019,
          0.7588579291365668,
          0.738562091503268,
          0.6670106639146887,
          0.8214654282765738
         ]
        },
        {
         "marker": {
          "color": "rgb(0, 128, 128)"
         },
         "name": "minmaxSVM",
         "type": "box",
         "y": [
          0.9284750337381916,
          0.927800269905533,
          0.9416329284750338,
          0.9804318488529015,
          0.9251012145748988,
          0.9363605091159272,
          0.9281045751633987,
          0.9095287237702099,
          0.8751289989680083,
          0.9456484348125216
         ]
        },
        {
         "marker": {
          "color": "rgb(0, 128, 128)"
         },
         "name": "minmaxAB",
         "type": "box",
         "y": [
          0.944331983805668,
          0.8593117408906883,
          0.8633603238866396,
          0.892037786774629,
          0.9129554655870445,
          0.937392500859993,
          0.9205366357069145,
          0.9208806329549364,
          0.8648090815273478,
          0.9267285861713106
         ]
        },
        {
         "marker": {
          "color": "rgb(0, 128, 128)"
         },
         "name": "minmaxGBM",
         "type": "box",
         "y": [
          0.9699730094466936,
          0.9642375168690958,
          0.9639001349527665,
          0.9838056680161943,
          0.9574898785425101,
          0.9690402476780187,
          0.9604403164774682,
          0.9422084623323014,
          0.9143446852425181,
          0.9697282421740625
         ]
        },
        {
         "marker": {
          "color": "rgb(0, 128, 128)"
         },
         "name": "minmaxRF",
         "type": "box",
         "y": [
          0.9993252361673414,
          0.9996626180836707,
          0.9956140350877193,
          1,
          0.988697705802969,
          0.9834881320949432,
          0.9969040247678018,
          0.9996560027519781,
          1,
          0.9958720330237358
         ]
        },
        {
         "marker": {
          "color": "rgb(0, 128, 128)"
         },
         "name": "minmaxET",
         "type": "box",
         "y": [
          0.9989878542510121,
          1,
          0.9930836707152496,
          1,
          0.986336032388664,
          0.9888200894392845,
          0.9989680082559339,
          1,
          1,
          0.9914000687994496
         ]
        }
       ],
       "layout": {
        "template": {
         "data": {
          "bar": [
           {
            "error_x": {
             "color": "#2a3f5f"
            },
            "error_y": {
             "color": "#2a3f5f"
            },
            "marker": {
             "line": {
              "color": "#E5ECF6",
              "width": 0.5
             }
            },
            "type": "bar"
           }
          ],
          "barpolar": [
           {
            "marker": {
             "line": {
              "color": "#E5ECF6",
              "width": 0.5
             }
            },
            "type": "barpolar"
           }
          ],
          "carpet": [
           {
            "aaxis": {
             "endlinecolor": "#2a3f5f",
             "gridcolor": "white",
             "linecolor": "white",
             "minorgridcolor": "white",
             "startlinecolor": "#2a3f5f"
            },
            "baxis": {
             "endlinecolor": "#2a3f5f",
             "gridcolor": "white",
             "linecolor": "white",
             "minorgridcolor": "white",
             "startlinecolor": "#2a3f5f"
            },
            "type": "carpet"
           }
          ],
          "choropleth": [
           {
            "colorbar": {
             "outlinewidth": 0,
             "ticks": ""
            },
            "type": "choropleth"
           }
          ],
          "contour": [
           {
            "colorbar": {
             "outlinewidth": 0,
             "ticks": ""
            },
            "colorscale": [
             [
              0,
              "#0d0887"
             ],
             [
              0.1111111111111111,
              "#46039f"
             ],
             [
              0.2222222222222222,
              "#7201a8"
             ],
             [
              0.3333333333333333,
              "#9c179e"
             ],
             [
              0.4444444444444444,
              "#bd3786"
             ],
             [
              0.5555555555555556,
              "#d8576b"
             ],
             [
              0.6666666666666666,
              "#ed7953"
             ],
             [
              0.7777777777777778,
              "#fb9f3a"
             ],
             [
              0.8888888888888888,
              "#fdca26"
             ],
             [
              1,
              "#f0f921"
             ]
            ],
            "type": "contour"
           }
          ],
          "contourcarpet": [
           {
            "colorbar": {
             "outlinewidth": 0,
             "ticks": ""
            },
            "type": "contourcarpet"
           }
          ],
          "heatmap": [
           {
            "colorbar": {
             "outlinewidth": 0,
             "ticks": ""
            },
            "colorscale": [
             [
              0,
              "#0d0887"
             ],
             [
              0.1111111111111111,
              "#46039f"
             ],
             [
              0.2222222222222222,
              "#7201a8"
             ],
             [
              0.3333333333333333,
              "#9c179e"
             ],
             [
              0.4444444444444444,
              "#bd3786"
             ],
             [
              0.5555555555555556,
              "#d8576b"
             ],
             [
              0.6666666666666666,
              "#ed7953"
             ],
             [
              0.7777777777777778,
              "#fb9f3a"
             ],
             [
              0.8888888888888888,
              "#fdca26"
             ],
             [
              1,
              "#f0f921"
             ]
            ],
            "type": "heatmap"
           }
          ],
          "heatmapgl": [
           {
            "colorbar": {
             "outlinewidth": 0,
             "ticks": ""
            },
            "colorscale": [
             [
              0,
              "#0d0887"
             ],
             [
              0.1111111111111111,
              "#46039f"
             ],
             [
              0.2222222222222222,
              "#7201a8"
             ],
             [
              0.3333333333333333,
              "#9c179e"
             ],
             [
              0.4444444444444444,
              "#bd3786"
             ],
             [
              0.5555555555555556,
              "#d8576b"
             ],
             [
              0.6666666666666666,
              "#ed7953"
             ],
             [
              0.7777777777777778,
              "#fb9f3a"
             ],
             [
              0.8888888888888888,
              "#fdca26"
             ],
             [
              1,
              "#f0f921"
             ]
            ],
            "type": "heatmapgl"
           }
          ],
          "histogram": [
           {
            "marker": {
             "colorbar": {
              "outlinewidth": 0,
              "ticks": ""
             }
            },
            "type": "histogram"
           }
          ],
          "histogram2d": [
           {
            "colorbar": {
             "outlinewidth": 0,
             "ticks": ""
            },
            "colorscale": [
             [
              0,
              "#0d0887"
             ],
             [
              0.1111111111111111,
              "#46039f"
             ],
             [
              0.2222222222222222,
              "#7201a8"
             ],
             [
              0.3333333333333333,
              "#9c179e"
             ],
             [
              0.4444444444444444,
              "#bd3786"
             ],
             [
              0.5555555555555556,
              "#d8576b"
             ],
             [
              0.6666666666666666,
              "#ed7953"
             ],
             [
              0.7777777777777778,
              "#fb9f3a"
             ],
             [
              0.8888888888888888,
              "#fdca26"
             ],
             [
              1,
              "#f0f921"
             ]
            ],
            "type": "histogram2d"
           }
          ],
          "histogram2dcontour": [
           {
            "colorbar": {
             "outlinewidth": 0,
             "ticks": ""
            },
            "colorscale": [
             [
              0,
              "#0d0887"
             ],
             [
              0.1111111111111111,
              "#46039f"
             ],
             [
              0.2222222222222222,
              "#7201a8"
             ],
             [
              0.3333333333333333,
              "#9c179e"
             ],
             [
              0.4444444444444444,
              "#bd3786"
             ],
             [
              0.5555555555555556,
              "#d8576b"
             ],
             [
              0.6666666666666666,
              "#ed7953"
             ],
             [
              0.7777777777777778,
              "#fb9f3a"
             ],
             [
              0.8888888888888888,
              "#fdca26"
             ],
             [
              1,
              "#f0f921"
             ]
            ],
            "type": "histogram2dcontour"
           }
          ],
          "mesh3d": [
           {
            "colorbar": {
             "outlinewidth": 0,
             "ticks": ""
            },
            "type": "mesh3d"
           }
          ],
          "parcoords": [
           {
            "line": {
             "colorbar": {
              "outlinewidth": 0,
              "ticks": ""
             }
            },
            "type": "parcoords"
           }
          ],
          "pie": [
           {
            "automargin": true,
            "type": "pie"
           }
          ],
          "scatter": [
           {
            "marker": {
             "colorbar": {
              "outlinewidth": 0,
              "ticks": ""
             }
            },
            "type": "scatter"
           }
          ],
          "scatter3d": [
           {
            "line": {
             "colorbar": {
              "outlinewidth": 0,
              "ticks": ""
             }
            },
            "marker": {
             "colorbar": {
              "outlinewidth": 0,
              "ticks": ""
             }
            },
            "type": "scatter3d"
           }
          ],
          "scattercarpet": [
           {
            "marker": {
             "colorbar": {
              "outlinewidth": 0,
              "ticks": ""
             }
            },
            "type": "scattercarpet"
           }
          ],
          "scattergeo": [
           {
            "marker": {
             "colorbar": {
              "outlinewidth": 0,
              "ticks": ""
             }
            },
            "type": "scattergeo"
           }
          ],
          "scattergl": [
           {
            "marker": {
             "colorbar": {
              "outlinewidth": 0,
              "ticks": ""
             }
            },
            "type": "scattergl"
           }
          ],
          "scattermapbox": [
           {
            "marker": {
             "colorbar": {
              "outlinewidth": 0,
              "ticks": ""
             }
            },
            "type": "scattermapbox"
           }
          ],
          "scatterpolar": [
           {
            "marker": {
             "colorbar": {
              "outlinewidth": 0,
              "ticks": ""
             }
            },
            "type": "scatterpolar"
           }
          ],
          "scatterpolargl": [
           {
            "marker": {
             "colorbar": {
              "outlinewidth": 0,
              "ticks": ""
             }
            },
            "type": "scatterpolargl"
           }
          ],
          "scatterternary": [
           {
            "marker": {
             "colorbar": {
              "outlinewidth": 0,
              "ticks": ""
             }
            },
            "type": "scatterternary"
           }
          ],
          "surface": [
           {
            "colorbar": {
             "outlinewidth": 0,
             "ticks": ""
            },
            "colorscale": [
             [
              0,
              "#0d0887"
             ],
             [
              0.1111111111111111,
              "#46039f"
             ],
             [
              0.2222222222222222,
              "#7201a8"
             ],
             [
              0.3333333333333333,
              "#9c179e"
             ],
             [
              0.4444444444444444,
              "#bd3786"
             ],
             [
              0.5555555555555556,
              "#d8576b"
             ],
             [
              0.6666666666666666,
              "#ed7953"
             ],
             [
              0.7777777777777778,
              "#fb9f3a"
             ],
             [
              0.8888888888888888,
              "#fdca26"
             ],
             [
              1,
              "#f0f921"
             ]
            ],
            "type": "surface"
           }
          ],
          "table": [
           {
            "cells": {
             "fill": {
              "color": "#EBF0F8"
             },
             "line": {
              "color": "white"
             }
            },
            "header": {
             "fill": {
              "color": "#C8D4E3"
             },
             "line": {
              "color": "white"
             }
            },
            "type": "table"
           }
          ]
         },
         "layout": {
          "annotationdefaults": {
           "arrowcolor": "#2a3f5f",
           "arrowhead": 0,
           "arrowwidth": 1
          },
          "coloraxis": {
           "colorbar": {
            "outlinewidth": 0,
            "ticks": ""
           }
          },
          "colorscale": {
           "diverging": [
            [
             0,
             "#8e0152"
            ],
            [
             0.1,
             "#c51b7d"
            ],
            [
             0.2,
             "#de77ae"
            ],
            [
             0.3,
             "#f1b6da"
            ],
            [
             0.4,
             "#fde0ef"
            ],
            [
             0.5,
             "#f7f7f7"
            ],
            [
             0.6,
             "#e6f5d0"
            ],
            [
             0.7,
             "#b8e186"
            ],
            [
             0.8,
             "#7fbc41"
            ],
            [
             0.9,
             "#4d9221"
            ],
            [
             1,
             "#276419"
            ]
           ],
           "sequential": [
            [
             0,
             "#0d0887"
            ],
            [
             0.1111111111111111,
             "#46039f"
            ],
            [
             0.2222222222222222,
             "#7201a8"
            ],
            [
             0.3333333333333333,
             "#9c179e"
            ],
            [
             0.4444444444444444,
             "#bd3786"
            ],
            [
             0.5555555555555556,
             "#d8576b"
            ],
            [
             0.6666666666666666,
             "#ed7953"
            ],
            [
             0.7777777777777778,
             "#fb9f3a"
            ],
            [
             0.8888888888888888,
             "#fdca26"
            ],
            [
             1,
             "#f0f921"
            ]
           ],
           "sequentialminus": [
            [
             0,
             "#0d0887"
            ],
            [
             0.1111111111111111,
             "#46039f"
            ],
            [
             0.2222222222222222,
             "#7201a8"
            ],
            [
             0.3333333333333333,
             "#9c179e"
            ],
            [
             0.4444444444444444,
             "#bd3786"
            ],
            [
             0.5555555555555556,
             "#d8576b"
            ],
            [
             0.6666666666666666,
             "#ed7953"
            ],
            [
             0.7777777777777778,
             "#fb9f3a"
            ],
            [
             0.8888888888888888,
             "#fdca26"
            ],
            [
             1,
             "#f0f921"
            ]
           ]
          },
          "colorway": [
           "#636efa",
           "#EF553B",
           "#00cc96",
           "#ab63fa",
           "#FFA15A",
           "#19d3f3",
           "#FF6692",
           "#B6E880",
           "#FF97FF",
           "#FECB52"
          ],
          "font": {
           "color": "#2a3f5f"
          },
          "geo": {
           "bgcolor": "white",
           "lakecolor": "white",
           "landcolor": "#E5ECF6",
           "showlakes": true,
           "showland": true,
           "subunitcolor": "white"
          },
          "hoverlabel": {
           "align": "left"
          },
          "hovermode": "closest",
          "mapbox": {
           "style": "light"
          },
          "paper_bgcolor": "white",
          "plot_bgcolor": "#E5ECF6",
          "polar": {
           "angularaxis": {
            "gridcolor": "white",
            "linecolor": "white",
            "ticks": ""
           },
           "bgcolor": "#E5ECF6",
           "radialaxis": {
            "gridcolor": "white",
            "linecolor": "white",
            "ticks": ""
           }
          },
          "scene": {
           "xaxis": {
            "backgroundcolor": "#E5ECF6",
            "gridcolor": "white",
            "gridwidth": 2,
            "linecolor": "white",
            "showbackground": true,
            "ticks": "",
            "zerolinecolor": "white"
           },
           "yaxis": {
            "backgroundcolor": "#E5ECF6",
            "gridcolor": "white",
            "gridwidth": 2,
            "linecolor": "white",
            "showbackground": true,
            "ticks": "",
            "zerolinecolor": "white"
           },
           "zaxis": {
            "backgroundcolor": "#E5ECF6",
            "gridcolor": "white",
            "gridwidth": 2,
            "linecolor": "white",
            "showbackground": true,
            "ticks": "",
            "zerolinecolor": "white"
           }
          },
          "shapedefaults": {
           "line": {
            "color": "#2a3f5f"
           }
          },
          "ternary": {
           "aaxis": {
            "gridcolor": "white",
            "linecolor": "white",
            "ticks": ""
           },
           "baxis": {
            "gridcolor": "white",
            "linecolor": "white",
            "ticks": ""
           },
           "bgcolor": "#E5ECF6",
           "caxis": {
            "gridcolor": "white",
            "linecolor": "white",
            "ticks": ""
           }
          },
          "title": {
           "x": 0.05
          },
          "xaxis": {
           "automargin": true,
           "gridcolor": "white",
           "linecolor": "white",
           "ticks": "",
           "title": {
            "standoff": 15
           },
           "zerolinecolor": "white",
           "zerolinewidth": 2
          },
          "yaxis": {
           "automargin": true,
           "gridcolor": "white",
           "linecolor": "white",
           "ticks": "",
           "title": {
            "standoff": 15
           },
           "zerolinecolor": "white",
           "zerolinewidth": 2
          }
         }
        }
       }
      },
      "text/html": [
       "<div>\n",
       "        \n",
       "        \n",
       "            <div id=\"a8e6617e-6ccc-4c2e-811f-38ecccb21a1d\" class=\"plotly-graph-div\" style=\"height:525px; width:100%;\"></div>\n",
       "            <script type=\"text/javascript\">\n",
       "                require([\"plotly\"], function(Plotly) {\n",
       "                    window.PLOTLYENV=window.PLOTLYENV || {};\n",
       "                    \n",
       "                if (document.getElementById(\"a8e6617e-6ccc-4c2e-811f-38ecccb21a1d\")) {\n",
       "                    Plotly.newPlot(\n",
       "                        'a8e6617e-6ccc-4c2e-811f-38ecccb21a1d',\n",
       "                        [{\"marker\": {\"color\": \"rgb(0, 128, 128)\"}, \"name\": \"minmaxLR\", \"type\": \"box\", \"y\": [0.8822537112010795, 0.8771929824561404, 0.8343454790823213, 0.9078947368421053, 0.8765182186234818, 0.9167526659786722, 0.8933608531131751, 0.8534571723426212, 0.7567939456484348, 0.8809769521843825]}, {\"marker\": {\"color\": \"rgb(0, 128, 128)\"}, \"name\": \"minmaxLDA\", \"type\": \"box\", \"y\": [0.876855600539811, 0.8778677462887989, 0.8201754385964912, 0.9045209176788125, 0.8802294197031039, 0.9177846577227382, 0.8868249054007568, 0.8548331613347094, 0.7468180254557962, 0.8885448916408669]}, {\"marker\": {\"color\": \"rgb(0, 128, 128)\"}, \"name\": \"minmaxKNN\", \"type\": \"box\", \"y\": [0.856612685560054, 0.8738191632928476, 0.8603238866396761, 0.8756747638326585, 0.8421052631578948, 0.8384932920536636, 0.8154454764361885, 0.846061231510148, 0.7340901272789818, 0.9050567595459236]}, {\"marker\": {\"color\": \"rgb(0, 128, 128)\"}, \"name\": \"minmaxCART\", \"type\": \"box\", \"y\": [0.9210526315789473, 0.9035087719298246, 0.8859649122807017, 0.9298245614035088, 0.8491902834008098, 0.9112487100103199, 0.8849329205366357, 0.9122807017543859, 0.9200206398348814, 0.9112487100103199]}, {\"marker\": {\"color\": \"rgb(0, 128, 128)\"}, \"name\": \"minmaxNB\", \"type\": \"box\", \"y\": [0.7786774628879891, 0.842442645074224, 0.7580971659919028, 0.7756410256410257, 0.7790148448043185, 0.7375300997592019, 0.7588579291365668, 0.738562091503268, 0.6670106639146887, 0.8214654282765738]}, {\"marker\": {\"color\": \"rgb(0, 128, 128)\"}, \"name\": \"minmaxSVM\", \"type\": \"box\", \"y\": [0.9284750337381916, 0.927800269905533, 0.9416329284750338, 0.9804318488529015, 0.9251012145748988, 0.9363605091159272, 0.9281045751633987, 0.9095287237702099, 0.8751289989680083, 0.9456484348125216]}, {\"marker\": {\"color\": \"rgb(0, 128, 128)\"}, \"name\": \"minmaxAB\", \"type\": \"box\", \"y\": [0.944331983805668, 0.8593117408906883, 0.8633603238866396, 0.892037786774629, 0.9129554655870445, 0.937392500859993, 0.9205366357069145, 0.9208806329549364, 0.8648090815273478, 0.9267285861713106]}, {\"marker\": {\"color\": \"rgb(0, 128, 128)\"}, \"name\": \"minmaxGBM\", \"type\": \"box\", \"y\": [0.9699730094466936, 0.9642375168690958, 0.9639001349527665, 0.9838056680161943, 0.9574898785425101, 0.9690402476780187, 0.9604403164774682, 0.9422084623323014, 0.9143446852425181, 0.9697282421740625]}, {\"marker\": {\"color\": \"rgb(0, 128, 128)\"}, \"name\": \"minmaxRF\", \"type\": \"box\", \"y\": [0.9993252361673414, 0.9996626180836707, 0.9956140350877193, 1.0, 0.988697705802969, 0.9834881320949432, 0.9969040247678018, 0.9996560027519781, 1.0, 0.9958720330237358]}, {\"marker\": {\"color\": \"rgb(0, 128, 128)\"}, \"name\": \"minmaxET\", \"type\": \"box\", \"y\": [0.9989878542510121, 1.0, 0.9930836707152496, 1.0, 0.986336032388664, 0.9888200894392845, 0.9989680082559339, 1.0, 1.0, 0.9914000687994496]}],\n",
       "                        {\"template\": {\"data\": {\"bar\": [{\"error_x\": {\"color\": \"#2a3f5f\"}, \"error_y\": {\"color\": \"#2a3f5f\"}, \"marker\": {\"line\": {\"color\": \"#E5ECF6\", \"width\": 0.5}}, \"type\": \"bar\"}], \"barpolar\": [{\"marker\": {\"line\": {\"color\": \"#E5ECF6\", \"width\": 0.5}}, \"type\": \"barpolar\"}], \"carpet\": [{\"aaxis\": {\"endlinecolor\": \"#2a3f5f\", \"gridcolor\": \"white\", \"linecolor\": \"white\", \"minorgridcolor\": \"white\", \"startlinecolor\": \"#2a3f5f\"}, \"baxis\": {\"endlinecolor\": \"#2a3f5f\", \"gridcolor\": \"white\", \"linecolor\": \"white\", \"minorgridcolor\": \"white\", \"startlinecolor\": \"#2a3f5f\"}, \"type\": \"carpet\"}], \"choropleth\": [{\"colorbar\": {\"outlinewidth\": 0, \"ticks\": \"\"}, \"type\": \"choropleth\"}], \"contour\": [{\"colorbar\": {\"outlinewidth\": 0, \"ticks\": \"\"}, \"colorscale\": [[0.0, \"#0d0887\"], [0.1111111111111111, \"#46039f\"], [0.2222222222222222, \"#7201a8\"], [0.3333333333333333, \"#9c179e\"], [0.4444444444444444, \"#bd3786\"], [0.5555555555555556, \"#d8576b\"], [0.6666666666666666, \"#ed7953\"], [0.7777777777777778, \"#fb9f3a\"], [0.8888888888888888, \"#fdca26\"], [1.0, \"#f0f921\"]], \"type\": \"contour\"}], \"contourcarpet\": [{\"colorbar\": {\"outlinewidth\": 0, \"ticks\": \"\"}, \"type\": \"contourcarpet\"}], \"heatmap\": [{\"colorbar\": {\"outlinewidth\": 0, \"ticks\": \"\"}, \"colorscale\": [[0.0, \"#0d0887\"], [0.1111111111111111, \"#46039f\"], [0.2222222222222222, \"#7201a8\"], [0.3333333333333333, \"#9c179e\"], [0.4444444444444444, \"#bd3786\"], [0.5555555555555556, \"#d8576b\"], [0.6666666666666666, \"#ed7953\"], [0.7777777777777778, \"#fb9f3a\"], [0.8888888888888888, \"#fdca26\"], [1.0, \"#f0f921\"]], \"type\": \"heatmap\"}], \"heatmapgl\": [{\"colorbar\": {\"outlinewidth\": 0, \"ticks\": \"\"}, \"colorscale\": [[0.0, \"#0d0887\"], [0.1111111111111111, \"#46039f\"], [0.2222222222222222, \"#7201a8\"], [0.3333333333333333, \"#9c179e\"], [0.4444444444444444, \"#bd3786\"], [0.5555555555555556, \"#d8576b\"], [0.6666666666666666, \"#ed7953\"], [0.7777777777777778, \"#fb9f3a\"], [0.8888888888888888, \"#fdca26\"], [1.0, \"#f0f921\"]], \"type\": \"heatmapgl\"}], \"histogram\": [{\"marker\": {\"colorbar\": {\"outlinewidth\": 0, \"ticks\": \"\"}}, \"type\": \"histogram\"}], \"histogram2d\": [{\"colorbar\": {\"outlinewidth\": 0, \"ticks\": \"\"}, \"colorscale\": [[0.0, \"#0d0887\"], [0.1111111111111111, \"#46039f\"], [0.2222222222222222, \"#7201a8\"], [0.3333333333333333, \"#9c179e\"], [0.4444444444444444, \"#bd3786\"], [0.5555555555555556, \"#d8576b\"], [0.6666666666666666, \"#ed7953\"], [0.7777777777777778, \"#fb9f3a\"], [0.8888888888888888, \"#fdca26\"], [1.0, \"#f0f921\"]], \"type\": \"histogram2d\"}], \"histogram2dcontour\": [{\"colorbar\": {\"outlinewidth\": 0, \"ticks\": \"\"}, \"colorscale\": [[0.0, \"#0d0887\"], [0.1111111111111111, \"#46039f\"], [0.2222222222222222, \"#7201a8\"], [0.3333333333333333, \"#9c179e\"], [0.4444444444444444, \"#bd3786\"], [0.5555555555555556, \"#d8576b\"], [0.6666666666666666, \"#ed7953\"], [0.7777777777777778, \"#fb9f3a\"], [0.8888888888888888, \"#fdca26\"], [1.0, \"#f0f921\"]], \"type\": \"histogram2dcontour\"}], \"mesh3d\": [{\"colorbar\": {\"outlinewidth\": 0, \"ticks\": \"\"}, \"type\": \"mesh3d\"}], \"parcoords\": [{\"line\": {\"colorbar\": {\"outlinewidth\": 0, \"ticks\": \"\"}}, \"type\": \"parcoords\"}], \"pie\": [{\"automargin\": true, \"type\": \"pie\"}], \"scatter\": [{\"marker\": {\"colorbar\": {\"outlinewidth\": 0, \"ticks\": \"\"}}, \"type\": \"scatter\"}], \"scatter3d\": [{\"line\": {\"colorbar\": {\"outlinewidth\": 0, \"ticks\": \"\"}}, \"marker\": {\"colorbar\": {\"outlinewidth\": 0, \"ticks\": \"\"}}, \"type\": \"scatter3d\"}], \"scattercarpet\": [{\"marker\": {\"colorbar\": {\"outlinewidth\": 0, \"ticks\": \"\"}}, \"type\": \"scattercarpet\"}], \"scattergeo\": [{\"marker\": {\"colorbar\": {\"outlinewidth\": 0, \"ticks\": \"\"}}, \"type\": \"scattergeo\"}], \"scattergl\": [{\"marker\": {\"colorbar\": {\"outlinewidth\": 0, \"ticks\": \"\"}}, \"type\": \"scattergl\"}], \"scattermapbox\": [{\"marker\": {\"colorbar\": {\"outlinewidth\": 0, \"ticks\": \"\"}}, \"type\": \"scattermapbox\"}], \"scatterpolar\": [{\"marker\": {\"colorbar\": {\"outlinewidth\": 0, \"ticks\": \"\"}}, \"type\": \"scatterpolar\"}], \"scatterpolargl\": [{\"marker\": {\"colorbar\": {\"outlinewidth\": 0, \"ticks\": \"\"}}, \"type\": \"scatterpolargl\"}], \"scatterternary\": [{\"marker\": {\"colorbar\": {\"outlinewidth\": 0, \"ticks\": \"\"}}, \"type\": \"scatterternary\"}], \"surface\": [{\"colorbar\": {\"outlinewidth\": 0, \"ticks\": \"\"}, \"colorscale\": [[0.0, \"#0d0887\"], [0.1111111111111111, \"#46039f\"], [0.2222222222222222, \"#7201a8\"], [0.3333333333333333, \"#9c179e\"], [0.4444444444444444, \"#bd3786\"], [0.5555555555555556, \"#d8576b\"], [0.6666666666666666, \"#ed7953\"], [0.7777777777777778, \"#fb9f3a\"], [0.8888888888888888, \"#fdca26\"], [1.0, \"#f0f921\"]], \"type\": \"surface\"}], \"table\": [{\"cells\": {\"fill\": {\"color\": \"#EBF0F8\"}, \"line\": {\"color\": \"white\"}}, \"header\": {\"fill\": {\"color\": \"#C8D4E3\"}, \"line\": {\"color\": \"white\"}}, \"type\": \"table\"}]}, \"layout\": {\"annotationdefaults\": {\"arrowcolor\": \"#2a3f5f\", \"arrowhead\": 0, \"arrowwidth\": 1}, \"coloraxis\": {\"colorbar\": {\"outlinewidth\": 0, \"ticks\": \"\"}}, \"colorscale\": {\"diverging\": [[0, \"#8e0152\"], [0.1, \"#c51b7d\"], [0.2, \"#de77ae\"], [0.3, \"#f1b6da\"], [0.4, \"#fde0ef\"], [0.5, \"#f7f7f7\"], [0.6, \"#e6f5d0\"], [0.7, \"#b8e186\"], [0.8, \"#7fbc41\"], [0.9, \"#4d9221\"], [1, \"#276419\"]], \"sequential\": [[0.0, \"#0d0887\"], [0.1111111111111111, \"#46039f\"], [0.2222222222222222, \"#7201a8\"], [0.3333333333333333, \"#9c179e\"], [0.4444444444444444, \"#bd3786\"], [0.5555555555555556, \"#d8576b\"], [0.6666666666666666, \"#ed7953\"], [0.7777777777777778, \"#fb9f3a\"], [0.8888888888888888, \"#fdca26\"], [1.0, \"#f0f921\"]], \"sequentialminus\": [[0.0, \"#0d0887\"], [0.1111111111111111, \"#46039f\"], [0.2222222222222222, \"#7201a8\"], [0.3333333333333333, \"#9c179e\"], [0.4444444444444444, \"#bd3786\"], [0.5555555555555556, \"#d8576b\"], [0.6666666666666666, \"#ed7953\"], [0.7777777777777778, \"#fb9f3a\"], [0.8888888888888888, \"#fdca26\"], [1.0, \"#f0f921\"]]}, \"colorway\": [\"#636efa\", \"#EF553B\", \"#00cc96\", \"#ab63fa\", \"#FFA15A\", \"#19d3f3\", \"#FF6692\", \"#B6E880\", \"#FF97FF\", \"#FECB52\"], \"font\": {\"color\": \"#2a3f5f\"}, \"geo\": {\"bgcolor\": \"white\", \"lakecolor\": \"white\", \"landcolor\": \"#E5ECF6\", \"showlakes\": true, \"showland\": true, \"subunitcolor\": \"white\"}, \"hoverlabel\": {\"align\": \"left\"}, \"hovermode\": \"closest\", \"mapbox\": {\"style\": \"light\"}, \"paper_bgcolor\": \"white\", \"plot_bgcolor\": \"#E5ECF6\", \"polar\": {\"angularaxis\": {\"gridcolor\": \"white\", \"linecolor\": \"white\", \"ticks\": \"\"}, \"bgcolor\": \"#E5ECF6\", \"radialaxis\": {\"gridcolor\": \"white\", \"linecolor\": \"white\", \"ticks\": \"\"}}, \"scene\": {\"xaxis\": {\"backgroundcolor\": \"#E5ECF6\", \"gridcolor\": \"white\", \"gridwidth\": 2, \"linecolor\": \"white\", \"showbackground\": true, \"ticks\": \"\", \"zerolinecolor\": \"white\"}, \"yaxis\": {\"backgroundcolor\": \"#E5ECF6\", \"gridcolor\": \"white\", \"gridwidth\": 2, \"linecolor\": \"white\", \"showbackground\": true, \"ticks\": \"\", \"zerolinecolor\": \"white\"}, \"zaxis\": {\"backgroundcolor\": \"#E5ECF6\", \"gridcolor\": \"white\", \"gridwidth\": 2, \"linecolor\": \"white\", \"showbackground\": true, \"ticks\": \"\", \"zerolinecolor\": \"white\"}}, \"shapedefaults\": {\"line\": {\"color\": \"#2a3f5f\"}}, \"ternary\": {\"aaxis\": {\"gridcolor\": \"white\", \"linecolor\": \"white\", \"ticks\": \"\"}, \"baxis\": {\"gridcolor\": \"white\", \"linecolor\": \"white\", \"ticks\": \"\"}, \"bgcolor\": \"#E5ECF6\", \"caxis\": {\"gridcolor\": \"white\", \"linecolor\": \"white\", \"ticks\": \"\"}}, \"title\": {\"x\": 0.05}, \"xaxis\": {\"automargin\": true, \"gridcolor\": \"white\", \"linecolor\": \"white\", \"ticks\": \"\", \"title\": {\"standoff\": 15}, \"zerolinecolor\": \"white\", \"zerolinewidth\": 2}, \"yaxis\": {\"automargin\": true, \"gridcolor\": \"white\", \"linecolor\": \"white\", \"ticks\": \"\", \"title\": {\"standoff\": 15}, \"zerolinecolor\": \"white\", \"zerolinewidth\": 2}}}},\n",
       "                        {\"responsive\": true}\n",
       "                    ).then(function(){\n",
       "                            \n",
       "var gd = document.getElementById('a8e6617e-6ccc-4c2e-811f-38ecccb21a1d');\n",
       "var x = new MutationObserver(function (mutations, observer) {{\n",
       "        var display = window.getComputedStyle(gd).display;\n",
       "        if (!display || display === 'none') {{\n",
       "            console.log([gd, 'removed!']);\n",
       "            Plotly.purge(gd);\n",
       "            observer.disconnect();\n",
       "        }}\n",
       "}});\n",
       "\n",
       "// Listen for the removal of the full notebook cells\n",
       "var notebookContainer = gd.closest('#notebook-container');\n",
       "if (notebookContainer) {{\n",
       "    x.observe(notebookContainer, {childList: true});\n",
       "}}\n",
       "\n",
       "// Listen for the clearing of the current output cell\n",
       "var outputEl = gd.closest('.output');\n",
       "if (outputEl) {{\n",
       "    x.observe(outputEl, {childList: true});\n",
       "}}\n",
       "\n",
       "                        })\n",
       "                };\n",
       "                });\n",
       "            </script>\n",
       "        </div>"
      ]
     },
     "metadata": {},
     "output_type": "display_data"
    },
    {
     "data": {
      "text/html": [
       "<div>\n",
       "<style scoped>\n",
       "    .dataframe tbody tr th:only-of-type {\n",
       "        vertical-align: middle;\n",
       "    }\n",
       "\n",
       "    .dataframe tbody tr th {\n",
       "        vertical-align: top;\n",
       "    }\n",
       "\n",
       "    .dataframe thead th {\n",
       "        text-align: right;\n",
       "    }\n",
       "</style>\n",
       "<table border=\"1\" class=\"dataframe\">\n",
       "  <thead>\n",
       "    <tr style=\"text-align: right;\">\n",
       "      <th></th>\n",
       "      <th>Model</th>\n",
       "      <th>Score</th>\n",
       "      <th>Model</th>\n",
       "      <th>Score</th>\n",
       "      <th>Model</th>\n",
       "      <th>Score</th>\n",
       "    </tr>\n",
       "  </thead>\n",
       "  <tbody>\n",
       "    <tr>\n",
       "      <th>0</th>\n",
       "      <td>LR</td>\n",
       "      <td>0.7803</td>\n",
       "      <td>standardLR</td>\n",
       "      <td>0.8664</td>\n",
       "      <td>minmaxLR</td>\n",
       "      <td>0.8680</td>\n",
       "    </tr>\n",
       "    <tr>\n",
       "      <th>1</th>\n",
       "      <td>LDA</td>\n",
       "      <td>0.8654</td>\n",
       "      <td>standardLDA</td>\n",
       "      <td>0.8654</td>\n",
       "      <td>minmaxLDA</td>\n",
       "      <td>0.8654</td>\n",
       "    </tr>\n",
       "    <tr>\n",
       "      <th>2</th>\n",
       "      <td>KNN</td>\n",
       "      <td>0.7562</td>\n",
       "      <td>standardKNN</td>\n",
       "      <td>0.8567</td>\n",
       "      <td>minmaxKNN</td>\n",
       "      <td>0.8448</td>\n",
       "    </tr>\n",
       "    <tr>\n",
       "      <th>3</th>\n",
       "      <td>CART</td>\n",
       "      <td>0.9072</td>\n",
       "      <td>standardCART</td>\n",
       "      <td>0.9073</td>\n",
       "      <td>minmaxCART</td>\n",
       "      <td>0.9029</td>\n",
       "    </tr>\n",
       "    <tr>\n",
       "      <th>4</th>\n",
       "      <td>NB</td>\n",
       "      <td>0.7721</td>\n",
       "      <td>standardNB</td>\n",
       "      <td>0.7657</td>\n",
       "      <td>minmaxNB</td>\n",
       "      <td>0.7657</td>\n",
       "    </tr>\n",
       "    <tr>\n",
       "      <th>5</th>\n",
       "      <td>SVM</td>\n",
       "      <td>0.6610</td>\n",
       "      <td>standardSVM</td>\n",
       "      <td>0.9540</td>\n",
       "      <td>minmaxSVM</td>\n",
       "      <td>0.9298</td>\n",
       "    </tr>\n",
       "    <tr>\n",
       "      <th>6</th>\n",
       "      <td>AB</td>\n",
       "      <td>0.9039</td>\n",
       "      <td>standardAB</td>\n",
       "      <td>0.9044</td>\n",
       "      <td>minmaxAB</td>\n",
       "      <td>0.9042</td>\n",
       "    </tr>\n",
       "    <tr>\n",
       "      <th>7</th>\n",
       "      <td>GBM</td>\n",
       "      <td>0.9600</td>\n",
       "      <td>standardGBM</td>\n",
       "      <td>0.9601</td>\n",
       "      <td>minmaxGBM</td>\n",
       "      <td>0.9595</td>\n",
       "    </tr>\n",
       "    <tr>\n",
       "      <th>8</th>\n",
       "      <td>RF</td>\n",
       "      <td>0.9959</td>\n",
       "      <td>standardRF</td>\n",
       "      <td>0.9949</td>\n",
       "      <td>minmaxRF</td>\n",
       "      <td>0.9959</td>\n",
       "    </tr>\n",
       "    <tr>\n",
       "      <th>9</th>\n",
       "      <td>ET</td>\n",
       "      <td>0.9954</td>\n",
       "      <td>standardET</td>\n",
       "      <td>0.9952</td>\n",
       "      <td>minmaxET</td>\n",
       "      <td>0.9958</td>\n",
       "    </tr>\n",
       "  </tbody>\n",
       "</table>\n",
       "</div>"
      ],
      "text/plain": [
       "  Model   Score         Model   Score       Model   Score\n",
       "0    LR  0.7803    standardLR  0.8664    minmaxLR  0.8680\n",
       "1   LDA  0.8654   standardLDA  0.8654   minmaxLDA  0.8654\n",
       "2   KNN  0.7562   standardKNN  0.8567   minmaxKNN  0.8448\n",
       "3  CART  0.9072  standardCART  0.9073  minmaxCART  0.9029\n",
       "4    NB  0.7721    standardNB  0.7657    minmaxNB  0.7657\n",
       "5   SVM  0.6610   standardSVM  0.9540   minmaxSVM  0.9298\n",
       "6    AB  0.9039    standardAB  0.9044    minmaxAB  0.9042\n",
       "7   GBM  0.9600   standardGBM  0.9601   minmaxGBM  0.9595\n",
       "8    RF  0.9959    standardRF  0.9949    minmaxRF  0.9959\n",
       "9    ET  0.9954    standardET  0.9952    minmaxET  0.9958"
      ]
     },
     "execution_count": 278,
     "metadata": {},
     "output_type": "execute_result"
    }
   ],
   "source": [
    "models = GetScaledModel('minmax')\n",
    "names,results = BasedLine2(X_train, y_train,models)\n",
    "PlotBoxR().PlotResult(names,results)\n",
    "\n",
    "scaledScoreMinMax = ScoreDataFrame(names,results)\n",
    "compareModels = pd.concat([basedLineScore,\n",
    "                           scaledScoreStandard,\n",
    "                          scaledScoreMinMax], axis=1)\n",
    "compareModels"
   ]
  },
  {
   "cell_type": "markdown",
   "metadata": {
    "_uuid": "51d24166df5cf6a26b19cb03a0ddd5d1dda4eff0"
   },
   "source": [
    "# 5. Algortithm Tuning"
   ]
  },
  {
   "cell_type": "code",
   "execution_count": 85,
   "metadata": {},
   "outputs": [],
   "source": [
    "X_train_scaled = MinMaxScaler().fit_transform(X_train.drop(['EmployeeNumber','YearsWithCurrManager'],axis=1))\n",
    "X_test_scaled = MinMaxScaler().fit_transform(X_test.drop(['EmployeeNumber','YearsWithCurrManager'],axis=1))"
   ]
  },
  {
   "cell_type": "code",
   "execution_count": 18,
   "metadata": {},
   "outputs": [],
   "source": [
    "from sklearn.model_selection import GridSearchCV, RandomizedSearchCV\n",
    "from scipy.stats import uniform"
   ]
  },
  {
   "cell_type": "code",
   "execution_count": 19,
   "metadata": {},
   "outputs": [],
   "source": [
    "class RandomSearch(object):\n",
    "    \n",
    "    def __init__(self,X_train,y_train,model,hyperparameters):\n",
    "        \n",
    "        self.X_train = X_train\n",
    "        self.y_train = y_train\n",
    "        self.model = model\n",
    "        self.hyperparameters = hyperparameters\n",
    "        \n",
    "    def RandomSearch(self):\n",
    "        # Create randomized search 10-fold cross validation and 100 iterations\n",
    "        cv = 10\n",
    "        clf = RandomizedSearchCV(self.model,\n",
    "                                 self.hyperparameters,\n",
    "                                 random_state=1,\n",
    "                                 n_iter=100,\n",
    "                                 cv=cv,\n",
    "                                 verbose=0,\n",
    "                                 n_jobs=-1,\n",
    "                                 )\n",
    "        # Fit randomized search\n",
    "        best_model = clf.fit(self.X_train, self.y_train)\n",
    "        message = (best_model.best_score_, best_model.best_params_)\n",
    "        print(\"Best: %f using %s\" % (message))\n",
    "\n",
    "        return best_model,best_model.best_params_\n",
    "    \n",
    "    def BestModelPridict(self,X_test):\n",
    "        \n",
    "        best_model,_ = self.RandomSearch()\n",
    "        pred = best_model.predict(X_test)\n",
    "        return pred\n",
    "    \n",
    "        "
   ]
  },
  {
   "cell_type": "code",
   "execution_count": 20,
   "metadata": {},
   "outputs": [],
   "source": [
    "class GridSearch(object):\n",
    "    \n",
    "    def __init__(self,X_train,y_train,model,hyperparameters):\n",
    "        \n",
    "        self.X_train = X_train\n",
    "        self.y_train = y_train\n",
    "        self.model = model\n",
    "        self.hyperparameters = hyperparameters\n",
    "        \n",
    "    def GridSearch(self):\n",
    "        # Create randomized search 10-fold cross validation and 100 iterations\n",
    "        cv = 10\n",
    "        clf = GridSearchCV(self.model,\n",
    "                                 self.hyperparameters,\n",
    "                                 cv=cv,\n",
    "                                 verbose=0,\n",
    "                                 n_jobs=-1,\n",
    "                                 )\n",
    "        # Fit randomized search\n",
    "        best_model = clf.fit(self.X_train, self.y_train)\n",
    "        message = (best_model.best_score_, best_model.best_params_)\n",
    "        print(\"Best: %f using %s\" % (message))\n",
    "\n",
    "        return best_model,best_model.best_params_\n",
    "    \n",
    "    def BestModelPridict(self,X_test):\n",
    "        \n",
    "        best_model,_ = self.GridSearch()\n",
    "        pred = best_model.predict(X_test)\n",
    "        return pred\n",
    "    \n",
    "        "
   ]
  },
  {
   "cell_type": "markdown",
   "metadata": {
    "_uuid": "785ff7dbca7028d1d3d36f75e0ef884e8a0c0ab1"
   },
   "source": [
    "## 5.1.Logistic Regression\n",
    "- C : Regularization value, the more, the stronger the regularization(double). \n",
    "- RegularizationType: Can be either \"L2\" or “L1”. Default is “L2”. "
   ]
  },
  {
   "cell_type": "code",
   "execution_count": 98,
   "metadata": {
    "_uuid": "542dca32f0ee56ec5d94341d6b731deffb8473d2"
   },
   "outputs": [],
   "source": [
    "# model\n",
    "model = LogisticRegression()\n",
    "# Create regularization penalty space\n",
    "penalty = ['l1', 'l2']\n",
    "\n",
    "# Create regularization hyperparameter distribution using uniform distribution\n",
    "C = uniform(loc=0, scale=4)\n",
    "\n",
    "# Create hyperparameter options\n",
    "hyperparameters = dict(C=C, penalty=penalty)"
   ]
  },
  {
   "cell_type": "code",
   "execution_count": 99,
   "metadata": {
    "_uuid": "7bacd6105daa1090003d19dc01d329903047b6ae"
   },
   "outputs": [
    {
     "name": "stdout",
     "output_type": "stream",
     "text": [
      "Best: 0.775076 using {'C': 0.7450408455106836, 'penalty': 'l2'}\n"
     ]
    }
   ],
   "source": [
    "LR_RandSearch = RandomSearch(X_train_scaled,y_train,model,hyperparameters)\n",
    "# LR_best_model,LR_best_params = LR_RandSearch.RandomSearch()\n",
    "Prediction_LR = LR_RandSearch.BestModelPridict(X_test_scaled)"
   ]
  },
  {
   "cell_type": "code",
   "execution_count": 288,
   "metadata": {
    "_uuid": "d0e00a7f4ce937b1d80416d74a2a53bc90915289"
   },
   "outputs": [],
   "source": [
    "def floatingDecimals(f_val, dec=3):\n",
    "        prc = \"{:.\"+str(dec)+\"f}\" #first cast decimal as str\n",
    "    #     print(prc) #str format output is {:.3f}\n",
    "        return float(prc.format(f_val))"
   ]
  },
  {
   "cell_type": "code",
   "execution_count": 289,
   "metadata": {
    "_uuid": "e56b443664907058f0614154199d8739657bc848"
   },
   "outputs": [
    {
     "name": "stdout",
     "output_type": "stream",
     "text": [
      "prediction on test set is: 0.7790055\n"
     ]
    }
   ],
   "source": [
    "print('prediction on test set is:' ,floatingDecimals((y_test == Prediction_LR).mean(),7))"
   ]
  },
  {
   "cell_type": "markdown",
   "metadata": {
    "_uuid": "1a2f1a9aae8410972475a8d51f6e15da5edd5e96"
   },
   "source": [
    "## 5.2. KNN\n",
    "- n_neighbors: Number of neighbors to use by default for k_neighbors queries"
   ]
  },
  {
   "cell_type": "code",
   "execution_count": 290,
   "metadata": {
    "_uuid": "f6623ce7675e4324f722fd1183d3bd62544ad224"
   },
   "outputs": [],
   "source": [
    "model_KNN = KNeighborsClassifier()\n",
    "\n",
    "neighbors = [1,2,3,4,5,6,7,8,9,10,11,12,13,14,15,16,17,18,19,20]\n",
    "param_grid = dict(n_neighbors=neighbors)\n"
   ]
  },
  {
   "cell_type": "code",
   "execution_count": 291,
   "metadata": {
    "_uuid": "410b1f11706fe4cfb12b316b8b2e91f91a4920fb"
   },
   "outputs": [
    {
     "name": "stdout",
     "output_type": "stream",
     "text": [
      "Best: 0.917941 using {'n_neighbors': 1}\n",
      "prediction on test set is: 0.93186\n"
     ]
    }
   ],
   "source": [
    "KNN_GridSearch = GridSearch(X_train_scaled,y_train,model_KNN,param_grid)\n",
    "Prediction_KNN = KNN_GridSearch.BestModelPridict(X_test_scaled)\n",
    "print('prediction on test set is:' ,floatingDecimals((y_test == Prediction_KNN).mean(),7))\n"
   ]
  },
  {
   "cell_type": "markdown",
   "metadata": {
    "_uuid": "f72d652451fdd607beb1f2514d6e37599afc500e"
   },
   "source": [
    "## 5.3. SVC \n",
    "- C: The Penalty parameter C of the error term. \n",
    "- Kernel: Kernel type could be linear, poly, rbf or sigmoid."
   ]
  },
  {
   "cell_type": "code",
   "execution_count": 294,
   "metadata": {
    "_uuid": "ab51fa661d5159187e941bd6f7d5e49f069a19c2"
   },
   "outputs": [],
   "source": [
    "c_values = [0.1, 0.3, 0.5, 0.7, 0.9, 1.0, 1.3, 1.5, 1.7, 2.0]\n",
    "kernel_values = [ 'linear' , 'poly' , 'rbf' , 'sigmoid' ]\n",
    "param_grid = dict(C=c_values, kernel=kernel_values)\n",
    "model_SVC = SVC()"
   ]
  },
  {
   "cell_type": "code",
   "execution_count": 295,
   "metadata": {
    "_uuid": "2c8ea30730378c1968bc5103e6c402e4a1a59d42"
   },
   "outputs": [
    {
     "name": "stdout",
     "output_type": "stream",
     "text": [
      "Best: 0.912453 using {'C': 2.0, 'kernel': 'poly'}\n",
      "prediction on test set is: 0.9042357\n"
     ]
    }
   ],
   "source": [
    "SVC_GridSearch = GridSearch(X_train_scaled,y_train,model_SVC,param_grid)\n",
    "Prediction_SVC = SVC_GridSearch.BestModelPridict(X_test_scaled)\n",
    "print('prediction on test set is:' ,floatingDecimals((y_test == Prediction_SVC).mean(),7))"
   ]
  },
  {
   "cell_type": "markdown",
   "metadata": {
    "_uuid": "b3fb82aa8dfb3f095a4154d9814650b2d952e1f7"
   },
   "source": [
    "## 5.4. Decision Tree\n",
    "- max_depth:  Maximum depth of the tree (double).\n",
    "- row_subsample: Proportion of observations to consider (double).\n",
    "- max_features: Proportion of columns (features) to consider in each level (double)."
   ]
  },
  {
   "cell_type": "code",
   "execution_count": 296,
   "metadata": {
    "_uuid": "5d81f6df4c0d34fda3641e2dc20becf0beb852fc"
   },
   "outputs": [],
   "source": [
    "from scipy.stats import randint\n",
    "max_depth_value = [3, None]\n",
    "max_features_value =  randint(1, 4)\n",
    "min_samples_leaf_value = randint(1, 4)\n",
    "criterion_value = [\"gini\", \"entropy\"]"
   ]
  },
  {
   "cell_type": "code",
   "execution_count": 297,
   "metadata": {
    "_uuid": "bc518522f0fecbc273450b51f8a692a93f9632bd"
   },
   "outputs": [],
   "source": [
    "param_grid = dict(max_depth = max_depth_value,\n",
    "                  max_features = max_features_value,\n",
    "                  min_samples_leaf = min_samples_leaf_value,\n",
    "                  criterion = criterion_value)"
   ]
  },
  {
   "cell_type": "code",
   "execution_count": 298,
   "metadata": {
    "_uuid": "4bb06ecefb0b11768974c0695bd8301f9bde41ad"
   },
   "outputs": [
    {
     "name": "stdout",
     "output_type": "stream",
     "text": [
      "Best: 0.917074 using {'criterion': 'gini', 'max_depth': None, 'max_features': 3, 'min_samples_leaf': 1}\n",
      "prediction on test set is: 0.9042357\n"
     ]
    }
   ],
   "source": [
    "model_CART = DecisionTreeClassifier()\n",
    "CART_RandSearch = RandomSearch(X_train_scaled,y_train,model_CART,param_grid)\n",
    "Prediction_CART = CART_RandSearch.BestModelPridict(X_test_scaled)\n",
    "print('prediction on test set is:' ,floatingDecimals((y_test == Prediction_CART).mean(),7))"
   ]
  },
  {
   "cell_type": "markdown",
   "metadata": {
    "_uuid": "3f8e989cc84237b3ecd807383f277f5ed47c42f3"
   },
   "source": [
    "## 5.5 AdaBoostClassifier\n",
    "- learning_rate: Learning rate shrinks the contribution of each classifier by learning_rate.\n",
    "- n_estimators: Number of trees to build."
   ]
  },
  {
   "cell_type": "code",
   "execution_count": 301,
   "metadata": {
    "_uuid": "5b34e738bba67b634abe3914d22ce902f7207038"
   },
   "outputs": [],
   "source": [
    "learning_rate_value = [.01,.05,.1,.5,1]\n",
    "n_estimators_value = [50,100,150,200,250,300]\n",
    "\n",
    "param_grid = dict(learning_rate=learning_rate_value, n_estimators=n_estimators_value)"
   ]
  },
  {
   "cell_type": "code",
   "execution_count": 300,
   "metadata": {
    "_uuid": "4fd47fa57861a0aa524073031e3b5d0466bcbbe0"
   },
   "outputs": [
    {
     "name": "stdout",
     "output_type": "stream",
     "text": [
      "Best: 0.882951 using {'learning_rate': 1, 'n_estimators': 300}\n",
      "prediction on test set is: 0.8508287\n"
     ]
    }
   ],
   "source": [
    "model_Ad = AdaBoostClassifier()\n",
    "Ad_GridSearch = GridSearch(X_train_scaled,y_train,model_Ad,param_grid)\n",
    "Prediction_Ad = Ad_GridSearch.BestModelPridict(X_test_scaled)\n",
    "print('prediction on test set is:' ,floatingDecimals((y_test == Prediction_Ad).mean(),7))\n"
   ]
  },
  {
   "cell_type": "markdown",
   "metadata": {
    "_uuid": "aff0ef797e5551b9f946b03ca2663ad872d759cf"
   },
   "source": [
    "## 5.6 GradientBoosting"
   ]
  },
  {
   "cell_type": "code",
   "execution_count": 302,
   "metadata": {
    "_uuid": "bb21b1e4daf464813738f09667a34a289de1f3da"
   },
   "outputs": [],
   "source": [
    "learning_rate_value = [.01,.05,.1,.5,1]\n",
    "n_estimators_value = [50,100,150,200,250,300]\n",
    "\n",
    "param_grid = dict(learning_rate=learning_rate_value, n_estimators=n_estimators_value)"
   ]
  },
  {
   "cell_type": "code",
   "execution_count": 304,
   "metadata": {
    "_uuid": "e30a9c2e6861eba458ea8a44218a5f0c9da702f9"
   },
   "outputs": [
    {
     "name": "stdout",
     "output_type": "stream",
     "text": [
      "Best: 0.938235 using {'learning_rate': 0.1, 'n_estimators': 300}\n",
      "prediction on test set is: 0.9410681\n"
     ]
    }
   ],
   "source": [
    "model_GB = GradientBoostingClassifier()\n",
    "GB_GridSearch = GridSearch(X_train_scaled,y_train,model_GB,param_grid)\n",
    "Prediction_GB = GB_GridSearch.BestModelPridict(X_test_scaled)\n",
    "print('prediction on test set is:' ,floatingDecimals((y_test == Prediction_GB).mean(),7))"
   ]
  },
  {
   "cell_type": "markdown",
   "metadata": {
    "_uuid": "fff807b4781a167227e1bd6db5690778c87bcbc7"
   },
   "source": [
    "## 5.7. RandomForest\n",
    "**Toturial: Tune RandommForest**\n",
    "## 5.8. ExtraTrees\n",
    "**Toturial: Tune ExtraTrees**"
   ]
  },
  {
   "cell_type": "markdown",
   "metadata": {
    "_uuid": "7e5a3fab7dd5dc069f441b7db201cfb8a47d08e7"
   },
   "source": [
    " # 6. Ensemble Methods"
   ]
  },
  {
   "cell_type": "markdown",
   "metadata": {
    "_uuid": "0e6711a32e0df957d78de42d85bed802a6110d8e"
   },
   "source": [
    "## 6.1 Voting Ensemble\n",
    "\n",
    "Voting is one of the simplest ways of combining the predictions from multiple machine learning algorithms. It works by first creating two or more standalone models from your training dataset.\n",
    "A Voting Classifier can then be used to wrap your models and average the predictions of the sub-models when asked to make predictions for new data."
   ]
  },
  {
   "cell_type": "code",
   "execution_count": 305,
   "metadata": {
    "_uuid": "41aa3b3f8588a4ad96ac3afdf1e8a364db20a44a"
   },
   "outputs": [],
   "source": [
    "from sklearn.ensemble import VotingClassifier"
   ]
  },
  {
   "cell_type": "code",
   "execution_count": 306,
   "metadata": {
    "_uuid": "25c9f6018cba0ca10a52c13c0e5fb0fb15c1b32f"
   },
   "outputs": [],
   "source": [
    "param = {'C': 0.9318970953640817, 'penalty': 'l2'}\n",
    "model1 = LogisticRegression(**param)\n",
    "\n",
    "param = {'n_neighbors': 1}\n",
    "model2 = KNeighborsClassifier(**param)\n",
    "\n",
    "param = {'C': 2.0, 'kernel': 'poly'}\n",
    "model3 = SVC(**param)\n",
    "\n",
    "param = {'criterion': 'gini', 'max_depth': None, 'max_features': 3, 'min_samples_leaf': 1}\n",
    "model4 = DecisionTreeClassifier(**param)\n",
    "\n",
    "param = {'learning_rate': 1, 'n_estimators': 300}\n",
    "model5 = AdaBoostClassifier(**param)\n",
    "\n",
    "param = {'learning_rate': 0.1, 'n_estimators': 300}\n",
    "model6 = GradientBoostingClassifier(**param)\n",
    "\n",
    "model7 = GaussianNB()\n",
    "\n",
    "model8 = RandomForestClassifier()\n",
    "\n",
    "model9 = ExtraTreesClassifier()"
   ]
  },
  {
   "cell_type": "code",
   "execution_count": 307,
   "metadata": {
    "_uuid": "eaaed81a9994210940a6d6b7de0cdc80fe4a04c1"
   },
   "outputs": [],
   "source": [
    "# create the sub models\n",
    "estimators = [('LR',model1), ('KNN',model2), ('SVC',model3),\n",
    "              ('DT',model4), ('ADa',model5), ('GB',model6),\n",
    "              ('NB',model7), ('RF',model8),  ('ET',model9)]\n",
    "    "
   ]
  },
  {
   "cell_type": "code",
   "execution_count": 310,
   "metadata": {
    "_uuid": "7742ee84729ba393b5d205ecf535a7f35290dfd2"
   },
   "outputs": [
    {
     "name": "stdout",
     "output_type": "stream",
     "text": [
      "Accuracy on train:  0.953890587835542\n",
      "Accuracy on test: 0.9594843462246777\n"
     ]
    }
   ],
   "source": [
    "# create the ensemble model\n",
    "kfold = StratifiedKFold(n_splits=10, random_state=SEED)\n",
    "ensemble = VotingClassifier(estimators)\n",
    "results = cross_val_score(ensemble, X_train_scaled,y_train, cv=kfold)\n",
    "print('Accuracy on train: ',results.mean())\n",
    "ensemble_model = ensemble.fit(X_train_scaled,y_train)\n",
    "pred = ensemble_model.predict(X_test_scaled)\n",
    "print('Accuracy on test:' , (y_test == pred).mean())"
   ]
  },
  {
   "cell_type": "markdown",
   "metadata": {
    "_uuid": "4e247d2094044ca00cd9106f3beac6c50d10af6b"
   },
   "source": [
    "## Beyond Voting"
   ]
  },
  {
   "cell_type": "code",
   "execution_count": 311,
   "metadata": {
    "_uuid": "f7c15dba0b60875b55d159f51a78b4d69f34e390"
   },
   "outputs": [],
   "source": [
    "def get_models():\n",
    "    \"\"\"Generate a library of base learners.\"\"\"\n",
    "    param = {'C': 0.9318970953640817, 'penalty': 'l2'}\n",
    "    model1 = LogisticRegression(**param)\n",
    "\n",
    "    param = {'n_neighbors': 1}\n",
    "    model2 = KNeighborsClassifier(**param)\n",
    "\n",
    "    param = {'C': 2.0, 'kernel': 'poly', 'probability':True}\n",
    "    model3 = SVC(**param)\n",
    "\n",
    "    param = {'criterion': 'gini', 'max_depth': None, 'max_features':3, 'min_samples_leaf':1}\n",
    "    model4 = DecisionTreeClassifier(**param)\n",
    "\n",
    "    param = {'learning_rate': 1, 'n_estimators': 300}\n",
    "    model5 = AdaBoostClassifier(**param)\n",
    "\n",
    "    param = {'learning_rate': 0.1, 'n_estimators': 300}\n",
    "    model6 = GradientBoostingClassifier(**param)\n",
    "\n",
    "    model7 = GaussianNB()\n",
    "\n",
    "    model8 = RandomForestClassifier()\n",
    "\n",
    "    model9 = ExtraTreesClassifier()\n",
    "\n",
    "    models = {'LR':model1, 'KNN':model2, 'SVC':model3,\n",
    "              'DT':model4, 'ADa':model5, 'GB':model6,\n",
    "              'NB':model7, 'RF':model8,  'ET':model9\n",
    "              }\n",
    "\n",
    "    return models"
   ]
  },
  {
   "cell_type": "markdown",
   "metadata": {
    "_uuid": "39ac1773bfdb3779845be291094c68ba73ca5190"
   },
   "source": [
    "## 6.2. Error Corrolation"
   ]
  },
  {
   "cell_type": "code",
   "execution_count": 312,
   "metadata": {
    "_uuid": "353ce5914dad1c368a6ea72392fd741a2b65a8cd"
   },
   "outputs": [],
   "source": [
    "def train_predict(model_list,xtrain, xtest, ytrain, ytest):\n",
    "    \"\"\"Fit models in list on training set and return preds\"\"\"\n",
    "    P = np.zeros((ytest.shape[0], len(model_list)))\n",
    "    P = pd.DataFrame(P)\n",
    "\n",
    "    print(\"Fitting models.\")\n",
    "    cols = list()\n",
    "    for i, (name, m) in enumerate(models.items()):\n",
    "        print(\"%s...\" % name, end=\" \", flush=False)\n",
    "        m.fit(xtrain, ytrain)\n",
    "        P.iloc[:, i] = m.predict_proba(xtest)[:, 1]\n",
    "        cols.append(name)\n",
    "        print(\"done\")\n",
    "\n",
    "    P.columns = cols\n",
    "    print(\"Done.\\n\")\n",
    "    return P"
   ]
  },
  {
   "cell_type": "code",
   "execution_count": 313,
   "metadata": {
    "_uuid": "d51139fadb8f9c020a0f7aaa162fef1746dff7fe"
   },
   "outputs": [
    {
     "name": "stdout",
     "output_type": "stream",
     "text": [
      "Fitting models.\n",
      "LR... done\n",
      "KNN... done\n",
      "SVC... done\n",
      "DT... done\n",
      "ADa... done\n",
      "GB... done\n",
      "NB... done\n",
      "RF... done\n",
      "ET... done\n",
      "Done.\n",
      "\n"
     ]
    }
   ],
   "source": [
    "models = get_models()\n",
    "P = train_predict(models,X_train_scaled,X_test_scaled,y_train,y_test)"
   ]
  },
  {
   "cell_type": "code",
   "execution_count": 314,
   "metadata": {
    "_uuid": "36cd5f4ca661e1a15dea98d2badf305498e5e7d3",
    "scrolled": true
   },
   "outputs": [
    {
     "name": "stderr",
     "output_type": "stream",
     "text": [
      "[MLENS] backend: threading\n"
     ]
    },
    {
     "data": {
      "image/png": "[encoded data removed]",
      "text/plain": [
       "<Figure size 792x648 with 2 Axes>"
      ]
     },
     "metadata": {
      "needs_background": "light"
     },
     "output_type": "display_data"
    },
    {
     "data": {
      "text/plain": [
       "<matplotlib.axes._subplots.AxesSubplot at 0x7ff5733042d0>"
      ]
     },
     "execution_count": 314,
     "metadata": {},
     "output_type": "execute_result"
    }
   ],
   "source": [
    "from mlens.visualization import corrmat\n",
    "\n",
    "corrmat(P.corr(), inflate=False)\n"
   ]
  },
  {
   "cell_type": "markdown",
   "metadata": {
    "_uuid": "0be8f6a1d8f207fc95bcd7aa9f18c92e26861a41"
   },
   "source": [
    "Errors are significantly correlated, which is to be expected for models that perform well, since it's typically the outliers that are hard to get right. In fact, if we look at error correlations on a class prediction basis things look a bit more promising:"
   ]
  },
  {
   "cell_type": "code",
   "execution_count": 316,
   "metadata": {
    "_uuid": "54a1dd23b1c61374a696152fd5497a2fc481bcd8"
   },
   "outputs": [
    {
     "data": {
      "image/png": "[encoded data removed]",
      "text/plain": [
       "<Figure size 792x648 with 2 Axes>"
      ]
     },
     "metadata": {
      "needs_background": "light"
     },
     "output_type": "display_data"
    },
    {
     "data": {
      "text/plain": [
       "<matplotlib.axes._subplots.AxesSubplot at 0x7ff590ea7450>"
      ]
     },
     "execution_count": 316,
     "metadata": {},
     "output_type": "execute_result"
    }
   ],
   "source": [
    "corrmat(P.apply(lambda predic: 1*(predic >= 0.5) - y_test).corr(), inflate=False)"
   ]
  },
  {
   "cell_type": "markdown",
   "metadata": {
    "_uuid": "07ce79e10f3a8840cea366f998ada73af0cb2a6a"
   },
   "source": [
    "# 6.3 Stacking"
   ]
  },
  {
   "cell_type": "code",
   "execution_count": 317,
   "metadata": {
    "_uuid": "e74639abe524f3ec0b9434e7586993fdc4dbfe30"
   },
   "outputs": [],
   "source": [
    "base_learners = get_models()\n",
    "meta_learner = GradientBoostingClassifier(\n",
    "    n_estimators=1000,\n",
    "    loss=\"exponential\",\n",
    "    max_features=6,\n",
    "    max_depth=3,\n",
    "    subsample=0.5,\n",
    "    learning_rate=0.001, \n",
    "    random_state=SEED\n",
    ")"
   ]
  },
  {
   "cell_type": "code",
   "execution_count": null,
   "metadata": {
    "_uuid": "a43f81a5af29ee88d5ca9819f4de41366ecdc325"
   },
   "outputs": [
    {
     "name": "stdout",
     "output_type": "stream",
     "text": [
      "\n",
      "Fitting 2 layers\n",
      "Processing layer-1             "
     ]
    }
   ],
   "source": [
    "from mlens.ensemble import SuperLearner\n",
    "\n",
    "# Instantiate the ensemble with 10 folds\n",
    "sl = SuperLearner(\n",
    "    folds=10,\n",
    "    random_state=SEED,\n",
    "    verbose=2,\n",
    "    backend=\"multiprocessing\"\n",
    ")\n",
    "\n",
    "# Add the base learners and the meta learner\n",
    "sl.add(list(base_learners.values()), proba=True) \n",
    "sl.add_meta(meta_learner, proba=True)\n",
    "\n",
    "# Train the ensemble\n",
    "sl.fit(X_train_scaled, y_train)\n",
    "\n",
    "# Predict the test set\n",
    "p_sl = sl.predict_proba(X_test_scaled)\n",
    "\n",
    "# print(\"\\nSuper Learner ROC-AUC score: %.3f\" % roc_auc_score(y_test_sc, p_sl[:, 1]))\n"
   ]
  },
  {
   "cell_type": "code",
   "execution_count": null,
   "metadata": {
    "_uuid": "f5fb0981be06563833434d35218d7b5ead7b64cf"
   },
   "outputs": [],
   "source": [
    "pp = []\n",
    "for p in p_sl[:, 1]:\n",
    "    if p>0.5:\n",
    "        pp.append(1.)\n",
    "    else:\n",
    "        pp.append(0.)"
   ]
  },
  {
   "cell_type": "code",
   "execution_count": null,
   "metadata": {
    "_uuid": "bfddf9c785b045e1601697aee9fc303bde1afe54"
   },
   "outputs": [],
   "source": [
    "print(\"\\nSuper Learner Accuracy score: %.8f\" % (y_test== pp).mean())"
   ]
  },
  {
   "cell_type": "markdown",
   "metadata": {
    "_uuid": "00e22e7466c63ca7f570a9663138727a45855e39"
   },
   "source": [
    "# Conclusion:\n",
    "- We could reach 86 % accuracy\n",
    "- Now you can do more feature engineering \n",
    "- Tune better \n",
    "- Use XGBoost, LightGBM, Nueal Network and other boosting method to improve your result\n",
    "- Stack more diverse model\n",
    "- Use your creativity \n",
    "- Your comments is warmly welcome\n",
    "> - Thank you, it there is a misstke Please let me know"
   ]
  },
  {
   "cell_type": "markdown",
   "metadata": {
    "_uuid": "9dae5aaa36c4fe8ad1b09f24ee4b9e772ca66c91"
   },
   "source": [
    "# Happy Kaggling!"
   ]
  },
  {
   "cell_type": "markdown",
   "metadata": {
    "_uuid": "213c0c624aff0a9168dd3fc11ac78daeeabb177b"
   },
   "source": [
    "# If the kernel is useful, Please UpVote"
   ]
  },
  {
   "cell_type": "code",
   "execution_count": 102,
   "metadata": {},
   "outputs": [],
   "source": [
    "from sklearn.metrics import roc_auc_score"
   ]
  },
  {
   "cell_type": "code",
   "execution_count": 103,
   "metadata": {},
   "outputs": [],
   "source": [
    "assign = pd.read_csv('test.csv')"
   ]
  },
  {
   "cell_type": "code",
   "execution_count": 104,
   "metadata": {},
   "outputs": [],
   "source": [
    "assign.drop(['YearsWithCurrManager'],axis=1,inplace=True)"
   ]
  },
  {
   "cell_type": "code",
   "execution_count": 105,
   "metadata": {},
   "outputs": [],
   "source": [
    "assign.drop(['EmployeeNumber'],axis=1,inplace=True)"
   ]
  },
  {
   "cell_type": "code",
   "execution_count": 106,
   "metadata": {},
   "outputs": [],
   "source": [
    "X_assign =  assign.drop(['Id' ,'Behaviour'] , axis = 1)"
   ]
  },
  {
   "cell_type": "code",
   "execution_count": 107,
   "metadata": {},
   "outputs": [],
   "source": [
    "X_assign = pd.get_dummies(X_assign , columns = ['OverTime','JobRole','BusinessTravel','Department','EducationField','Gender','MaritalStatus' ] , drop_first = True)"
   ]
  },
  {
   "cell_type": "code",
   "execution_count": 108,
   "metadata": {},
   "outputs": [],
   "source": [
    "X_assign_scaled = MinMaxScaler().fit_transform(X_assign)"
   ]
  },
  {
   "cell_type": "code",
   "execution_count": 109,
   "metadata": {},
   "outputs": [],
   "source": [
    "from sklearn.linear_model import LogisticRegression"
   ]
  },
  {
   "cell_type": "code",
   "execution_count": 110,
   "metadata": {},
   "outputs": [],
   "source": [
    "knn = LogisticRegression(C=0.7450408455106836,penalty = 'l2')"
   ]
  },
  {
   "cell_type": "code",
   "execution_count": 111,
   "metadata": {},
   "outputs": [
    {
     "data": {
      "text/plain": [
       "0.8010839483394834"
      ]
     },
     "execution_count": 111,
     "metadata": {},
     "output_type": "execute_result"
    }
   ],
   "source": [
    "knn.fit(X_train_scaled, y_train)\n",
    "test_pred = knn.predict(X_test_scaled)\n",
    "roc_auc_score(y_test , test_pred)"
   ]
  },
  {
   "cell_type": "code",
   "execution_count": 112,
   "metadata": {},
   "outputs": [],
   "source": [
    "prediction = knn.predict(X_assign_scaled)"
   ]
  },
  {
   "cell_type": "code",
   "execution_count": 113,
   "metadata": {},
   "outputs": [],
   "source": [
    "submission = pd.DataFrame({\n",
    "        \"Id\": assign[\"Id\"],\n",
    "        \"Attrition\": prediction\n",
    "    })\n",
    "\n",
    "submission.to_csv('lr_submission.csv', index=False)"
   ]
  }
 ],
 "metadata": {
  "kernelspec": {
   "display_name": "Python 3",
   "language": "python",
   "name": "python3"
  },
  "language_info": {
   "codemirror_mode": {
    "name": "ipython",
    "version": 3
   },
   "file_extension": ".py",
   "mimetype": "text/x-python",
   "name": "python",
   "nbconvert_exporter": "python",
   "pygments_lexer": "ipython3",
   "version": "3.7.6"
  }
 },
 "nbformat": 4,
 "nbformat_minor": 4
}
