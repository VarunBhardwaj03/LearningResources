{
 "cells": [
  {
   "cell_type": "code",
   "execution_count": 1,
   "metadata": {},
   "outputs": [],
   "source": [
    "import numpy as np\n",
    "import pandas as pd\n",
    "from matplotlib import pyplot as plt\n",
    "%matplotlib inline\n",
    "import seaborn as sns\n",
    "from sklearn.metrics import confusion_matrix\n",
    "from sklearn.metrics import accuracy_score\n",
    "from sklearn.model_selection import train_test_split"
   ]
  },
  {
   "cell_type": "markdown",
   "metadata": {},
   "source": [
    "# COLLECTING THE DATA"
   ]
  },
  {
   "cell_type": "code",
   "execution_count": 2,
   "metadata": {},
   "outputs": [],
   "source": [
    "train = pd.read_csv('train.csv')\n",
    "assign = pd.read_csv('test.csv')"
   ]
  },
  {
   "cell_type": "markdown",
   "metadata": {},
   "source": [
    "# CHOOSING MEASURE OF SUCCESS \n",
    "SINCE THE GIVEN DATA IS AN EXAMPLE OF CLASSIFICATION PROBLEM, Hence we will use RECALL , PRECISION and ACCURACY"
   ]
  },
  {
   "cell_type": "code",
   "execution_count": 82,
   "metadata": {},
   "outputs": [],
   "source": [
    "def success(y_train , y_pred):\n",
    "    cm_tr  = confusion_matrix(y_train, y_pred).ravel()\n",
    "\n",
    "    precision_tr = cm_tr[3]/(cm_tr[3]+cm_tr[1])\n",
    "    recall_tr = cm_tr[3]/(cm_tr[3]+cm_tr[2])\n",
    "\n",
    "    print('PRECISION : ' , precision_tr)\n",
    "    print('RECALL    : ' , recall_tr)\n",
    "    print('ACCURACY : ' , accuracy_score(y_train, y_pred))\n",
    "    K = 2*(precision_tr * recall_tr)/(precision_tr+ recall_tr)\n",
    "    print('F2 SCORE :' , K)"
   ]
  },
  {
   "cell_type": "markdown",
   "metadata": {},
   "source": [
    "# Setting an Evaluation Protocol \n",
    "### 1.Maintaining a Hold Out Validation Set"
   ]
  },
  {
   "cell_type": "code",
   "execution_count": 83,
   "metadata": {},
   "outputs": [],
   "source": [
    "X_train ,X_test ,  y_train , y_test = train_test_split(train.drop(['Attrition' , 'Id'] , axis = 1) , train['Attrition'] , test_size = 0.3)"
   ]
  },
  {
   "cell_type": "code",
   "execution_count": 84,
   "metadata": {},
   "outputs": [],
   "source": [
    "X_train, X_test, y_train, y_test = train_test_split(train.drop(['Attrition' , 'Id'] , axis = 1), train['Attrition'], test_size=0.2, random_state=1)\n",
    "\n",
    "X_train, X_val, y_train, y_val = train_test_split(X_train, y_train, test_size=0.25, random_state=1)"
   ]
  },
  {
   "cell_type": "code",
   "execution_count": 85,
   "metadata": {},
   "outputs": [],
   "source": [
    "X_assign = assign.drop(['Id'] , axis = 1)"
   ]
  },
  {
   "cell_type": "markdown",
   "metadata": {},
   "source": [
    "# PREPARING THE DATA "
   ]
  },
  {
   "cell_type": "markdown",
   "metadata": {},
   "source": [
    "### HANDLING MISSING VALUE "
   ]
  },
  {
   "cell_type": "code",
   "execution_count": 86,
   "metadata": {
    "scrolled": false
   },
   "outputs": [
    {
     "data": {
      "text/plain": [
       "<matplotlib.axes._subplots.AxesSubplot at 0x7f649719f410>"
      ]
     },
     "execution_count": 86,
     "metadata": {},
     "output_type": "execute_result"
    },
    {
     "data": {
      "image/png": "[encoded data removed]",
      "text/plain": [
       "<Figure size 432x288 with 1 Axes>"
      ]
     },
     "metadata": {
      "needs_background": "light"
     },
     "output_type": "display_data"
    }
   ],
   "source": [
    "sns.heatmap(train.isnull(),yticklabels=False,cbar=False,cmap='viridis')\n",
    "#THERE ARE NO MISSING VALUES IN THE DATA"
   ]
  },
  {
   "cell_type": "markdown",
   "metadata": {},
   "source": [
    "### Handling Caterogical Data"
   ]
  },
  {
   "cell_type": "code",
   "execution_count": 87,
   "metadata": {},
   "outputs": [],
   "source": [
    "X_train = pd.get_dummies(X_train , columns = ['OverTime','JobRole','BusinessTravel','Department','EducationField','Gender','MaritalStatus' ] , drop_first = True)\n",
    "X_val = pd.get_dummies(X_val , columns = ['OverTime','JobRole','BusinessTravel','Department','EducationField','Gender','MaritalStatus' ] , drop_first = True)\n",
    "X_test = pd.get_dummies(X_test , columns = ['OverTime','JobRole','BusinessTravel','Department','EducationField','Gender','MaritalStatus' ] , drop_first = True)\n",
    "X_assign  = pd.get_dummies(X_assign , columns = ['OverTime','JobRole','BusinessTravel','Department','EducationField','Gender','MaritalStatus' ] , drop_first = True)"
   ]
  },
  {
   "cell_type": "markdown",
   "metadata": {},
   "source": [
    "# FEATURE SCALLING  "
   ]
  },
  {
   "cell_type": "code",
   "execution_count": 88,
   "metadata": {},
   "outputs": [],
   "source": [
    "from sklearn import preprocessing\n",
    "X_train_scaled = preprocessing.scale(X_train)\n",
    "X_val_scaled = preprocessing.scale(X_val)\n",
    "X_test_scaled = preprocessing.scale(X_test)\n",
    "X_assign_scaled = preprocessing.scale(X_assign)"
   ]
  },
  {
   "cell_type": "markdown",
   "metadata": {},
   "source": [
    "# SELECTING MEANINGFUL FEATURES "
   ]
  },
  {
   "cell_type": "code",
   "execution_count": 89,
   "metadata": {},
   "outputs": [
    {
     "data": {
      "text/plain": [
       "(976, 41)"
      ]
     },
     "execution_count": 89,
     "metadata": {},
     "output_type": "execute_result"
    }
   ],
   "source": [
    "X_train_scaled.shape"
   ]
  },
  {
   "cell_type": "code",
   "execution_count": 99,
   "metadata": {},
   "outputs": [
    {
     "data": {
      "text/plain": [
       "PCA(copy=True, iterated_power='auto', n_components=30, random_state=None,\n",
       "    svd_solver='auto', tol=0.0, whiten=False)"
      ]
     },
     "execution_count": 99,
     "metadata": {},
     "output_type": "execute_result"
    }
   ],
   "source": [
    "from sklearn.decomposition import PCA\n",
    "pca = PCA(n_components =30)\n",
    "pca.fit(X_train_scaled)"
   ]
  },
  {
   "cell_type": "code",
   "execution_count": 100,
   "metadata": {},
   "outputs": [],
   "source": [
    "X_train_pca = pca.transform(X_train_scaled)\n",
    "X_val_pca = pca.transform(X_val_scaled)\n",
    "X_test_pca = pca.transform(X_test_scaled)\n",
    "X_assign_pca = pca.transform(X_assign_scaled)"
   ]
  },
  {
   "cell_type": "markdown",
   "metadata": {},
   "source": [
    "# LOGISTIC REGRESSION"
   ]
  },
  {
   "cell_type": "code",
   "execution_count": 101,
   "metadata": {
    "scrolled": true
   },
   "outputs": [
    {
     "data": {
      "text/plain": [
       "LogisticRegression(C=1.0, class_weight=None, dual=False, fit_intercept=True,\n",
       "                   intercept_scaling=1, l1_ratio=None, max_iter=100,\n",
       "                   multi_class='auto', n_jobs=None, penalty='l2',\n",
       "                   random_state=None, solver='lbfgs', tol=0.0001, verbose=0,\n",
       "                   warm_start=False)"
      ]
     },
     "execution_count": 101,
     "metadata": {},
     "output_type": "execute_result"
    }
   ],
   "source": [
    "from sklearn.linear_model import LogisticRegression\n",
    "LR = LogisticRegression()\n",
    "LR.fit(X_train_pca,y_train)"
   ]
  },
  {
   "cell_type": "code",
   "execution_count": 102,
   "metadata": {
    "scrolled": false
   },
   "outputs": [
    {
     "name": "stdout",
     "output_type": "stream",
     "text": [
      "====================TRAINING DATA===========================\n",
      "PRECISION :  0.7995867768595041\n",
      "RECALL    :  0.8269230769230769\n",
      "ACCURACY :  0.8176229508196722\n",
      "F2 SCORE : 0.8130252100840336\n",
      "====================VALIDATION DATA===========================\n",
      "PRECISION :  0.7453416149068323\n",
      "RECALL    :  0.7643312101910829\n",
      "ACCURACY :  0.7607361963190185\n",
      "F2 SCORE : 0.7547169811320755\n",
      "====================TESTING DATA===========================\n",
      "PRECISION :  0.7735849056603774\n",
      "RECALL    :  0.76875\n",
      "ACCURACY :  0.7760736196319018\n",
      "F2 SCORE : 0.7711598746081505\n"
     ]
    }
   ],
   "source": [
    "train_pred = LR.predict(X_train_pca)\n",
    "val_pred = LR.predict(X_val_pca)\n",
    "test_pred = LR.predict(X_test_pca)\n",
    "print('====================TRAINING DATA===========================')\n",
    "success(y_train , train_pred)\n",
    "print('====================VALIDATION DATA===========================')\n",
    "success(y_val , val_pred)\n",
    "print('====================TESTING DATA===========================')\n",
    "success(y_test , test_pred)"
   ]
  },
  {
   "cell_type": "markdown",
   "metadata": {},
   "source": [
    "# SVM CLASSIFIER"
   ]
  },
  {
   "cell_type": "code",
   "execution_count": 103,
   "metadata": {},
   "outputs": [
    {
     "data": {
      "text/plain": [
       "SVC(C=1.0, break_ties=False, cache_size=200, class_weight=None, coef0=0.0,\n",
       "    decision_function_shape='ovr', degree=3, gamma='scale', kernel='rbf',\n",
       "    max_iter=-1, probability=False, random_state=None, shrinking=True,\n",
       "    tol=0.001, verbose=False)"
      ]
     },
     "execution_count": 103,
     "metadata": {},
     "output_type": "execute_result"
    }
   ],
   "source": [
    "from sklearn.svm import SVC\n",
    "SVC = SVC()\n",
    "SVC.fit(X_train_pca , y_train)"
   ]
  },
  {
   "cell_type": "code",
   "execution_count": 104,
   "metadata": {
    "scrolled": true
   },
   "outputs": [
    {
     "name": "stdout",
     "output_type": "stream",
     "text": [
      "====================TRAINING DATA===========================\n",
      "PRECISION :  0.939203354297694\n",
      "RECALL    :  0.9572649572649573\n",
      "ACCURACY :  0.9497950819672131\n",
      "F2 SCORE : 0.9481481481481482\n",
      "====================VALIDATION DATA===========================\n",
      "PRECISION :  0.8588957055214724\n",
      "RECALL    :  0.89171974522293\n",
      "ACCURACY :  0.8773006134969326\n",
      "F2 SCORE : 0.8749999999999999\n",
      "====================TESTING DATA===========================\n",
      "PRECISION :  0.8606060606060606\n",
      "RECALL    :  0.8875\n",
      "ACCURACY :  0.8742331288343558\n",
      "F2 SCORE : 0.8738461538461538\n"
     ]
    }
   ],
   "source": [
    "train_pred = SVC.predict(X_train_pca)\n",
    "val_pred   = SVC.predict(X_val_pca)\n",
    "test_pred  = SVC.predict(X_test_pca)\n",
    "print('====================TRAINING DATA===========================')\n",
    "success(y_train , train_pred)\n",
    "print('====================VALIDATION DATA===========================')\n",
    "success(y_val , val_pred)\n",
    "print('====================TESTING DATA===========================')\n",
    "success(y_test , test_pred)"
   ]
  },
  {
   "cell_type": "markdown",
   "metadata": {},
   "source": [
    "# DECISION TREE CLASSIFIER"
   ]
  },
  {
   "cell_type": "code",
   "execution_count": 105,
   "metadata": {},
   "outputs": [
    {
     "data": {
      "text/plain": [
       "DecisionTreeClassifier(ccp_alpha=0.0, class_weight=None, criterion='gini',\n",
       "                       max_depth=None, max_features=None, max_leaf_nodes=None,\n",
       "                       min_impurity_decrease=0.0, min_impurity_split=None,\n",
       "                       min_samples_leaf=1, min_samples_split=2,\n",
       "                       min_weight_fraction_leaf=0.0, presort='deprecated',\n",
       "                       random_state=None, splitter='best')"
      ]
     },
     "execution_count": 105,
     "metadata": {},
     "output_type": "execute_result"
    }
   ],
   "source": [
    "from sklearn.tree import DecisionTreeClassifier\n",
    "DTC = DecisionTreeClassifier()\n",
    "DTC.fit(X_train_pca , y_train)"
   ]
  },
  {
   "cell_type": "code",
   "execution_count": 106,
   "metadata": {},
   "outputs": [
    {
     "name": "stdout",
     "output_type": "stream",
     "text": [
      "====================TRAINING DATA===========================\n",
      "PRECISION :  1.0\n",
      "RECALL    :  1.0\n",
      "ACCURACY :  1.0\n",
      "F2 SCORE : 1.0\n",
      "====================VALIDATION DATA===========================\n",
      "PRECISION :  0.7371794871794872\n",
      "RECALL    :  0.732484076433121\n",
      "ACCURACY :  0.745398773006135\n",
      "F2 SCORE : 0.7348242811501596\n",
      "====================TESTING DATA===========================\n",
      "PRECISION :  0.7844311377245509\n",
      "RECALL    :  0.81875\n",
      "ACCURACY :  0.8006134969325154\n",
      "F2 SCORE : 0.8012232415902141\n"
     ]
    }
   ],
   "source": [
    "train_pred = DTC.predict(X_train_pca)\n",
    "val_pred   = DTC.predict(X_val_pca)\n",
    "test_pred  = DTC.predict(X_test_pca)\n",
    "print('====================TRAINING DATA===========================')\n",
    "success(y_train , train_pred)\n",
    "print('====================VALIDATION DATA===========================')\n",
    "success(y_val , val_pred)\n",
    "print('====================TESTING DATA===========================')\n",
    "success(y_test , test_pred)"
   ]
  },
  {
   "cell_type": "markdown",
   "metadata": {},
   "source": [
    "# RANDOM FOREST CLASSIFIER "
   ]
  },
  {
   "cell_type": "code",
   "execution_count": 113,
   "metadata": {},
   "outputs": [
    {
     "data": {
      "text/plain": [
       "RandomForestClassifier(bootstrap=True, ccp_alpha=0.0, class_weight=None,\n",
       "                       criterion='gini', max_depth=175, max_features='auto',\n",
       "                       max_leaf_nodes=None, max_samples=None,\n",
       "                       min_impurity_decrease=0.0, min_impurity_split=None,\n",
       "                       min_samples_leaf=1, min_samples_split=4,\n",
       "                       min_weight_fraction_leaf=0.0, n_estimators=200,\n",
       "                       n_jobs=None, oob_score=False, random_state=None,\n",
       "                       verbose=0, warm_start=False)"
      ]
     },
     "execution_count": 113,
     "metadata": {},
     "output_type": "execute_result"
    }
   ],
   "source": [
    "from sklearn.ensemble import RandomForestClassifier\n",
    "RFC = RandomForestClassifier(n_estimators = 200 , max_depth = 175 , min_samples_split = 4)\n",
    "RFC.fit(X_train_pca , y_train)"
   ]
  },
  {
   "cell_type": "code",
   "execution_count": 114,
   "metadata": {
    "scrolled": true
   },
   "outputs": [
    {
     "name": "stdout",
     "output_type": "stream",
     "text": [
      "====================TRAINING DATA===========================\n",
      "PRECISION :  1.0\n",
      "RECALL    :  1.0\n",
      "ACCURACY :  1.0\n",
      "F2 SCORE : 1.0\n",
      "====================VALIDATION DATA===========================\n",
      "PRECISION :  0.9551282051282052\n",
      "RECALL    :  0.9490445859872612\n",
      "ACCURACY :  0.9539877300613497\n",
      "F2 SCORE : 0.952076677316294\n",
      "====================TESTING DATA===========================\n",
      "PRECISION :  0.9807692307692307\n",
      "RECALL    :  0.95625\n",
      "ACCURACY :  0.9693251533742331\n",
      "F2 SCORE : 0.9683544303797469\n"
     ]
    }
   ],
   "source": [
    "train_pred = RFC.predict(X_train_pca)\n",
    "val_pred   = RFC.predict(X_val_pca)\n",
    "test_pred  = RFC.predict(X_test_pca)\n",
    "print('====================TRAINING DATA===========================')\n",
    "success(y_train , train_pred)\n",
    "print('====================VALIDATION DATA===========================')\n",
    "success(y_val , val_pred)\n",
    "print('====================TESTING DATA===========================')\n",
    "success(y_test , test_pred)"
   ]
  },
  {
   "cell_type": "code",
   "execution_count": 115,
   "metadata": {},
   "outputs": [],
   "source": [
    "from sklearn.model_selection import validation_curve"
   ]
  },
  {
   "cell_type": "code",
   "execution_count": 111,
   "metadata": {},
   "outputs": [],
   "source": [
    "param_range = np.arange(2, 10, 1)\n",
    "train_scores, val_scores = validation_curve(\n",
    "                                RandomForestClassifier(),\n",
    "                                X = X_train_pca, y = y_train, \n",
    "                                param_name = 'min_samples_split', \n",
    "                                param_range = param_range, cv = 3)"
   ]
  },
  {
   "cell_type": "code",
   "execution_count": 112,
   "metadata": {},
   "outputs": [
    {
     "data": {
      "image/png": "[encoded data removed]",
      "text/plain": [
       "<Figure size 432x288 with 1 Axes>"
      ]
     },
     "metadata": {
      "needs_background": "light"
     },
     "output_type": "display_data"
    }
   ],
   "source": [
    "train_mean = np.mean(train_scores, axis=1)\n",
    "train_std = np.std(train_scores, axis=1)\n",
    "val_mean = np.mean(val_scores, axis=1)\n",
    "val_std = np.std(val_scores, axis=1)\n",
    "\n",
    "# Plot mean accuracy scores for training and test sets\n",
    "plt.plot(param_range , train_mean, label=\"Training score\", color=\"red\")\n",
    "plt.plot(param_range, val_mean, label=\"Cross-validation score\", color=\"blue\")\n",
    "\n",
    "# Plot accurancy bands for training and test sets\n",
    "plt.fill_between(param_range, train_mean - train_std, train_mean + train_std, color=\"gray\")\n",
    "plt.fill_between(param_range, val_mean - val_std, val_mean + val_std, color=\"gainsboro\")\n",
    "\n",
    "# Create plot\n",
    "plt.title(\"Validation Curve With Random Forest\")\n",
    "plt.xlabel(\"min_samples_leaf\")\n",
    "plt.ylabel(\"Accuracy Score\")\n",
    "plt.tight_layout()\n",
    "plt.legend(loc=\"best\")\n",
    "plt.show()"
   ]
  },
  {
   "cell_type": "markdown",
   "metadata": {},
   "source": [
    "# NEURAL NETWORK"
   ]
  },
  {
   "cell_type": "code",
   "execution_count": 116,
   "metadata": {
    "scrolled": true
   },
   "outputs": [
    {
     "data": {
      "text/plain": [
       "MLPClassifier(activation='relu', alpha=0.0001, batch_size='auto', beta_1=0.9,\n",
       "              beta_2=0.999, early_stopping=False, epsilon=1e-08,\n",
       "              hidden_layer_sizes=(100,), learning_rate='constant',\n",
       "              learning_rate_init=0.001, max_fun=15000, max_iter=1000,\n",
       "              momentum=0.9, n_iter_no_change=10, nesterovs_momentum=True,\n",
       "              power_t=0.5, random_state=None, shuffle=True, solver='adam',\n",
       "              tol=0.0001, validation_fraction=0.1, verbose=False,\n",
       "              warm_start=False)"
      ]
     },
     "execution_count": 116,
     "metadata": {},
     "output_type": "execute_result"
    }
   ],
   "source": [
    "from sklearn.neural_network import MLPClassifier\n",
    "MLP = MLPClassifier(max_iter = 1000)\n",
    "MLP.fit(X_train_pca , y_train)"
   ]
  },
  {
   "cell_type": "code",
   "execution_count": 117,
   "metadata": {
    "scrolled": true
   },
   "outputs": [
    {
     "name": "stdout",
     "output_type": "stream",
     "text": [
      "====================TRAINING DATA===========================\n",
      "PRECISION :  1.0\n",
      "RECALL    :  1.0\n",
      "ACCURACY :  1.0\n",
      "F2 SCORE : 1.0\n",
      "====================VALIDATION DATA===========================\n",
      "PRECISION :  0.8757062146892656\n",
      "RECALL    :  0.9872611464968153\n",
      "ACCURACY :  0.9263803680981595\n",
      "F2 SCORE : 0.9281437125748504\n",
      "====================TESTING DATA===========================\n",
      "PRECISION :  0.8901734104046243\n",
      "RECALL    :  0.9625\n",
      "ACCURACY :  0.9233128834355828\n",
      "F2 SCORE : 0.924924924924925\n"
     ]
    }
   ],
   "source": [
    "train_pred = MLP.predict(X_train_pca)\n",
    "val_pred   = MLP.predict(X_val_pca)\n",
    "test_pred  = MLP.predict(X_test_pca)\n",
    "print('====================TRAINING DATA===========================')\n",
    "success(y_train , train_pred)\n",
    "print('====================VALIDATION DATA===========================')\n",
    "success(y_val , val_pred)\n",
    "print('====================TESTING DATA===========================')\n",
    "success(y_test , test_pred)"
   ]
  },
  {
   "cell_type": "markdown",
   "metadata": {},
   "source": [
    "# Stochastic Gradient Descent"
   ]
  },
  {
   "cell_type": "code",
   "execution_count": 23,
   "metadata": {
    "scrolled": true
   },
   "outputs": [
    {
     "data": {
      "text/plain": [
       "SGDClassifier(alpha=0.0001, average=False, class_weight=None,\n",
       "              early_stopping=False, epsilon=0.1, eta0=0.0, fit_intercept=True,\n",
       "              l1_ratio=0.15, learning_rate='optimal', loss='hinge',\n",
       "              max_iter=1000, n_iter_no_change=5, n_jobs=None, penalty='l2',\n",
       "              power_t=0.5, random_state=None, shuffle=True, tol=0.001,\n",
       "              validation_fraction=0.1, verbose=0, warm_start=False)"
      ]
     },
     "execution_count": 23,
     "metadata": {},
     "output_type": "execute_result"
    }
   ],
   "source": [
    "from sklearn.linear_model import SGDClassifier\n",
    "SGD = SGDClassifier()\n",
    "SGD.fit(X_train_pca , y_train)"
   ]
  },
  {
   "cell_type": "code",
   "execution_count": 24,
   "metadata": {
    "scrolled": true
   },
   "outputs": [
    {
     "name": "stdout",
     "output_type": "stream",
     "text": [
      "====================TRAINING DATA===========================\n",
      "PRECISION :  0.7132075471698113\n",
      "RECALL    :  0.8076923076923077\n",
      "ACCURACY :  0.7520491803278688\n",
      "F2 SCORE : 0.7575150300601203\n",
      "====================VALIDATION DATA===========================\n",
      "PRECISION :  0.6961325966850829\n",
      "RECALL    :  0.802547770700637\n",
      "ACCURACY :  0.7361963190184049\n",
      "F2 SCORE : 0.7455621301775148\n",
      "====================TESTING DATA===========================\n",
      "PRECISION :  0.6827956989247311\n",
      "RECALL    :  0.79375\n",
      "ACCURACY :  0.7177914110429447\n",
      "F2 SCORE : 0.7341040462427745\n"
     ]
    }
   ],
   "source": [
    "train_pred = SGD.predict(X_train_pca)\n",
    "val_pred   = SGD.predict(X_val_pca)\n",
    "test_pred  = SGD.predict(X_test_pca)\n",
    "print('====================TRAINING DATA===========================')\n",
    "success(y_train , train_pred)\n",
    "print('====================VALIDATION DATA===========================')\n",
    "success(y_val , val_pred)\n",
    "print('====================TESTING DATA===========================')\n",
    "success(y_test , test_pred)"
   ]
  },
  {
   "cell_type": "markdown",
   "metadata": {},
   "source": [
    "# HYPERPARAMETER TUNNING IN TOP THREE MEDELS"
   ]
  },
  {
   "cell_type": "code",
   "execution_count": 25,
   "metadata": {},
   "outputs": [],
   "source": [
    "from sklearn.model_selection import GridSearchCV"
   ]
  },
  {
   "cell_type": "code",
   "execution_count": 26,
   "metadata": {},
   "outputs": [
    {
     "data": {
      "text/plain": [
       "\"#MLP CLASSIFIER\\nparameters = {'solver': ['lbfgs'], 'max_iter': [1000,1100,1200,1300,1400,1500,1600,1700,1800,1900,2000 ], 'alpha': 10.0 ** -np.arange(1, 10), 'hidden_layer_sizes':np.arange(10, 15), 'random_state':[0,1,2,3,4,5,6,7,8,9]}\\nclf = GridSearchCV(MLPClassifier(), parameters, n_jobs=-1)\\n\\nclf.fit(X_train_pca, y_train)\\nprint(clf.score(X_train_pca, y_train))\\nprint(clf.best_params_)\\n\""
      ]
     },
     "execution_count": 26,
     "metadata": {},
     "output_type": "execute_result"
    }
   ],
   "source": [
    "'''#MLP CLASSIFIER\n",
    "parameters = {'solver': ['lbfgs'], 'max_iter': [1000,1100,1200,1300,1400,1500,1600,1700,1800,1900,2000 ], 'alpha': 10.0 ** -np.arange(1, 10), 'hidden_layer_sizes':np.arange(10, 15), 'random_state':[0,1,2,3,4,5,6,7,8,9]}\n",
    "clf = GridSearchCV(MLPClassifier(), parameters, n_jobs=-1)\n",
    "\n",
    "clf.fit(X_train_pca, y_train)\n",
    "print(clf.score(X_train_pca, y_train))\n",
    "print(clf.best_params_)\n",
    "'''"
   ]
  },
  {
   "cell_type": "code",
   "execution_count": 27,
   "metadata": {},
   "outputs": [],
   "source": [
    "param_grid = {\n",
    "    'bootstrap': [True],\n",
    "    'max_depth': [80, 90, 100, 110],\n",
    "    'max_features': [2, 3],\n",
    "    'min_samples_leaf': [3, 4, 5],\n",
    "    'min_samples_split': [8, 10, 12],\n",
    "    'n_estimators': [100, 200, 300, 1000]\n",
    "}"
   ]
  },
  {
   "cell_type": "markdown",
   "metadata": {},
   "source": [
    "# SAVING PREDICTIONS INTO CSV FILE \n"
   ]
  },
  {
   "cell_type": "code",
   "execution_count": 28,
   "metadata": {},
   "outputs": [],
   "source": [
    "assign_y =  SVC.predict(X_assign_pca)\n",
    "l = np.concatenate([np.array(assign.Id).reshape(470,1) , assign_y.reshape(470,1)] , axis=1)\n",
    "l = l.astype(int)\n",
    "j = pd.DataFrame(l)\n",
    "j.to_csv('svc_solution.csv', index=False, encoding='utf-8')"
   ]
  },
  {
   "cell_type": "code",
   "execution_count": 118,
   "metadata": {},
   "outputs": [],
   "source": [
    "assign_y_RFC =  RFC.predict(X_assign_pca)\n",
    "l = np.concatenate([np.array(assign.Id).reshape(470,1) , assign_y_RFC.reshape(470,1)] , axis=1)\n",
    "l = l.astype(int)\n",
    "j = pd.DataFrame(l)\n",
    "j.to_csv('RANDOM_FOREST_solution.csv', index=False, encoding='utf-8')"
   ]
  },
  {
   "cell_type": "code",
   "execution_count": 30,
   "metadata": {},
   "outputs": [],
   "source": [
    "assign_y_MLP =  MLP.predict(X_assign_pca)\n",
    "l = np.concatenate([np.array(assign.Id).reshape(470,1) , assign_y_MLP.reshape(470,1)] , axis=1)\n",
    "l = l.astype(int)\n",
    "j = pd.DataFrame(l)\n",
    "j.to_csv('NEURAL_solution.csv', index=False, encoding='utf-8')"
   ]
  }
 ],
 "metadata": {
  "kernelspec": {
   "display_name": "Python 3",
   "language": "python",
   "name": "python3"
  },
  "language_info": {
   "codemirror_mode": {
    "name": "ipython",
    "version": 3
   },
   "file_extension": ".py",
   "mimetype": "text/x-python",
   "name": "python",
   "nbconvert_exporter": "python",
   "pygments_lexer": "ipython3",
   "version": "3.7.6"
  }
 },
 "nbformat": 4,
 "nbformat_minor": 4
}
