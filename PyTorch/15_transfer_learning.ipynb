{
  "nbformat": 4,
  "nbformat_minor": 0,
  "metadata": {
    "colab": {
      "name": "Untitled",
      "provenance": [],
      "collapsed_sections": [],
      "authorship_tag": "ABX9TyPZnFqoDuCM7lM0/F68SMI0",
      "include_colab_link": true
    },
    "kernelspec": {
      "name": "python3",
      "display_name": "Python 3"
    },
    "accelerator": "GPU",
    "widgets": {
      "application/vnd.jupyter.widget-state+json": {
        "cb785f9880eb42c5bcc7c04a02e62dad": {
          "model_module": "@jupyter-widgets/controls",
          "model_name": "HBoxModel",
          "state": {
            "_view_name": "HBoxView",
            "_dom_classes": [],
            "_model_name": "HBoxModel",
            "_view_module": "@jupyter-widgets/controls",
            "_model_module_version": "1.5.0",
            "_view_count": null,
            "_view_module_version": "1.5.0",
            "box_style": "",
            "layout": "IPY_MODEL_092767e36f2d4ad3ab9a07f481bfd970",
            "_model_module": "@jupyter-widgets/controls",
            "children": [
              "IPY_MODEL_9a0fcc8af20d41b4b1b0991a1c72da4a",
              "IPY_MODEL_e5cf8716a9e746749ccc1efc44d2d2c1"
            ]
          }
        },
        "092767e36f2d4ad3ab9a07f481bfd970": {
          "model_module": "@jupyter-widgets/base",
          "model_name": "LayoutModel",
          "state": {
            "_view_name": "LayoutView",
            "grid_template_rows": null,
            "right": null,
            "justify_content": null,
            "_view_module": "@jupyter-widgets/base",
            "overflow": null,
            "_model_module_version": "1.2.0",
            "_view_count": null,
            "flex_flow": null,
            "width": null,
            "min_width": null,
            "border": null,
            "align_items": null,
            "bottom": null,
            "_model_module": "@jupyter-widgets/base",
            "top": null,
            "grid_column": null,
            "overflow_y": null,
            "overflow_x": null,
            "grid_auto_flow": null,
            "grid_area": null,
            "grid_template_columns": null,
            "flex": null,
            "_model_name": "LayoutModel",
            "justify_items": null,
            "grid_row": null,
            "max_height": null,
            "align_content": null,
            "visibility": null,
            "align_self": null,
            "height": null,
            "min_height": null,
            "padding": null,
            "grid_auto_rows": null,
            "grid_gap": null,
            "max_width": null,
            "order": null,
            "_view_module_version": "1.2.0",
            "grid_template_areas": null,
            "object_position": null,
            "object_fit": null,
            "grid_auto_columns": null,
            "margin": null,
            "display": null,
            "left": null
          }
        },
        "9a0fcc8af20d41b4b1b0991a1c72da4a": {
          "model_module": "@jupyter-widgets/controls",
          "model_name": "FloatProgressModel",
          "state": {
            "_view_name": "ProgressView",
            "style": "IPY_MODEL_50e95aa99b83446484976938bd964827",
            "_dom_classes": [],
            "description": "100%",
            "_model_name": "FloatProgressModel",
            "bar_style": "success",
            "max": 46827520,
            "_view_module": "@jupyter-widgets/controls",
            "_model_module_version": "1.5.0",
            "value": 46827520,
            "_view_count": null,
            "_view_module_version": "1.5.0",
            "orientation": "horizontal",
            "min": 0,
            "description_tooltip": null,
            "_model_module": "@jupyter-widgets/controls",
            "layout": "IPY_MODEL_452c3deecb0748b2a2755275897679c3"
          }
        },
        "e5cf8716a9e746749ccc1efc44d2d2c1": {
          "model_module": "@jupyter-widgets/controls",
          "model_name": "HTMLModel",
          "state": {
            "_view_name": "HTMLView",
            "style": "IPY_MODEL_9c6415624e484e17ab6aca74fceafa8c",
            "_dom_classes": [],
            "description": "",
            "_model_name": "HTMLModel",
            "placeholder": "​",
            "_view_module": "@jupyter-widgets/controls",
            "_model_module_version": "1.5.0",
            "value": " 44.7M/44.7M [00:00&lt;00:00, 129MB/s]",
            "_view_count": null,
            "_view_module_version": "1.5.0",
            "description_tooltip": null,
            "_model_module": "@jupyter-widgets/controls",
            "layout": "IPY_MODEL_769c46b0b55748ea9a2cd33ef4db837d"
          }
        },
        "50e95aa99b83446484976938bd964827": {
          "model_module": "@jupyter-widgets/controls",
          "model_name": "ProgressStyleModel",
          "state": {
            "_view_name": "StyleView",
            "_model_name": "ProgressStyleModel",
            "description_width": "initial",
            "_view_module": "@jupyter-widgets/base",
            "_model_module_version": "1.5.0",
            "_view_count": null,
            "_view_module_version": "1.2.0",
            "bar_color": null,
            "_model_module": "@jupyter-widgets/controls"
          }
        },
        "452c3deecb0748b2a2755275897679c3": {
          "model_module": "@jupyter-widgets/base",
          "model_name": "LayoutModel",
          "state": {
            "_view_name": "LayoutView",
            "grid_template_rows": null,
            "right": null,
            "justify_content": null,
            "_view_module": "@jupyter-widgets/base",
            "overflow": null,
            "_model_module_version": "1.2.0",
            "_view_count": null,
            "flex_flow": null,
            "width": null,
            "min_width": null,
            "border": null,
            "align_items": null,
            "bottom": null,
            "_model_module": "@jupyter-widgets/base",
            "top": null,
            "grid_column": null,
            "overflow_y": null,
            "overflow_x": null,
            "grid_auto_flow": null,
            "grid_area": null,
            "grid_template_columns": null,
            "flex": null,
            "_model_name": "LayoutModel",
            "justify_items": null,
            "grid_row": null,
            "max_height": null,
            "align_content": null,
            "visibility": null,
            "align_self": null,
            "height": null,
            "min_height": null,
            "padding": null,
            "grid_auto_rows": null,
            "grid_gap": null,
            "max_width": null,
            "order": null,
            "_view_module_version": "1.2.0",
            "grid_template_areas": null,
            "object_position": null,
            "object_fit": null,
            "grid_auto_columns": null,
            "margin": null,
            "display": null,
            "left": null
          }
        },
        "9c6415624e484e17ab6aca74fceafa8c": {
          "model_module": "@jupyter-widgets/controls",
          "model_name": "DescriptionStyleModel",
          "state": {
            "_view_name": "StyleView",
            "_model_name": "DescriptionStyleModel",
            "description_width": "",
            "_view_module": "@jupyter-widgets/base",
            "_model_module_version": "1.5.0",
            "_view_count": null,
            "_view_module_version": "1.2.0",
            "_model_module": "@jupyter-widgets/controls"
          }
        },
        "769c46b0b55748ea9a2cd33ef4db837d": {
          "model_module": "@jupyter-widgets/base",
          "model_name": "LayoutModel",
          "state": {
            "_view_name": "LayoutView",
            "grid_template_rows": null,
            "right": null,
            "justify_content": null,
            "_view_module": "@jupyter-widgets/base",
            "overflow": null,
            "_model_module_version": "1.2.0",
            "_view_count": null,
            "flex_flow": null,
            "width": null,
            "min_width": null,
            "border": null,
            "align_items": null,
            "bottom": null,
            "_model_module": "@jupyter-widgets/base",
            "top": null,
            "grid_column": null,
            "overflow_y": null,
            "overflow_x": null,
            "grid_auto_flow": null,
            "grid_area": null,
            "grid_template_columns": null,
            "flex": null,
            "_model_name": "LayoutModel",
            "justify_items": null,
            "grid_row": null,
            "max_height": null,
            "align_content": null,
            "visibility": null,
            "align_self": null,
            "height": null,
            "min_height": null,
            "padding": null,
            "grid_auto_rows": null,
            "grid_gap": null,
            "max_width": null,
            "order": null,
            "_view_module_version": "1.2.0",
            "grid_template_areas": null,
            "object_position": null,
            "object_fit": null,
            "grid_auto_columns": null,
            "margin": null,
            "display": null,
            "left": null
          }
        }
      }
    }
  },
  "cells": [
    {
      "cell_type": "markdown",
      "metadata": {
        "id": "view-in-github",
        "colab_type": "text"
      },
      "source": [
        "<a href=\"https://colab.research.google.com/github/aayush9753/LearningResources/blob/master/PyTorch/15_transfer_learning.ipynb\" target=\"_parent\"><img src=\"https://colab.research.google.com/assets/colab-badge.svg\" alt=\"Open In Colab\"/></a>"
      ]
    },
    {
      "cell_type": "code",
      "metadata": {
        "id": "GQ1Pb_HJyA7v"
      },
      "source": [
        "import torch\n",
        "import torch.nn as nn\n",
        "import torch.optim as optim\n",
        "from torch.optim import lr_scheduler\n",
        "import numpy as np\n",
        "import torchvision\n",
        "from torchvision import datasets, models, transforms\n",
        "import matplotlib.pyplot as plt\n",
        "import time\n",
        "import os\n",
        "import copy"
      ],
      "execution_count": 1,
      "outputs": []
    },
    {
      "cell_type": "code",
      "metadata": {
        "id": "B-pekteyILPK"
      },
      "source": [
        "mean = np.array([0.5, 0.5, 0.5])\n",
        "std = np.array([0.25, 0.25, 0.25])\n",
        "\n",
        "data_transforms = {\n",
        "    'train': transforms.Compose([\n",
        "        transforms.RandomResizedCrop(224),\n",
        "        transforms.RandomHorizontalFlip(),\n",
        "        transforms.ToTensor(),\n",
        "        transforms.Normalize(mean, std)\n",
        "    ]),\n",
        "    'val': transforms.Compose([\n",
        "        transforms.Resize(256),\n",
        "        transforms.CenterCrop(224),\n",
        "        transforms.ToTensor(),\n",
        "        transforms.Normalize(mean, std)\n",
        "    ]),\n",
        "}"
      ],
      "execution_count": 5,
      "outputs": []
    },
    {
      "cell_type": "code",
      "metadata": {
        "id": "H4JSySawCf4b",
        "outputId": "3473b354-1353-4c6e-f79c-b7ed72a5f240",
        "colab": {
          "base_uri": "https://localhost:8080/",
          "height": 34
        }
      },
      "source": [
        "from google.colab import drive\n",
        "drive.mount('/content/gdrive')\n",
        "\n"
      ],
      "execution_count": 8,
      "outputs": [
        {
          "output_type": "stream",
          "text": [
            "Drive already mounted at /content/gdrive; to attempt to forcibly remount, call drive.mount(\"/content/gdrive\", force_remount=True).\n"
          ],
          "name": "stdout"
        }
      ]
    },
    {
      "cell_type": "code",
      "metadata": {
        "id": "iFWWq7xnI-dc",
        "outputId": "ac34ba3d-6df2-4211-ee9c-a0426766f17c",
        "colab": {
          "base_uri": "https://localhost:8080/",
          "height": 34
        }
      },
      "source": [
        "PATH_OF_DATA= '/content/gdrive/\"My Drive\"/PyTorch/hymenoptera_data/'\n",
        "!ls {PATH_OF_DATA}"
      ],
      "execution_count": 14,
      "outputs": [
        {
          "output_type": "stream",
          "text": [
            "train  val\n"
          ],
          "name": "stdout"
        }
      ]
    },
    {
      "cell_type": "code",
      "metadata": {
        "id": "CmcaLPuY67wL",
        "outputId": "a78d644e-ebf6-426c-e0e7-aae2e1d71d11",
        "colab": {
          "base_uri": "https://localhost:8080/",
          "height": 34
        }
      },
      "source": [
        "data_dir = '/content/gdrive/My Drive/PyTorch/hymenoptera_data'\n",
        "image_datasets = {x: datasets.ImageFolder(os.path.join(data_dir, x),\n",
        "                                          data_transforms[x])\n",
        "                  for x in ['train', 'val']}\n",
        "dataloaders = {x: torch.utils.data.DataLoader(image_datasets[x], batch_size=4,\n",
        "                                             shuffle=True, num_workers=0)\n",
        "              for x in ['train', 'val']}\n",
        "dataset_sizes = {x: len(image_datasets[x]) for x in ['train', 'val']}\n",
        "class_names = image_datasets['train'].classes\n",
        "\n",
        "device = torch.device(\"cuda:0\" if torch.cuda.is_available() else \"cpu\")\n",
        "print(class_names)"
      ],
      "execution_count": 15,
      "outputs": [
        {
          "output_type": "stream",
          "text": [
            "['ants', 'bees']\n"
          ],
          "name": "stdout"
        }
      ]
    },
    {
      "cell_type": "code",
      "metadata": {
        "id": "eJs1sCCr7NnI",
        "outputId": "1554f6b8-6f59-48e6-cc8b-3a402ff093cf",
        "colab": {
          "base_uri": "https://localhost:8080/",
          "height": 148
        }
      },
      "source": [
        "def imshow(inp, title):\n",
        "    \"\"\"Imshow for Tensor.\"\"\"\n",
        "    inp = inp.numpy().transpose((1, 2, 0))\n",
        "    inp = std * inp + mean\n",
        "    inp = np.clip(inp, 0, 1)\n",
        "    plt.imshow(inp)\n",
        "    plt.title(title)\n",
        "    plt.show()\n",
        "\n",
        "\n",
        "# Get a batch of training data\n",
        "inputs, classes = next(iter(dataloaders['train']))\n",
        "\n",
        "# Make a grid from batch\n",
        "out = torchvision.utils.make_grid(inputs)\n",
        "\n",
        "imshow(out, title=[class_names[x] for x in classes])"
      ],
      "execution_count": 16,
      "outputs": [
        {
          "output_type": "display_data",
          "data": {
            "image/png": "[encoded data removed]",
            "text/plain": [
              "<Figure size 432x288 with 1 Axes>"
            ]
          },
          "metadata": {
            "tags": [],
            "needs_background": "light"
          }
        }
      ]
    },
    {
      "cell_type": "code",
      "metadata": {
        "id": "bWm5owDFA4e0"
      },
      "source": [
        "def train_model(model, criterion, optimizer, scheduler, num_epochs=25):\n",
        "    since = time.time()\n",
        "\n",
        "    best_model_wts = copy.deepcopy(model.state_dict())\n",
        "    best_acc = 0.0\n",
        "\n",
        "    for epoch in range(num_epochs):\n",
        "        print('Epoch {}/{}'.format(epoch, num_epochs - 1))\n",
        "        print('-' * 10)\n",
        "\n",
        "        # Each epoch has a training and validation phase\n",
        "        for phase in ['train', 'val']:\n",
        "            if phase == 'train':\n",
        "                model.train()  # Set model to training mode\n",
        "            else:\n",
        "                model.eval()   # Set model to evaluate mode\n",
        "\n",
        "            running_loss = 0.0\n",
        "            running_corrects = 0\n",
        "\n",
        "            # Iterate over data.\n",
        "            for inputs, labels in dataloaders[phase]:\n",
        "                inputs = inputs.to(device)\n",
        "                labels = labels.to(device)\n",
        "\n",
        "                # forward\n",
        "                # track history if only in train\n",
        "                with torch.set_grad_enabled(phase == 'train'):\n",
        "                    outputs = model(inputs)\n",
        "                    _, preds = torch.max(outputs, 1)\n",
        "                    loss = criterion(outputs, labels)\n",
        "\n",
        "                    # backward + optimize only if in training phase\n",
        "                    if phase == 'train':\n",
        "                        optimizer.zero_grad()\n",
        "                        loss.backward()\n",
        "                        optimizer.step()\n",
        "\n",
        "                # statistics\n",
        "                running_loss += loss.item() * inputs.size(0)\n",
        "                running_corrects += torch.sum(preds == labels.data)\n",
        "\n",
        "            if phase == 'train':\n",
        "                scheduler.step()\n",
        "\n",
        "            epoch_loss = running_loss / dataset_sizes[phase]\n",
        "            epoch_acc = running_corrects.double() / dataset_sizes[phase]\n",
        "\n",
        "            print('{} Loss: {:.4f} Acc: {:.4f}'.format(\n",
        "                phase, epoch_loss, epoch_acc))\n",
        "\n",
        "            # deep copy the model\n",
        "            if phase == 'val' and epoch_acc > best_acc:\n",
        "                best_acc = epoch_acc\n",
        "                best_model_wts = copy.deepcopy(model.state_dict())\n",
        "\n",
        "        print()\n",
        "\n",
        "    time_elapsed = time.time() - since\n",
        "    print('Training complete in {:.0f}m {:.0f}s'.format(\n",
        "        time_elapsed // 60, time_elapsed % 60))\n",
        "    print('Best val Acc: {:4f}'.format(best_acc))\n",
        "\n",
        "    # load best model weights\n",
        "    model.load_state_dict(best_model_wts)\n",
        "    return model\n"
      ],
      "execution_count": 17,
      "outputs": []
    },
    {
      "cell_type": "code",
      "metadata": {
        "id": "jDvT00OZA8Wu",
        "outputId": "81f0480c-5df6-4d6d-b50d-63239a2183a8",
        "colab": {
          "base_uri": "https://localhost:8080/",
          "height": 1000,
          "referenced_widgets": [
            "cb785f9880eb42c5bcc7c04a02e62dad",
            "092767e36f2d4ad3ab9a07f481bfd970",
            "9a0fcc8af20d41b4b1b0991a1c72da4a",
            "e5cf8716a9e746749ccc1efc44d2d2c1",
            "50e95aa99b83446484976938bd964827",
            "452c3deecb0748b2a2755275897679c3",
            "9c6415624e484e17ab6aca74fceafa8c",
            "769c46b0b55748ea9a2cd33ef4db837d"
          ]
        }
      },
      "source": [
        "#### Finetuning the convnet ####\n",
        "# Load a pretrained model and reset final fully connected layer.\n",
        "\n",
        "model = models.resnet18(pretrained=True)\n",
        "num_ftrs = model.fc.in_features\n",
        "# Here the size of each output sample is set to 2.\n",
        "# Alternatively, it can be generalized to nn.Linear(num_ftrs, len(class_names)).\n",
        "model.fc = nn.Linear(num_ftrs, 2)\n",
        "\n",
        "model = model.to(device)\n",
        "\n",
        "criterion = nn.CrossEntropyLoss()\n",
        "\n",
        "# Observe that all parameters are being optimized\n",
        "optimizer = optim.SGD(model.parameters(), lr=0.001)\n",
        "\n",
        "# StepLR Decays the learning rate of each parameter group by gamma every step_size epochs\n",
        "# Decay LR by a factor of 0.1 every 7 epochs\n",
        "# Learning rate scheduling should be applied after optimizer’s update\n",
        "# e.g., you should write your code this way:\n",
        "# for epoch in range(100):\n",
        "#     train(...)\n",
        "#     validate(...)\n",
        "#     scheduler.step()\n",
        "\n",
        "step_lr_scheduler = lr_scheduler.StepLR(optimizer, step_size=7, gamma=0.1)\n",
        "\n",
        "model = train_model(model, criterion, optimizer, step_lr_scheduler, num_epochs=25)\n"
      ],
      "execution_count": 18,
      "outputs": [
        {
          "output_type": "stream",
          "text": [
            "Downloading: \"https://download.pytorch.org/models/resnet18-5c106cde.pth\" to /root/.cache/torch/hub/checkpoints/resnet18-5c106cde.pth\n"
          ],
          "name": "stderr"
        },
        {
          "output_type": "display_data",
          "data": {
            "application/vnd.jupyter.widget-view+json": {
              "model_id": "cb785f9880eb42c5bcc7c04a02e62dad",
              "version_minor": 0,
              "version_major": 2
            },
            "text/plain": [
              "HBox(children=(FloatProgress(value=0.0, max=46827520.0), HTML(value='')))"
            ]
          },
          "metadata": {
            "tags": []
          }
        },
        {
          "output_type": "stream",
          "text": [
            "\n",
            "Epoch 0/24\n",
            "----------\n",
            "train Loss: 0.6717 Acc: 0.5902\n",
            "val Loss: 0.4560 Acc: 0.7908\n",
            "\n",
            "Epoch 1/24\n",
            "----------\n",
            "train Loss: 0.5152 Acc: 0.7500\n",
            "val Loss: 0.3325 Acc: 0.9150\n",
            "\n",
            "Epoch 2/24\n",
            "----------\n",
            "train Loss: 0.4484 Acc: 0.8074\n",
            "val Loss: 0.2647 Acc: 0.9477\n",
            "\n",
            "Epoch 3/24\n",
            "----------\n",
            "train Loss: 0.4177 Acc: 0.8033\n",
            "val Loss: 0.2229 Acc: 0.9477\n",
            "\n",
            "Epoch 4/24\n",
            "----------\n",
            "train Loss: 0.3800 Acc: 0.8402\n",
            "val Loss: 0.2042 Acc: 0.9542\n",
            "\n",
            "Epoch 5/24\n",
            "----------\n",
            "train Loss: 0.3903 Acc: 0.8238\n",
            "val Loss: 0.2054 Acc: 0.9412\n",
            "\n",
            "Epoch 6/24\n",
            "----------\n",
            "train Loss: 0.4111 Acc: 0.7951\n",
            "val Loss: 0.1783 Acc: 0.9673\n",
            "\n",
            "Epoch 7/24\n",
            "----------\n",
            "train Loss: 0.3702 Acc: 0.8361\n",
            "val Loss: 0.2072 Acc: 0.9346\n",
            "\n",
            "Epoch 8/24\n",
            "----------\n",
            "train Loss: 0.3674 Acc: 0.8361\n",
            "val Loss: 0.1769 Acc: 0.9673\n",
            "\n",
            "Epoch 9/24\n",
            "----------\n",
            "train Loss: 0.3803 Acc: 0.8074\n",
            "val Loss: 0.1759 Acc: 0.9673\n",
            "\n",
            "Epoch 10/24\n",
            "----------\n",
            "train Loss: 0.3140 Acc: 0.8689\n",
            "val Loss: 0.1655 Acc: 0.9673\n",
            "\n",
            "Epoch 11/24\n",
            "----------\n",
            "train Loss: 0.3950 Acc: 0.8156\n",
            "val Loss: 0.1760 Acc: 0.9608\n",
            "\n",
            "Epoch 12/24\n",
            "----------\n",
            "train Loss: 0.3938 Acc: 0.8361\n",
            "val Loss: 0.1758 Acc: 0.9477\n",
            "\n",
            "Epoch 13/24\n",
            "----------\n",
            "train Loss: 0.3547 Acc: 0.8238\n",
            "val Loss: 0.1727 Acc: 0.9673\n",
            "\n",
            "Epoch 14/24\n",
            "----------\n",
            "train Loss: 0.3937 Acc: 0.8074\n",
            "val Loss: 0.1795 Acc: 0.9608\n",
            "\n",
            "Epoch 15/24\n",
            "----------\n",
            "train Loss: 0.3852 Acc: 0.8320\n",
            "val Loss: 0.1733 Acc: 0.9673\n",
            "\n",
            "Epoch 16/24\n",
            "----------\n",
            "train Loss: 0.3267 Acc: 0.8730\n",
            "val Loss: 0.1819 Acc: 0.9412\n",
            "\n",
            "Epoch 17/24\n",
            "----------\n",
            "train Loss: 0.3515 Acc: 0.8443\n",
            "val Loss: 0.1853 Acc: 0.9412\n",
            "\n",
            "Epoch 18/24\n",
            "----------\n",
            "train Loss: 0.3541 Acc: 0.8320\n",
            "val Loss: 0.1837 Acc: 0.9477\n",
            "\n",
            "Epoch 19/24\n",
            "----------\n",
            "train Loss: 0.3192 Acc: 0.8525\n",
            "val Loss: 0.1791 Acc: 0.9673\n",
            "\n",
            "Epoch 20/24\n",
            "----------\n",
            "train Loss: 0.3331 Acc: 0.8402\n",
            "val Loss: 0.1734 Acc: 0.9608\n",
            "\n",
            "Epoch 21/24\n",
            "----------\n",
            "train Loss: 0.3446 Acc: 0.8770\n",
            "val Loss: 0.1784 Acc: 0.9477\n",
            "\n",
            "Epoch 22/24\n",
            "----------\n",
            "train Loss: 0.3121 Acc: 0.8525\n",
            "val Loss: 0.1748 Acc: 0.9673\n",
            "\n",
            "Epoch 23/24\n",
            "----------\n",
            "train Loss: 0.3717 Acc: 0.8197\n",
            "val Loss: 0.1759 Acc: 0.9477\n",
            "\n",
            "Epoch 24/24\n",
            "----------\n",
            "train Loss: 0.4282 Acc: 0.7828\n",
            "val Loss: 0.1706 Acc: 0.9608\n",
            "\n",
            "Training complete in 7m 11s\n",
            "Best val Acc: 0.967320\n"
          ],
          "name": "stdout"
        }
      ]
    },
    {
      "cell_type": "code",
      "metadata": {
        "id": "5IYr7FRHBCaJ",
        "outputId": "f17720fe-8432-432e-ffc3-2b4bf894f2de",
        "colab": {
          "base_uri": "https://localhost:8080/",
          "height": 1000
        }
      },
      "source": [
        "#### ConvNet as fixed feature extractor ####\n",
        "# Here, we need to freeze all the network except the final layer.\n",
        "# We need to set requires_grad == False to freeze the parameters so that the gradients are not computed in backward()\n",
        "model_conv = torchvision.models.resnet18(pretrained=True)\n",
        "for param in model_conv.parameters():\n",
        "    param.requires_grad = False\n",
        "\n",
        "# Parameters of newly constructed modules have requires_grad=True by default\n",
        "num_ftrs = model_conv.fc.in_features\n",
        "model_conv.fc = nn.Linear(num_ftrs, 2)\n",
        "\n",
        "model_conv = model_conv.to(device)\n",
        "\n",
        "criterion = nn.CrossEntropyLoss()\n",
        "\n",
        "# Observe that only parameters of final layer are being optimized as\n",
        "# opposed to before.\n",
        "optimizer_conv = optim.SGD(model_conv.fc.parameters(), lr=0.001, momentum=0.9)\n",
        "\n",
        "# Decay LR by a factor of 0.1 every 7 epochs\n",
        "exp_lr_scheduler = lr_scheduler.StepLR(optimizer_conv, step_size=7, gamma=0.1)\n",
        "\n",
        "model_conv = train_model(model_conv, criterion, optimizer_conv,\n",
        "                         exp_lr_scheduler, num_epochs=25)"
      ],
      "execution_count": 19,
      "outputs": [
        {
          "output_type": "stream",
          "text": [
            "Epoch 0/24\n",
            "----------\n",
            "train Loss: 0.6230 Acc: 0.6557\n",
            "val Loss: 0.2536 Acc: 0.9150\n",
            "\n",
            "Epoch 1/24\n",
            "----------\n",
            "train Loss: 0.7271 Acc: 0.6967\n",
            "val Loss: 0.2048 Acc: 0.9477\n",
            "\n",
            "Epoch 2/24\n",
            "----------\n",
            "train Loss: 0.4073 Acc: 0.8074\n",
            "val Loss: 0.2434 Acc: 0.9216\n",
            "\n",
            "Epoch 3/24\n",
            "----------\n",
            "train Loss: 0.6147 Acc: 0.7623\n",
            "val Loss: 0.1870 Acc: 0.9346\n",
            "\n",
            "Epoch 4/24\n",
            "----------\n",
            "train Loss: 0.6705 Acc: 0.7213\n",
            "val Loss: 0.2084 Acc: 0.9477\n",
            "\n",
            "Epoch 5/24\n",
            "----------\n",
            "train Loss: 0.4298 Acc: 0.8484\n",
            "val Loss: 0.1846 Acc: 0.9477\n",
            "\n",
            "Epoch 6/24\n",
            "----------\n",
            "train Loss: 0.3894 Acc: 0.8115\n",
            "val Loss: 0.2008 Acc: 0.9542\n",
            "\n",
            "Epoch 7/24\n",
            "----------\n",
            "train Loss: 0.4113 Acc: 0.8115\n",
            "val Loss: 0.2438 Acc: 0.9346\n",
            "\n",
            "Epoch 8/24\n",
            "----------\n",
            "train Loss: 0.2686 Acc: 0.8852\n",
            "val Loss: 0.2124 Acc: 0.9412\n",
            "\n",
            "Epoch 9/24\n",
            "----------\n",
            "train Loss: 0.2872 Acc: 0.8689\n",
            "val Loss: 0.2092 Acc: 0.9346\n",
            "\n",
            "Epoch 10/24\n",
            "----------\n",
            "train Loss: 0.4371 Acc: 0.8074\n",
            "val Loss: 0.1947 Acc: 0.9477\n",
            "\n",
            "Epoch 11/24\n",
            "----------\n",
            "train Loss: 0.3234 Acc: 0.8770\n",
            "val Loss: 0.2165 Acc: 0.9412\n",
            "\n",
            "Epoch 12/24\n",
            "----------\n",
            "train Loss: 0.3024 Acc: 0.8648\n",
            "val Loss: 0.1884 Acc: 0.9477\n",
            "\n",
            "Epoch 13/24\n",
            "----------\n",
            "train Loss: 0.3990 Acc: 0.8607\n",
            "val Loss: 0.1906 Acc: 0.9608\n",
            "\n",
            "Epoch 14/24\n",
            "----------\n",
            "train Loss: 0.4385 Acc: 0.8074\n",
            "val Loss: 0.2078 Acc: 0.9477\n",
            "\n",
            "Epoch 15/24\n",
            "----------\n",
            "train Loss: 0.3358 Acc: 0.8402\n",
            "val Loss: 0.1894 Acc: 0.9412\n",
            "\n",
            "Epoch 16/24\n",
            "----------\n",
            "train Loss: 0.4478 Acc: 0.7951\n",
            "val Loss: 0.1976 Acc: 0.9477\n",
            "\n",
            "Epoch 17/24\n",
            "----------\n",
            "train Loss: 0.2589 Acc: 0.8730\n",
            "val Loss: 0.1883 Acc: 0.9477\n",
            "\n",
            "Epoch 18/24\n",
            "----------\n",
            "train Loss: 0.2840 Acc: 0.8648\n",
            "val Loss: 0.2159 Acc: 0.9477\n",
            "\n",
            "Epoch 19/24\n",
            "----------\n",
            "train Loss: 0.3235 Acc: 0.8689\n",
            "val Loss: 0.2102 Acc: 0.9412\n",
            "\n",
            "Epoch 20/24\n",
            "----------\n",
            "train Loss: 0.3868 Acc: 0.8197\n",
            "val Loss: 0.2280 Acc: 0.9281\n",
            "\n",
            "Epoch 21/24\n",
            "----------\n",
            "train Loss: 0.2603 Acc: 0.8893\n",
            "val Loss: 0.2234 Acc: 0.9346\n",
            "\n",
            "Epoch 22/24\n",
            "----------\n",
            "train Loss: 0.2935 Acc: 0.8730\n",
            "val Loss: 0.2306 Acc: 0.9281\n",
            "\n",
            "Epoch 23/24\n",
            "----------\n",
            "train Loss: 0.4113 Acc: 0.8279\n",
            "val Loss: 0.2315 Acc: 0.9216\n",
            "\n",
            "Epoch 24/24\n",
            "----------\n",
            "train Loss: 0.3356 Acc: 0.8484\n",
            "val Loss: 0.2185 Acc: 0.9281\n",
            "\n",
            "Training complete in 2m 33s\n",
            "Best val Acc: 0.960784\n"
          ],
          "name": "stdout"
        }
      ]
    },
    {
      "cell_type": "code",
      "metadata": {
        "id": "gz2umlgSMOcS",
        "outputId": "049746b4-be71-4f00-9590-ed88b634e94b",
        "colab": {
          "base_uri": "https://localhost:8080/",
          "height": 34
        }
      },
      "source": [
        "model.fc.out_features"
      ],
      "execution_count": 22,
      "outputs": [
        {
          "output_type": "execute_result",
          "data": {
            "text/plain": [
              "2"
            ]
          },
          "metadata": {
            "tags": []
          },
          "execution_count": 22
        }
      ]
    },
    {
      "cell_type": "code",
      "metadata": {
        "id": "Z35gymR4MgTS"
      },
      "source": [
        ""
      ],
      "execution_count": null,
      "outputs": []
    }
  ]
}