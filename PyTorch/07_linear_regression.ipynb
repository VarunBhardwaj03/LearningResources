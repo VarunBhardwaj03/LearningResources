{
  "nbformat": 4,
  "nbformat_minor": 0,
  "metadata": {
    "colab": {
      "name": "7_linear_regression.ipynb",
      "provenance": [],
      "collapsed_sections": [],
      "authorship_tag": "ABX9TyOkjzAYBwmh/gofG3fDzNFG",
      "include_colab_link": true
    },
    "kernelspec": {
      "name": "python3",
      "display_name": "Python 3"
    }
  },
  "cells": [
    {
      "cell_type": "markdown",
      "metadata": {
        "id": "view-in-github",
        "colab_type": "text"
      },
      "source": [
        "<a href=\"https://colab.research.google.com/github/aayush9753/LearningResources/blob/master/PyTorch/7_linear_regression.ipynb\" target=\"_parent\"><img src=\"https://colab.research.google.com/assets/colab-badge.svg\" alt=\"Open In Colab\"/></a>"
      ]
    },
    {
      "cell_type": "code",
      "metadata": {
        "id": "Zhoge6Yv-VSH",
        "colab_type": "code",
        "colab": {}
      },
      "source": [
        "import torch \n",
        "import torch.nn as nn\n",
        "import numpy as np\n",
        "from sklearn import datasets\n",
        "from matplotlib import pyplot as plt"
      ],
      "execution_count": 21,
      "outputs": []
    },
    {
      "cell_type": "code",
      "metadata": {
        "id": "e8-Rp-VuJySE",
        "colab_type": "code",
        "colab": {}
      },
      "source": [
        "# 0) Prepare Data\n",
        "numpy_x,numpy_y = datasets.make_regression(n_samples=100,n_features=1,noise=20,random_state=4)"
      ],
      "execution_count": 22,
      "outputs": []
    },
    {
      "cell_type": "code",
      "metadata": {
        "id": "YmlnNSAqKa_P",
        "colab_type": "code",
        "colab": {}
      },
      "source": [
        "#cast to float tensor\n",
        "X = torch.from_numpy(numpy_x.astype(np.float32))\n",
        "Y = torch.from_numpy(numpy_y.astype(np.float32))\n",
        "y = Y.view([Y.shape[0],1])"
      ],
      "execution_count": 23,
      "outputs": []
    },
    {
      "cell_type": "code",
      "metadata": {
        "id": "RpqUcy7OKlZo",
        "colab_type": "code",
        "colab": {}
      },
      "source": [
        "n_samples , n_features = X.shape\n"
      ],
      "execution_count": 24,
      "outputs": []
    },
    {
      "cell_type": "code",
      "metadata": {
        "id": "an2Pc9MNLL5A",
        "colab_type": "code",
        "colab": {}
      },
      "source": [
        "# 1) Model\n",
        "#linear model : f = wx + b\n",
        "input_size = n_features\n",
        "output_size = 1\n",
        "model = nn.Linear(input_size,output_size)"
      ],
      "execution_count": 25,
      "outputs": []
    },
    {
      "cell_type": "code",
      "metadata": {
        "id": "Grxen9nFMTnA",
        "colab_type": "code",
        "colab": {}
      },
      "source": [
        "# Loss and Optimizers\n",
        "learning_rate = 0.01\n",
        "optimizer = torch.optim.SGD(model.parameters(),lr=learning_rate)\n",
        "criterion = nn.MSELoss()"
      ],
      "execution_count": 26,
      "outputs": []
    },
    {
      "cell_type": "code",
      "metadata": {
        "id": "6mWeJzhnNViM",
        "colab_type": "code",
        "colab": {
          "base_uri": "https://localhost:8080/",
          "height": 187
        },
        "outputId": "f8c08c49-eee2-4dd0-ccab-99749144b6a8"
      },
      "source": [
        "# 3)Training Loop\n",
        "num_epochs = 100\n",
        "for epoch in range(num_epochs):\n",
        "  #forward pass and loss\n",
        "  y_predicted = model(X)\n",
        "  loss = criterion(y_predicted,y)\n",
        "\n",
        "  #Backward pass and update\n",
        "  loss.backward()\n",
        "  optimizer.step()\n",
        "\n",
        "  # zero grad before new step\n",
        "  optimizer.zero_grad()\n",
        "\n",
        "  if (epoch+1) % 10 == 0:\n",
        "    print(f'Loss = {loss:0.4f} Epoch = {epoch+1}')"
      ],
      "execution_count": 29,
      "outputs": [
        {
          "output_type": "stream",
          "text": [
            "Loss = 4052.4617 Epoch = 10\n",
            "Loss = 2857.7297 Epoch = 20\n",
            "Loss = 2042.7209 Epoch = 30\n",
            "Loss = 1486.6375 Epoch = 40\n",
            "Loss = 1107.1460 Epoch = 50\n",
            "Loss = 848.1177 Epoch = 60\n",
            "Loss = 671.2809 Epoch = 70\n",
            "Loss = 550.5340 Epoch = 80\n",
            "Loss = 468.0711 Epoch = 90\n",
            "Loss = 411.7447 Epoch = 100\n"
          ],
          "name": "stdout"
        }
      ]
    },
    {
      "cell_type": "code",
      "metadata": {
        "id": "NH5ip7ktOuqU",
        "colab_type": "code",
        "colab": {
          "base_uri": "https://localhost:8080/",
          "height": 265
        },
        "outputId": "4e5cdf99-9183-4049-d7d1-f91c0c960b11"
      },
      "source": [
        "# Plot\n",
        "predicted = model(X).detach().numpy()\n",
        "\n",
        "plt.plot(numpy_x, numpy_y, 'ro')\n",
        "plt.plot(numpy_x, predicted, 'b')\n",
        "plt.show()"
      ],
      "execution_count": 33,
      "outputs": [
        {
          "output_type": "display_data",
          "data": {
            "image/png": "[encoded data removed]",
            "text/plain": [
              "<Figure size 432x288 with 1 Axes>"
            ]
          },
          "metadata": {
            "tags": [],
            "needs_background": "light"
          }
        }
      ]
    },
    {
      "cell_type": "code",
      "metadata": {
        "id": "UsqQL0yyPb0Z",
        "colab_type": "code",
        "colab": {}
      },
      "source": [
        ""
      ],
      "execution_count": null,
      "outputs": []
    }
  ]
}
