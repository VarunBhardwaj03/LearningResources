{
  "nbformat": 4,
  "nbformat_minor": 0,
  "metadata": {
    "colab": {
      "name": "6_B_model_loss_and_optimizer.ipynb",
      "provenance": [],
      "authorship_tag": "ABX9TyOzb+Ej+MvgiNHZhKbL+u/H",
      "include_colab_link": true
    },
    "kernelspec": {
      "name": "python3",
      "display_name": "Python 3"
    }
  },
  "cells": [
    {
      "cell_type": "markdown",
      "metadata": {
        "id": "view-in-github",
        "colab_type": "text"
      },
      "source": [
        "<a href=\"https://colab.research.google.com/github/aayush9753/LearningResources/blob/master/PyTorch/6_B_model_loss_and_optimizer.ipynb\" target=\"_parent\"><img src=\"https://colab.research.google.com/assets/colab-badge.svg\" alt=\"Open In Colab\"/></a>"
      ]
    },
    {
      "cell_type": "code",
      "metadata": {
        "id": "r-3QNFNm5iqY",
        "colab_type": "code",
        "colab": {}
      },
      "source": [
        "# 1) Design model (input, output, forward pass with different layers)\n",
        "# 2) Construct loss and optimizer\n",
        "# 3) Training loop\n",
        "#       - Forward = compute prediction and loss\n",
        "#       - Backward = compute gradients\n",
        "#       - Update weights\n",
        "import torch\n",
        "import torch.nn as nn"
      ],
      "execution_count": 19,
      "outputs": []
    },
    {
      "cell_type": "code",
      "metadata": {
        "id": "A83T5lpE5wDX",
        "colab_type": "code",
        "colab": {}
      },
      "source": [
        "# Linear regression\n",
        "# f = w * x \n",
        "\n",
        "# here : f = 2 * x\n",
        "\n",
        "# 0) Training samples, watch the shape!\n",
        "X = torch.tensor([[1], [2], [3], [4]], dtype=torch.float32)\n",
        "Y = torch.tensor([[2], [4], [6], [8]], dtype=torch.float32)"
      ],
      "execution_count": 20,
      "outputs": []
    },
    {
      "cell_type": "code",
      "metadata": {
        "id": "12ikbXOr66z0",
        "colab_type": "code",
        "colab": {
          "base_uri": "https://localhost:8080/",
          "height": 34
        },
        "outputId": "575017e8-cb10-4ffe-c217-07c53c066a3e"
      },
      "source": [
        "n_samples, n_features = X.shape\n",
        "print(f'#samples: {n_samples}, #features: {n_features}')"
      ],
      "execution_count": 21,
      "outputs": [
        {
          "output_type": "stream",
          "text": [
            "#samples: 4, #features: 1\n"
          ],
          "name": "stdout"
        }
      ]
    },
    {
      "cell_type": "code",
      "metadata": {
        "id": "_UDjLLwd52wS",
        "colab_type": "code",
        "colab": {}
      },
      "source": [
        "# 0) create a test sample\n",
        "X_test = torch.tensor([5.0], dtype=torch.float32)"
      ],
      "execution_count": 22,
      "outputs": []
    },
    {
      "cell_type": "code",
      "metadata": {
        "id": "tiaNt9sU6tWX",
        "colab_type": "code",
        "colab": {
          "base_uri": "https://localhost:8080/",
          "height": 69
        },
        "outputId": "92685665-9a48-4ee0-cb6a-90a60633b2ba"
      },
      "source": [
        "# 1) Design Model, the model has to implement the forward pass!\n",
        "# Here we can use a built-in model from PyTorch\n",
        "input_size = n_features\n",
        "output_size = n_features\n",
        "# we can call this model with samples X\n",
        "model = nn.Linear(in_features = input_size, out_features = output_size)\n",
        "'''class LinearRegression(nn.Module):\n",
        "    def __init__(self, input_dim, output_dim):\n",
        "        super(LinearRegression, self).__init__()\n",
        "        # define diferent layers\n",
        "        self.lin = nn.Linear(input_dim, output_dim)\n",
        "    def forward(self, x):\n",
        "        return self.lin(x)\n",
        "model = LinearRegression(input_size, output_size) '''"
      ],
      "execution_count": 23,
      "outputs": [
        {
          "output_type": "execute_result",
          "data": {
            "application/vnd.google.colaboratory.intrinsic+json": {
              "type": "string"
            },
            "text/plain": [
              "'class LinearRegression(nn.Module):\\n    def __init__(self, input_dim, output_dim):\\n        super(LinearRegression, self).__init__()\\n        # define diferent layers\\n        self.lin = nn.Linear(input_dim, output_dim)\\n    def forward(self, x):\\n        return self.lin(x)\\nmodel = LinearRegression(input_size, output_size) '"
            ]
          },
          "metadata": {
            "tags": []
          },
          "execution_count": 23
        }
      ]
    },
    {
      "cell_type": "code",
      "metadata": {
        "id": "DLkmUo7N9Uaw",
        "colab_type": "code",
        "colab": {
          "base_uri": "https://localhost:8080/",
          "height": 34
        },
        "outputId": "7a6ba6c2-ca2e-4df9-ca1f-2c3944fd2b73"
      },
      "source": [
        "print(f'Prediction before training: f(5) = {model(X_test).item():.3f}')"
      ],
      "execution_count": 24,
      "outputs": [
        {
          "output_type": "stream",
          "text": [
            "Prediction before training: f(5) = -4.201\n"
          ],
          "name": "stdout"
        }
      ]
    },
    {
      "cell_type": "code",
      "metadata": {
        "id": "cajiN28M-AMQ",
        "colab_type": "code",
        "colab": {}
      },
      "source": [
        "# 2) Define loss and optimizer\n",
        "learning_rate = 0.01\n",
        "n_iters = 100\n",
        "\n",
        "loss = nn.MSELoss()\n",
        "optimizer = torch.optim.SGD(model.parameters(), lr=learning_rate)"
      ],
      "execution_count": 25,
      "outputs": []
    },
    {
      "cell_type": "code",
      "metadata": {
        "id": "MPeEMAqd9PxC",
        "colab_type": "code",
        "colab": {
          "base_uri": "https://localhost:8080/",
          "height": 204
        },
        "outputId": "ef16c7a8-0516-4648-9454-520742723022"
      },
      "source": [
        "# 3) Training loop\n",
        "for epoch in range(n_iters):\n",
        "    # predict = forward pass with our model\n",
        "    y_predicted = model(X)\n",
        "\n",
        "    # loss\n",
        "    l = loss(Y, y_predicted)\n",
        "\n",
        "    # calculate gradients = backward pass\n",
        "    l.backward()\n",
        "\n",
        "    # update weights\n",
        "    optimizer.step()\n",
        "\n",
        "    # zero the gradients after updating\n",
        "    optimizer.zero_grad()\n",
        "\n",
        "    if epoch % 10 == 0:\n",
        "        [w, b] = model.parameters() # unpack parameters\n",
        "        print('epoch ', epoch+1, ': w = ', w[0][0].item(), ' loss = ', l)\n",
        "\n",
        "print(f'Prediction after training: f(5) = {model(X_test).item():.3f}')"
      ],
      "execution_count": 26,
      "outputs": [
        {
          "output_type": "stream",
          "text": [
            "epoch  1 : w =  -0.3162156939506531  loss =  tensor(63.0958, grad_fn=<MeanBackward0>)\n",
            "epoch  11 : w =  1.5068368911743164  loss =  tensor(1.6620, grad_fn=<MeanBackward0>)\n",
            "epoch  21 : w =  1.8036354780197144  loss =  tensor(0.0708, grad_fn=<MeanBackward0>)\n",
            "epoch  31 : w =  1.8548325300216675  loss =  tensor(0.0280, grad_fn=<MeanBackward0>)\n",
            "epoch  41 : w =  1.8664225339889526  loss =  tensor(0.0254, grad_fn=<MeanBackward0>)\n",
            "epoch  51 : w =  1.8715426921844482  loss =  tensor(0.0239, grad_fn=<MeanBackward0>)\n",
            "epoch  61 : w =  1.8755261898040771  loss =  tensor(0.0225, grad_fn=<MeanBackward0>)\n",
            "epoch  71 : w =  1.8792333602905273  loss =  tensor(0.0212, grad_fn=<MeanBackward0>)\n",
            "epoch  81 : w =  1.882805585861206  loss =  tensor(0.0199, grad_fn=<MeanBackward0>)\n",
            "epoch  91 : w =  1.8862682580947876  loss =  tensor(0.0188, grad_fn=<MeanBackward0>)\n",
            "Prediction after training: f(5) = 9.772\n"
          ],
          "name": "stdout"
        }
      ]
    },
    {
      "cell_type": "code",
      "metadata": {
        "id": "tLqJiqe8-FpW",
        "colab_type": "code",
        "colab": {}
      },
      "source": [
        ""
      ],
      "execution_count": null,
      "outputs": []
    }
  ]
}
